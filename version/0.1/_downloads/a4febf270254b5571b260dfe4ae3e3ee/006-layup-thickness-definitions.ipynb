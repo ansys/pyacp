{
  "cells": [
    {
      "cell_type": "markdown",
      "metadata": {},
      "source": [
        "# Thickness definition {#thickness_definition_example}\n\nThis example shows how the thickness of a ply can be defined by a\ngeometry or a lookup table. The example only shows the PyACP part of the\nsetup. For a complete composite analysis, see\n`pymapdl_workflow_example`{.interpreted-text role=\"ref\"}.\n"
      ]
    },
    {
      "cell_type": "markdown",
      "metadata": {},
      "source": [
        "# Import modules\n\nImport the standard library and third-party dependencies.\n"
      ]
    },
    {
      "cell_type": "code",
      "execution_count": null,
      "metadata": {
        "collapsed": false
      },
      "outputs": [],
      "source": [
        "import pathlib\nimport tempfile\n\nimport numpy as np\nimport pyvista"
      ]
    },
    {
      "cell_type": "markdown",
      "metadata": {},
      "source": [
        "Import the PyACP dependencies.\n"
      ]
    },
    {
      "cell_type": "code",
      "execution_count": null,
      "metadata": {
        "collapsed": false
      },
      "outputs": [],
      "source": [
        "from ansys.acp.core import PhysicalDimension, ThicknessType, launch_acp\nfrom ansys.acp.core.extras import FLAT_PLATE_SOLID_CAMERA, ExampleKeys, get_example_file"
      ]
    },
    {
      "cell_type": "markdown",
      "metadata": {},
      "source": [
        "# Start ACP and load the model\n"
      ]
    },
    {
      "cell_type": "markdown",
      "metadata": {},
      "source": [
        "Get the example file from the server.\n"
      ]
    },
    {
      "cell_type": "code",
      "execution_count": null,
      "metadata": {
        "collapsed": false
      },
      "outputs": [],
      "source": [
        "tempdir = tempfile.TemporaryDirectory()\nWORKING_DIR = pathlib.Path(tempdir.name)\ninput_file = get_example_file(ExampleKeys.MINIMAL_FLAT_PLATE, WORKING_DIR)"
      ]
    },
    {
      "cell_type": "markdown",
      "metadata": {},
      "source": [
        "Launch the PyACP server and connect to it.\n"
      ]
    },
    {
      "cell_type": "code",
      "execution_count": null,
      "metadata": {
        "collapsed": false
      },
      "outputs": [],
      "source": [
        "acp = launch_acp()"
      ]
    },
    {
      "cell_type": "markdown",
      "metadata": {},
      "source": [
        "Load the model from the input file. This example\\'s input file contains\na flat plate with a single ply.\n"
      ]
    },
    {
      "cell_type": "code",
      "execution_count": null,
      "metadata": {
        "collapsed": false
      },
      "outputs": [],
      "source": [
        "model = acp.import_model(input_file)\nprint(model.unit_system)\n\n\n# Plot the nominal ply thickness.\nmodeling_ply = model.modeling_groups[\"modeling_group\"].modeling_plies[\"ply\"]\nmodel.update()\nassert model.elemental_data.thickness is not None\nmodel.elemental_data.thickness.get_pyvista_mesh(mesh=model.mesh).plot(show_edges=True)"
      ]
    },
    {
      "cell_type": "markdown",
      "metadata": {},
      "source": [
        "# Define the thickness from a geometry\n"
      ]
    },
    {
      "cell_type": "markdown",
      "metadata": {},
      "source": [
        "Add the solid geometry to the model that defines the thickness.\n"
      ]
    },
    {
      "cell_type": "code",
      "execution_count": null,
      "metadata": {
        "collapsed": false
      },
      "outputs": [],
      "source": [
        "thickness_geometry_file = get_example_file(ExampleKeys.THICKNESS_GEOMETRY, WORKING_DIR)\nthickness_geometry = model.create_cad_geometry()\nthickness_geometry.refresh(thickness_geometry_file)\n\n# Note: It is important to update the model here, because the root_shapes of the\n# cad_geometry are not available until the model is updated.\nmodel.update()"
      ]
    },
    {
      "cell_type": "markdown",
      "metadata": {},
      "source": [
        "Create a virtual geometry from the CAD geometry.\n"
      ]
    },
    {
      "cell_type": "code",
      "execution_count": null,
      "metadata": {
        "collapsed": false
      },
      "outputs": [],
      "source": [
        "thickness_virtual_geometry = model.create_virtual_geometry(\n    name=\"thickness_virtual_geometry\", cad_components=thickness_geometry.root_shapes.values()\n)"
      ]
    },
    {
      "cell_type": "markdown",
      "metadata": {},
      "source": [
        "Set the thickness type to `FROM_GEOMETRY` and define the virtual\ngeometry.\n"
      ]
    },
    {
      "cell_type": "code",
      "execution_count": null,
      "metadata": {
        "collapsed": false
      },
      "outputs": [],
      "source": [
        "modeling_ply.thickness_type = ThicknessType.FROM_GEOMETRY\nmodeling_ply.thickness_geometry = thickness_virtual_geometry"
      ]
    },
    {
      "cell_type": "markdown",
      "metadata": {},
      "source": [
        "Plot the ply thickness together with the geometry defining the\nthickness.\n"
      ]
    },
    {
      "cell_type": "code",
      "execution_count": null,
      "metadata": {
        "collapsed": false
      },
      "outputs": [],
      "source": [
        "model.update()\nassert model.elemental_data.thickness is not None\nplotter = pyvista.Plotter()\n# Plot the surface of the geometry\ngeometry_polydata = thickness_geometry.visualization_mesh.to_pyvista()\nplotter.add_mesh(geometry_polydata, color=\"grey\", opacity=0.05)\n# Plot the edges of the geometry\nedges = geometry_polydata.extract_feature_edges()\nplotter.add_mesh(edges, color=\"white\", line_width=4)\nplotter.add_mesh(edges, color=\"black\", line_width=2)\n# Plot the ply thickness\nplotter.add_mesh(model.elemental_data.thickness.get_pyvista_mesh(mesh=model.mesh), show_edges=True)\nplotter.camera_position = FLAT_PLATE_SOLID_CAMERA\nplotter.show()"
      ]
    },
    {
      "cell_type": "markdown",
      "metadata": {},
      "source": [
        "# Define the thickness from a lookup table\n"
      ]
    },
    {
      "cell_type": "markdown",
      "metadata": {},
      "source": [
        "Create the data for the lookup table. Make a 20x20 grid of points to\ndefine a thickness function on. In this example, the mesh of the lookup\ntable is finer than the finite element mesh, and the thickness is\ninterpolated onto the finite element mesh. Note that the plate lies in\nthe xz plane and the thickness is defined in the y direction.\n"
      ]
    },
    {
      "cell_type": "code",
      "execution_count": null,
      "metadata": {
        "collapsed": false
      },
      "outputs": [],
      "source": [
        "plate_side_length = 0.01\nnum_points = 3\nx_coordinates = np.linspace(0, plate_side_length, num_points)\nz_coordinates = np.linspace(0, plate_side_length, num_points)\nxx, zz = np.meshgrid(x_coordinates, z_coordinates)"
      ]
    },
    {
      "cell_type": "markdown",
      "metadata": {},
      "source": [
        "Create a thickness that equals the distance to the center of the plate.\n"
      ]
    },
    {
      "cell_type": "code",
      "execution_count": null,
      "metadata": {
        "collapsed": false
      },
      "outputs": [],
      "source": [
        "center_x = 0.005\ncenter_z = 0.005\nthickness = np.sqrt((xx - center_x) ** 2 + (zz - center_z) ** 2).ravel()"
      ]
    },
    {
      "cell_type": "markdown",
      "metadata": {},
      "source": [
        "Create the point coordinates for the lookup table. The y coordinate is\nalways zero.\n"
      ]
    },
    {
      "cell_type": "code",
      "execution_count": null,
      "metadata": {
        "collapsed": false
      },
      "outputs": [],
      "source": [
        "points = np.stack(\n    [\n        xx.ravel(),\n        np.zeros(xx.ravel().shape),\n        zz.ravel(),\n    ],\n    axis=1,\n)"
      ]
    },
    {
      "cell_type": "markdown",
      "metadata": {},
      "source": [
        "Now you have a list of point coordinates:\n"
      ]
    },
    {
      "cell_type": "code",
      "execution_count": null,
      "metadata": {
        "collapsed": false
      },
      "outputs": [],
      "source": [
        "print(points)"
      ]
    },
    {
      "cell_type": "markdown",
      "metadata": {},
      "source": [
        "And the corresponding thickness values.\n"
      ]
    },
    {
      "cell_type": "code",
      "execution_count": null,
      "metadata": {
        "collapsed": false
      },
      "outputs": [],
      "source": [
        "print(thickness)"
      ]
    },
    {
      "cell_type": "markdown",
      "metadata": {},
      "source": [
        "Create the lookup table and add the coordinates and thickness data.\n"
      ]
    },
    {
      "cell_type": "code",
      "execution_count": null,
      "metadata": {
        "collapsed": false
      },
      "outputs": [],
      "source": [
        "lookup_table = model.create_lookup_table_3d()\nlookup_table.columns[\"Location\"].data = points\nthickness_column = lookup_table.create_column(\n    data=thickness, physical_dimension=PhysicalDimension.LENGTH\n)"
      ]
    },
    {
      "cell_type": "markdown",
      "metadata": {},
      "source": [
        "Set the thickness type to `FROM_TABLE` and assign the thickness column.\n"
      ]
    },
    {
      "cell_type": "code",
      "execution_count": null,
      "metadata": {
        "collapsed": false
      },
      "outputs": [],
      "source": [
        "modeling_ply.thickness_type = ThicknessType.FROM_TABLE\nmodeling_ply.thickness_field = thickness_column"
      ]
    },
    {
      "cell_type": "markdown",
      "metadata": {},
      "source": [
        "Plot the ply thickness.\n"
      ]
    },
    {
      "cell_type": "code",
      "execution_count": null,
      "metadata": {
        "collapsed": false
      },
      "outputs": [],
      "source": [
        "model.update()\nassert model.elemental_data.thickness is not None\nmodel.elemental_data.thickness.get_pyvista_mesh(mesh=model.mesh).plot(show_edges=True)"
      ]
    }
  ],
  "metadata": {
    "kernelspec": {
      "display_name": "Python 3",
      "language": "python",
      "name": "python3"
    },
    "language_info": {
      "codemirror_mode": {
        "name": "ipython",
        "version": 3
      },
      "file_extension": ".py",
      "mimetype": "text/x-python",
      "name": "python",
      "nbconvert_exporter": "python",
      "pygments_lexer": "ipython3",
      "version": "3.12.11"
    }
  },
  "nbformat": 4,
  "nbformat_minor": 0
}