{
  "cells": [
    {
      "cell_type": "markdown",
      "metadata": {},
      "source": [
        "# Sensor {#sensor_example}\n\nThe `.Sensor`{.interpreted-text role=\"class\"} capabilities to analyze\nthe composite structure is demonstrated in this example. A sensor is\nused to compute the weight, area, cost, etc. of the model or specific\nentities such as ply material, modeling ply, etc.\n"
      ]
    },
    {
      "cell_type": "markdown",
      "metadata": {},
      "source": [
        "# Import modules\n\nImport the standard library and third-party dependencies.\n"
      ]
    },
    {
      "cell_type": "code",
      "execution_count": null,
      "metadata": {
        "collapsed": false
      },
      "outputs": [],
      "source": [
        "import pathlib\nimport tempfile\n\nimport pyvista"
      ]
    },
    {
      "cell_type": "markdown",
      "metadata": {},
      "source": [
        "Import the PyACP dependencies.\n"
      ]
    },
    {
      "cell_type": "code",
      "execution_count": null,
      "metadata": {
        "collapsed": false
      },
      "outputs": [],
      "source": [
        "from ansys.acp.core import SensorType, UnitSystemType, launch_acp\nfrom ansys.acp.core.extras import RACE_CARE_NOSE_CAMERA_METER, ExampleKeys, get_example_file"
      ]
    },
    {
      "cell_type": "markdown",
      "metadata": {},
      "source": [
        "# Start ACP and load the model\n"
      ]
    },
    {
      "cell_type": "markdown",
      "metadata": {},
      "source": [
        "Get the example file from the server.\n"
      ]
    },
    {
      "cell_type": "code",
      "execution_count": null,
      "metadata": {
        "collapsed": false
      },
      "outputs": [],
      "source": [
        "tempdir = tempfile.TemporaryDirectory()\nWORKING_DIR = pathlib.Path(tempdir.name)\nacph5_input_file = get_example_file(ExampleKeys.RACE_CAR_NOSE_ACPH5, WORKING_DIR)"
      ]
    },
    {
      "cell_type": "markdown",
      "metadata": {},
      "source": [
        "Launch the PyACP server and connect to it.\n"
      ]
    },
    {
      "cell_type": "code",
      "execution_count": null,
      "metadata": {
        "collapsed": false
      },
      "outputs": [],
      "source": [
        "acp = launch_acp()"
      ]
    },
    {
      "cell_type": "markdown",
      "metadata": {},
      "source": [
        "Load the model from the input file which contains a formula 1 front wing\nwith layup. The plot shows the total laminate thickness per element.\n"
      ]
    },
    {
      "cell_type": "code",
      "execution_count": null,
      "metadata": {
        "collapsed": false
      },
      "outputs": [],
      "source": [
        "model = acp.import_model(acph5_input_file)\nmodel.unit_system = UnitSystemType.SI\nprint(model.unit_system)\nmodel.update()\n\nthickness_data = model.elemental_data.thickness\nif thickness_data is not None:\n    plotter = pyvista.Plotter()\n    plotter.add_mesh(thickness_data.get_pyvista_mesh(model.mesh), show_edges=False)\n    plotter.camera_position = RACE_CARE_NOSE_CAMERA_METER\n    plotter.show()"
      ]
    },
    {
      "cell_type": "markdown",
      "metadata": {},
      "source": [
        "Set price per area for all fabrics.\n"
      ]
    },
    {
      "cell_type": "code",
      "execution_count": null,
      "metadata": {
        "collapsed": false
      },
      "outputs": [],
      "source": [
        "model.fabrics[\"UD\"].area_price = 15  # $/m^2\nmodel.fabrics[\"woven\"].area_price = 23  # $/m^2\nmodel.fabrics[\"core_4mm\"].area_price = 7  # $/m^2"
      ]
    },
    {
      "cell_type": "markdown",
      "metadata": {},
      "source": [
        "# Sensor by area\n"
      ]
    },
    {
      "cell_type": "markdown",
      "metadata": {},
      "source": [
        "# Entire Model\n\nThe first sensor is applied to the entire model to compute for example\nthe total weight, area of production material, and material cost.\n"
      ]
    },
    {
      "cell_type": "code",
      "execution_count": null,
      "metadata": {
        "collapsed": false
      },
      "outputs": [],
      "source": [
        "sensor_by_area = model.create_sensor(\n    name=\"By Area\",\n    sensor_type=SensorType.SENSOR_BY_AREA,\n    entities=[model.element_sets[\"All_Elements\"]],\n)"
      ]
    },
    {
      "cell_type": "markdown",
      "metadata": {},
      "source": [
        "Update the model to compute the sensor values.\n"
      ]
    },
    {
      "cell_type": "code",
      "execution_count": null,
      "metadata": {
        "collapsed": false
      },
      "outputs": [],
      "source": [
        "model.update()\n\n\ndef print_measures(my_sensor):\n    print(f\"Price: {my_sensor.price:.2f} $\")\n    print(f\"Weight: {my_sensor.weight:.2f} kg\")\n    print(f\"Covered area: {my_sensor.covered_area:.2f} m\u00b2\")\n    print(f\"Production ply area: {my_sensor.production_ply_area:.2f} m\u00b2\")\n    cog = my_sensor.center_of_gravity\n    print(f\"Center of gravity: ({cog[0]:.2f}, {cog[1]:.2f}, {cog[2]:.2f}) m\")"
      ]
    },
    {
      "cell_type": "markdown",
      "metadata": {},
      "source": [
        "Print the values. The `production ply area` is the area of production\nmaterial.\n"
      ]
    },
    {
      "cell_type": "code",
      "execution_count": null,
      "metadata": {
        "collapsed": false
      },
      "outputs": [],
      "source": [
        "print_measures(sensor_by_area)"
      ]
    },
    {
      "cell_type": "markdown",
      "metadata": {},
      "source": [
        "# Scope to a specific component\n\nCompute the measures for the nose only. Note that\n`.OrientedSelectionSet`{.interpreted-text role=\"class\"} can also be used\nto scope the sensor.\n"
      ]
    },
    {
      "cell_type": "code",
      "execution_count": null,
      "metadata": {
        "collapsed": false
      },
      "outputs": [],
      "source": [
        "eset_nose = model.element_sets[\"els_nose\"]\nsensor_by_area.entities = [eset_nose]\nmodel.update()\nprint_measures(sensor_by_area)\nplotter = pyvista.Plotter()\nplotter.add_mesh(eset_nose.mesh.to_pyvista(), show_edges=False, opacity=1, color=\"turquoise\")\nplotter.add_mesh(model.mesh.to_pyvista(), show_edges=False, opacity=0.2)\nplotter.camera_position = RACE_CARE_NOSE_CAMERA_METER\nplotter.show()"
      ]
    },
    {
      "cell_type": "markdown",
      "metadata": {},
      "source": [
        "# Sensor by material\n\nA sensor can also be used to compute the amount of a certain ply\nmaterial (`.Fabric`{.interpreted-text role=\"class\"},\n`.Stackup`{.interpreted-text role=\"class\"},\n`.SubLaminate`{.interpreted-text role=\"class\"}).\n"
      ]
    },
    {
      "cell_type": "code",
      "execution_count": null,
      "metadata": {
        "collapsed": false
      },
      "outputs": [],
      "source": [
        "sensor_by_material = model.create_sensor(\n    name=\"By Material\",\n    sensor_type=SensorType.SENSOR_BY_MATERIAL,\n    entities=[model.fabrics[\"UD\"]],\n)\nprint_measures(sensor_by_area)"
      ]
    },
    {
      "cell_type": "markdown",
      "metadata": {},
      "source": [
        "# Sensor by ply\n\nA sensor can also be scoped to a specific ply or a list of plies. In\nthis example, a ply of the suction side and a ply of the pressure side\nof wing 3 are selected.\n"
      ]
    },
    {
      "cell_type": "code",
      "execution_count": null,
      "metadata": {
        "collapsed": false
      },
      "outputs": [],
      "source": [
        "mg = model.modeling_groups[\"wing_3\"]\nmodeling_plies = [\n    mg.modeling_plies[\"mp.wing_3.1_suction\"],\n    mg.modeling_plies[\"mp.wing_3.1_pressure.2\"],\n]\nsensor_by_ply = model.create_sensor(\n    name=\"By Ply\",\n    sensor_type=SensorType.SENSOR_BY_PLIES,\n    entities=modeling_plies,\n)\nmodel.update()\nprint_measures(sensor_by_ply)\nplotter = pyvista.Plotter()\nfor ply in modeling_plies:\n    plotter.add_mesh(ply.mesh.to_pyvista(), show_edges=False, opacity=1, color=\"turquoise\")\nplotter.add_mesh(model.mesh.to_pyvista(), show_edges=False, opacity=0.2)\nplotter.camera_position = RACE_CARE_NOSE_CAMERA_METER\nplotter.show()"
      ]
    }
  ],
  "metadata": {
    "kernelspec": {
      "display_name": "Python 3",
      "language": "python",
      "name": "python3"
    },
    "language_info": {
      "codemirror_mode": {
        "name": "ipython",
        "version": 3
      },
      "file_extension": ".py",
      "mimetype": "text/x-python",
      "name": "python",
      "nbconvert_exporter": "python",
      "pygments_lexer": "ipython3",
      "version": "3.12.11"
    }
  },
  "nbformat": 4,
  "nbformat_minor": 0
}