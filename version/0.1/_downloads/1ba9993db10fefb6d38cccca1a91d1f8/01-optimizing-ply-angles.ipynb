{
  "cells": [
    {
      "cell_type": "markdown",
      "metadata": {},
      "source": [
        "# Optimizing ply angles {#optimization_example}\n\nThis example demonstrates how to use the ACP, MAPDL, and DPF servers to\noptimize the ply angles in a composite lay-up. The optimization aims to\nminimize the maximum inverse reserve factor (IRF) of the composite\nstructure under two load cases.\n\nThe example uses the `scipy.optimize.minimize`{.interpreted-text\nrole=\"py:func\"} function to perform the optimization. While the\nprocedure itself is not the focus of this example and could be improved,\nit demonstrates the process of optimizing a composite lay-up with PyACP.\n"
      ]
    },
    {
      "cell_type": "markdown",
      "metadata": {},
      "source": [
        "# Import modules and setup\n\nTo setup the environment for this optimization example, you must perform\nthese steps which are covered in the subsequent example code:\n\n-   Import the required libraries.\n-   Launch the ACP, MAPDL, and DPF servers.\n-   Create a temporary directory to store the input and output files.\n"
      ]
    },
    {
      "cell_type": "markdown",
      "metadata": {},
      "source": [
        "Import the standard library and third-party dependencies.\n"
      ]
    },
    {
      "cell_type": "code",
      "execution_count": null,
      "metadata": {
        "collapsed": false
      },
      "outputs": [],
      "source": [
        "from functools import partial\nimport pathlib\nimport random\nimport tempfile\n\nfrom matplotlib import patches\nimport matplotlib.pyplot as plt\nimport numpy as np\nfrom scipy.optimize import minimize"
      ]
    },
    {
      "cell_type": "markdown",
      "metadata": {},
      "source": [
        "Import Ansys libraries\n"
      ]
    },
    {
      "cell_type": "code",
      "execution_count": null,
      "metadata": {
        "collapsed": false
      },
      "outputs": [],
      "source": [
        "import ansys.acp.core as pyacp\nfrom ansys.acp.core.extras import ExampleKeys, get_example_file\nimport ansys.dpf.composites as pydpf_composites\nimport ansys.mapdl.core as pymapdl"
      ]
    },
    {
      "cell_type": "markdown",
      "metadata": {},
      "source": [
        "Launch the PyACP server.\n"
      ]
    },
    {
      "cell_type": "code",
      "execution_count": null,
      "metadata": {
        "collapsed": false
      },
      "outputs": [],
      "source": [
        "acp_instance = pyacp.launch_acp()\nacp_instance.clear()"
      ]
    },
    {
      "cell_type": "markdown",
      "metadata": {},
      "source": [
        "Launch the MAPDL server.\n"
      ]
    },
    {
      "cell_type": "code",
      "execution_count": null,
      "metadata": {
        "collapsed": false
      },
      "outputs": [],
      "source": [
        "mapdl = pymapdl.launch_mapdl()"
      ]
    },
    {
      "cell_type": "markdown",
      "metadata": {},
      "source": [
        "Launch the DPF server.\n"
      ]
    },
    {
      "cell_type": "code",
      "execution_count": null,
      "metadata": {
        "collapsed": false
      },
      "outputs": [],
      "source": [
        "dpf_server = pydpf_composites.server_helpers.connect_to_or_start_server()"
      ]
    },
    {
      "cell_type": "markdown",
      "metadata": {},
      "source": [
        "Create a temporary directory to store the input and output files.\n"
      ]
    },
    {
      "cell_type": "code",
      "execution_count": null,
      "metadata": {
        "collapsed": false
      },
      "outputs": [],
      "source": [
        "tmpdir = tempfile.TemporaryDirectory()\nworkdir = pathlib.Path(tmpdir.name)"
      ]
    },
    {
      "cell_type": "markdown",
      "metadata": {},
      "source": [
        "# Prepare the ACP model\n\nThis example uses the `optimization_model.dat` file, which contains a\nsimple ACP model of a rounded square tube.\n\nThe `prepare_acp_model` function imports the `optimization_model.dat`\nfile into a new ACP model and creates a lay-up with six plies. It\nreturns the `.Model`{.interpreted-text role=\"class\"} instance.\n"
      ]
    },
    {
      "cell_type": "code",
      "execution_count": null,
      "metadata": {
        "collapsed": false
      },
      "outputs": [],
      "source": [
        "input_file = get_example_file(\n    example_key=ExampleKeys.OPTIMIZATION_EXAMPLE_DAT,\n    working_directory=workdir,\n)\n\n\ndef prepare_acp_model(*, acp, input_file):\n    # Import the DAT input file into a new ACP model\n    model = acp.import_model(\n        input_file,\n        format=\"ansys:dat\",\n    )\n    model.name = \"optimization_example\"\n\n    element_set = model.element_sets[\"All_Elements\"]\n    material = model.create_material(\n        name=\"Epoxy_Carbon_Woven_230GPa_Prepreg\",\n        ply_type=pyacp.PlyType.WOVEN,\n        engineering_constants=(\n            pyacp.material_property_sets.ConstantEngineeringConstants.from_orthotropic_constants(\n                E1=6.134e10,\n                E2=6.134e10,\n                E3=6.9e9,\n                nu12=0.04,\n                nu23=0.3,\n                nu13=0.3,\n                G12=1.95e10,\n                G23=2.7e9,\n                G31=2.7e9,\n            )\n        ),\n        stress_limits=(\n            pyacp.material_property_sets.ConstantStressLimits.from_orthotropic_constants(\n                Xt=8.05e8,\n                Yt=8.05e8,\n                Zt=5.0e7,\n                Xc=-5.09e8,\n                Yc=-5.09e8,\n                Zc=-1.7e8,\n                Sxy=1.25e8,\n                Syz=6.5e7,\n                Sxz=6.5e7,\n            )\n        ),\n    )\n    fabric = model.create_fabric(\n        material=material,\n        thickness=0.000254,  # 0.01 in\n        name=\"Epoxy_Carbon_Woven_230GPa_Prepreg_0.01in\",\n    )\n    rosette = model.create_rosette(\n        origin=(0.0026, 0.0000, 0.0119),\n        dir1=(0.0, 0.0, -1.0),\n        dir2=(1.0, 0.0, 0.0),\n    )\n    oss = model.create_oriented_selection_set(\n        element_sets=[element_set],\n        orientation_point=(0.0021, 0.0, 0.0111),\n        orientation_direction=(0, -1, 0),\n        rosette_selection_method=pyacp.RosetteSelectionMethod.MINIMUM_ANGLE,\n        rosettes=[rosette],\n    )\n\n    modeling_group = model.create_modeling_group(name=\"Modeling_Group\")\n\n    for _ in range(6):\n        modeling_group.create_modeling_ply(\n            ply_material=fabric,\n            oriented_selection_sets=[oss],\n            number_of_layers=1,\n        )\n    model.update()\n    return model"
      ]
    },
    {
      "cell_type": "markdown",
      "metadata": {},
      "source": [
        "Create the ACP model and visualize the first ply\\'s fiber direction.\n"
      ]
    },
    {
      "cell_type": "code",
      "execution_count": null,
      "metadata": {
        "collapsed": false
      },
      "outputs": [],
      "source": [
        "model = prepare_acp_model(acp=acp_instance, input_file=input_file)\nply = list(model.modeling_groups[\"Modeling_Group\"].modeling_plies.values())[0]\npyacp.get_directions_plotter(\n    model=model,\n    components=[ply.elemental_data.fiber_direction],\n    length_factor=5.0,\n    culling_factor=5,\n).show()"
      ]
    },
    {
      "cell_type": "markdown",
      "metadata": {},
      "source": [
        "# Create functions for the optimization\n\nTo optimize the ply angles, you must define functions to update, solve,\nand postprocess the ACP model for a given set of ply angles.\n\nThe `update_ply_angles()` function changes the ply angles in the model\nto the given values and updates the model.\n"
      ]
    },
    {
      "cell_type": "code",
      "execution_count": null,
      "metadata": {
        "collapsed": false
      },
      "outputs": [],
      "source": [
        "def update_ply_angles(*, model, parameters):\n    modeling_plies = list(model.modeling_groups[\"Modeling_Group\"].modeling_plies.values())\n    assert len(modeling_plies) == len(parameters)\n    for angle, modeling_ply in zip(parameters, modeling_plies):\n        modeling_ply.ply_angle = angle\n\n    model.update()\n\n\nupdate_ply_angles(model=model, parameters=[0, 45, 90, 135, 180, 225])"
      ]
    },
    {
      "cell_type": "markdown",
      "metadata": {},
      "source": [
        "The `solve_cdb()` function solves the CDB file with MAPDL and returns\nthe path to the RST file.\n"
      ]
    },
    {
      "cell_type": "code",
      "execution_count": null,
      "metadata": {
        "collapsed": false
      },
      "outputs": [],
      "source": [
        "def solve_cdb(*, mapdl, cdb_file, workdir):\n    mapdl.clear()\n    mapdl.input(str(cdb_file))\n    # Solve the model. Note that the model contains two timesteps.\n    mapdl.allsel()\n    mapdl.slashsolu()\n    mapdl.time(1.0)\n    mapdl.solve()\n    mapdl.time(2.0)\n    mapdl.solve()\n\n    # Download the RST file for further postprocessing\n    rstfile_name = f\"{mapdl.jobname}.rst\"\n    rst_file_local_path = workdir / rstfile_name\n    mapdl.download(rstfile_name, str(workdir))\n    return rst_file_local_path\n\n\ncdb_file_path = workdir / \"optimization_example.cdb\"\nmodel.export_analysis_model(cdb_file_path)\nrst_file = solve_cdb(mapdl=mapdl, cdb_file=cdb_file_path, workdir=workdir)"
      ]
    },
    {
      "cell_type": "markdown",
      "metadata": {},
      "source": [
        "The `get_max_irf()` function uses PyDPF - Composites to calculate the\nmaximum inverse reserve factor (IRF) for a given RST, composite\ndefinitions, or materials file.\n\nThis function only considers the maximum stress failure criterion.\n"
      ]
    },
    {
      "cell_type": "code",
      "execution_count": null,
      "metadata": {
        "collapsed": false
      },
      "outputs": [],
      "source": [
        "max_stress_criterion = pydpf_composites.failure_criteria.MaxStressCriterion()\ncombined_failure_criterion = pydpf_composites.failure_criteria.CombinedFailureCriterion(\n    name=\"Combined Failure Criterion\",\n    failure_criteria=[max_stress_criterion],\n)\nmaterials_file_path = workdir / \"materials.xml\"\nmodel.export_materials(materials_file_path)\n\n\ndef get_max_irf(\n    *,\n    model,\n    dpf_server,\n    rst_file,\n    failure_criterion,\n):\n    composite_definitions_file = workdir / \"ACPCompositeDefinitions.h5\"\n    model.export_shell_composite_definitions(composite_definitions_file)\n    # Create the composite model and configure its input\n    composite_model = pydpf_composites.composite_model.CompositeModel(\n        composite_files=pydpf_composites.data_sources.ContinuousFiberCompositesFiles(\n            rst=rst_file,\n            composite={\n                \"shell\": pydpf_composites.data_sources.CompositeDefinitionFiles(\n                    composite_definitions_file\n                )\n            },\n            engineering_data=materials_file_path,\n        ),\n        server=dpf_server,\n    )\n\n    def get_max_irf_for_time(time):\n        \"\"\"Compute the maximum IRF for a given time step.\"\"\"\n        output_all_elements = composite_model.evaluate_failure_criteria(\n            failure_criterion,\n            composite_scope=pydpf_composites.composite_scope.CompositeScope(time=time),\n        )\n        irf_field = output_all_elements.get_field(\n            {\"failure_label\": pydpf_composites.constants.FailureOutput.FAILURE_VALUE}\n        )\n        return irf_field.max().data[0]\n\n    return max(\n        get_max_irf_for_time(time) for time in composite_model.get_result_times_or_frequencies()\n    )\n\n\nget_max_irf(\n    model=model,\n    dpf_server=dpf_server,\n    rst_file=rst_file,\n    failure_criterion=combined_failure_criterion,\n)"
      ]
    },
    {
      "cell_type": "markdown",
      "metadata": {},
      "source": [
        "# Optimize the ply angles\n\nFor the optimization, you must define a single function that takes the\nply angles as its input and returns the maximum IRF. The\n`get_max_irf_for_parameters()` function combines the previously defined\nfunctions to perform all the necessary steps for a given set of ply\nangles.\n"
      ]
    },
    {
      "cell_type": "code",
      "execution_count": null,
      "metadata": {
        "collapsed": false
      },
      "outputs": [],
      "source": [
        "def get_max_irf_for_parameters(\n    parameters, *, model, mapdl, dpf_server, failure_criterion, workdir, results\n):\n    update_ply_angles(model=model, parameters=parameters)\n    cdb_file_path = workdir / \"optimization_example.cdb\"\n    model.export_analysis_model(cdb_file_path)\n    rst_file = solve_cdb(mapdl=mapdl, cdb_file=cdb_file_path, workdir=workdir)\n    res = get_max_irf(\n        model=model,\n        dpf_server=dpf_server,\n        rst_file=rst_file,\n        failure_criterion=failure_criterion,\n    )\n    results.append(res)\n    print(f\"Parameters: {parameters}, Max IRF: {res}\")\n    return res"
      ]
    },
    {
      "cell_type": "markdown",
      "metadata": {},
      "source": [
        "To inject the `acp_workflow`, `mapdl`, `dpf_server`, and `workdir`\narguments into the `get_max_irf_for_parameters()` function, you can use\nthe `functools.partial()` function.\n"
      ]
    },
    {
      "cell_type": "code",
      "execution_count": null,
      "metadata": {
        "collapsed": false
      },
      "outputs": [],
      "source": [
        "results: list[float] = []\noptimization_function = partial(\n    get_max_irf_for_parameters,\n    model=model,\n    mapdl=mapdl,\n    dpf_server=dpf_server,\n    failure_criterion=combined_failure_criterion,\n    workdir=workdir,\n    results=results,\n)\noptimization_function([0, 45, 90, 135, 180, 225])"
      ]
    },
    {
      "cell_type": "markdown",
      "metadata": {},
      "source": [
        "For the optimization, you can use the Nelder-Mead method available in\nthe `scipy.optimize.minimize()` function. This is a downhill simplex\nalgorithm that does not require the gradient of the objective function.\nIt is suitable for finding a local minimum of the objective function.\n\nTo have the Nelder-Mead method cover a reasonable part of the parameter\nspace, define an initial simplex (matrix of shape (n+1, n), where n is\nthe number of parameters).\n\nThe initial simplex is chosen with random ply angles between 0 and 90\ndegrees. To make the results reproducible, the random seed is fixed.\n"
      ]
    },
    {
      "cell_type": "code",
      "execution_count": null,
      "metadata": {
        "collapsed": false
      },
      "outputs": [],
      "source": [
        "random.seed(42)\ninitial_simplex = [[random.uniform(0, 90) for _ in range(6)] for _ in range(7)]"
      ]
    },
    {
      "cell_type": "markdown",
      "metadata": {},
      "source": [
        "To build this example, the number of function evaluations is limited\nto 1. In practice, you should increase or remove this limit.\n"
      ]
    },
    {
      "cell_type": "code",
      "execution_count": null,
      "metadata": {
        "collapsed": false
      },
      "outputs": [],
      "source": [
        "maxfev = 1\nres = minimize(\n    optimization_function,\n    [0, 0, 0, 0, 0, 0],\n    method=\"Nelder-Mead\",\n    options={\n        \"disp\": True,\n        \"initial_simplex\": initial_simplex,\n        \"xatol\": 1.0,\n        \"fatol\": 0.001,\n        \"maxfev\": maxfev,\n    },\n)"
      ]
    },
    {
      "cell_type": "markdown",
      "metadata": {},
      "source": [
        "# Results\n\nWithout the `maxfev` limit, the optimization would take roughly 30\nminutes to complete and converge to the following result:\n\n> \\>\\>\\> print(res)\n>\n> :   message: Optimization terminated successfully. success: True\n>     status: 0 fun: 0.9129640864440078 x: \\[ 7.826e+01 1.777e+00\n>     1.042e+02 8.848e+01 1.083e+01 -1.288e+01\\] nit: 88 nfev: 156\n>     final_simplex: (array(\\[\\[ 7.826e+01, 1.777e+00, \\..., 1.083e+01,\n>     -1.288e+01\\], \\[ 7.820e+01, 1.691e+00, \\..., 1.046e+01,\n>     -1.292e+01\\], \\..., \\[ 7.821e+01, 1.067e+00, \\..., 1.113e+01,\n>     -1.299e+01\\], \\[ 7.832e+01, 1.725e+00, \\..., 1.090e+01,\n>     -1.303e+01\\]\\]), array(\\[ 9.130e-01, 9.130e-01, 9.132e-01,\n>     9.133e-01, 9.133e-01, 9.133e-01, 9.134e-01\\]))\n"
      ]
    },
    {
      "cell_type": "markdown",
      "metadata": {},
      "source": [
        "The following code defines the `results` list as it would be obtained\nfrom the full optimization.\n"
      ]
    },
    {
      "cell_type": "code",
      "execution_count": null,
      "metadata": {
        "collapsed": false
      },
      "outputs": [],
      "source": [
        "# fmt: off\nresults = [\n    1.251633536, 1.406139904, 1.400375936, 1.188398336, 1.292364032, 1.478680192,\n    1.328360704, 1.403241856, 1.294695808, 1.499538048, 1.33415104, 1.34713472,\n    1.313087872, 1.331134976, 1.3513568, 1.470391296, 1.42062272, 1.322532224,\n    1.31974336, 1.373317248, 1.422083072, 1.343358464, 1.311241344, 1.316675968,\n    1.340961792, 1.360485888, 1.343539456, 1.32766528, 1.270421504, 1.36705344,\n    1.379165312, 1.322511232, 1.314317184, 1.223874304, 1.153106048, 1.007141504,\n    1.05296512, 0.974143168, 0.9371091866404715, 0.9365409823182711, 0.9408823575638506,\n    0.93918688, 0.994062912, 1.191067648, 0.9764623339882121, 0.938809398821218,\n    0.9395024597249508, 0.99409632, 0.9367536031434185, 1.069221952, 0.9537923772102161,\n    0.935515347740668, 1.069221952, 0.9373682043222004, 1.016040256, 0.9331018939096267,\n    0.9388053752455796, 0.9323877092337918, 0.940058278978389, 0.9336497917485265,\n    0.9311696345776032, 0.9494098231827112, 0.94191456, 0.9330088487229863, 0.9291408722986247,\n    0.9445788290766208, 0.9506338703339882, 0.9252197721021611, 0.9309677013752455,\n    0.929678648330059, 0.9256490373280943, 0.9378641100196463, 0.9268323457760315,\n    0.9353581768172888, 0.9265237878192535, 0.9242050766208252, 0.9274993163064833,\n    0.924646601178782, 0.9242514106090374, 0.9307412495088409, 0.9244120392927309,\n    0.9209625776031434, 0.941085184, 0.9286979017681729, 0.9229924086444008,\n    0.9197949233791749, 0.9203867033398822, 0.9217532730844794, 0.9229551905697446,\n    0.9304816660117878, 0.9210226168958743, 0.9171427583497053, 0.929186496,\n    0.9245868133595285, 0.9192841807465619, 0.9226500275049115, 0.9204163772102161,\n    0.935395072, 0.9199762986247544, 0.9174358506876228, 0.9207507740667976,\n    0.9191862946954813, 0.9187897838899803, 0.9173438742632612, 0.9179240235756385,\n    0.916406208, 0.931066368, 0.93102176, 0.9173784518664048, 0.921966848,\n    0.9165387819253438, 0.9182679764243615, 0.9152844950884086, 0.917331489194499,\n    0.92203392, 0.9167768015717093, 0.9151537917485265, 0.9157055874263261,\n    0.9171648251473478, 0.9157296031434184, 0.9149538703339882, 0.9153821925343811,\n    0.9155963222003929, 0.9145536502946955, 0.916151232, 0.9177973438113949,\n    0.9146214223968566, 0.9138568801571709, 0.913027206286837, 0.9152614223968566,\n    0.9132077642436149, 0.9149754970530452, 0.917136512, 0.914141862475442,\n    0.914945068762279, 0.914854978388998, 0.914139536345776, 0.9152915992141454,\n    0.91376678978389, 0.9139345225933202, 0.9140565500982318, 0.9139955677799607,\n    0.9152624911591356, 0.9134742632612967, 0.914016704, 0.9133683929273084,\n    0.9141857445972495, 0.913588557956778, 0.9134601178781925, 0.9132596935166994,\n    0.9138769351669941, 0.9133084793713163, 0.9129640864440078, 0.9130440550098232,\n    0.9138289666011787, 0.9132928251473478\n ]\n# fmt: on"
      ]
    },
    {
      "cell_type": "markdown",
      "metadata": {},
      "source": [
        "Visualize the evolution of the maximum IRF during the optimization.\n"
      ]
    },
    {
      "cell_type": "code",
      "execution_count": null,
      "metadata": {
        "collapsed": false
      },
      "outputs": [],
      "source": [
        "fig, ax = plt.subplots()\nax.plot(results)\nax.set_xlabel(\"Function evaluation number\")\nax.set_ylabel(\"Maximum IRF\")\nplt.show()"
      ]
    },
    {
      "cell_type": "markdown",
      "metadata": {},
      "source": [
        "Visualize the resulting fiber directions.\n"
      ]
    },
    {
      "cell_type": "code",
      "execution_count": null,
      "metadata": {
        "collapsed": false
      },
      "outputs": [],
      "source": [
        "angles_degree = [7.826e01, 1.777e00, 1.042e02, 8.848e01, 1.083e01, -1.288e01]\n\nfig, ax = plt.subplots()\nfig.subplots_adjust(right=0.65)\n\ncircle = patches.Circle((0, 0), radius=1, edgecolor=\"black\", facecolor=\"none\", zorder=10)\nax.add_patch(circle)\n\nfor i, angle_deg in enumerate(angles_degree):\n    angle_rad = np.deg2rad(angle_deg)\n    x = np.cos(angle_rad)\n    y = np.sin(angle_rad)\n    ax.plot(\n        [-x, x],\n        [-y, y],\n        color=f\"C{i}\",\n        label=f\"Ply {i + 1}, direction 1\",\n    )\n    # plot also the orthogonal direction, since the ply material is woven\n    angle_ortho = angle_rad + np.pi / 2.0\n    x_ortho = np.cos(angle_ortho)\n    y_ortho = np.sin(angle_ortho)\n    ax.plot(\n        [-x_ortho, x_ortho],\n        [-y_ortho, y_ortho],\n        color=f\"C{i}\",\n        linestyle=\"--\",\n        label=f\"Ply {i + 1}, direction 2\",\n    )\n\n    ax.text(x * 1.15, y * 1.15, f\"{angle_deg:.1f}\u00b0\", ha=\"center\", va=\"center\", color=f\"C{i}\")\n\nax.set_aspect(\"equal\")\nax.legend(title=\"Fiber directions\", loc=\"center left\", bbox_to_anchor=(1.1, 0.5))\n\nax.axis(\"off\")  # Hide the x and y axes\n\nplt.tight_layout()\nplt.show()\n\n# Close MAPDL instance\nmapdl.exit()"
      ]
    }
  ],
  "metadata": {
    "kernelspec": {
      "display_name": "Python 3",
      "language": "python",
      "name": "python3"
    },
    "language_info": {
      "codemirror_mode": {
        "name": "ipython",
        "version": 3
      },
      "file_extension": ".py",
      "mimetype": "text/x-python",
      "name": "python",
      "nbconvert_exporter": "python",
      "pygments_lexer": "ipython3",
      "version": "3.12.11"
    }
  },
  "nbformat": 4,
  "nbformat_minor": 0
}