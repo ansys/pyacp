{
  "cells": [
    {
      "cell_type": "markdown",
      "metadata": {},
      "source": [
        "# Basic selection rules {#basic_selection_rules_example}\n\nThis example shows the basic usage of selection rules, which enable you\nto select elements through geometrical operations and thus to shape\nplies. The example only shows the PyACP part of the setup. For more\nadvanced selection rule usage, see\n`advanced_selection_rules_example`{.interpreted-text role=\"ref\"}. For a\ncomplete composite analysis, see\n`pymapdl_workflow_example`{.interpreted-text role=\"ref\"}.\n"
      ]
    },
    {
      "cell_type": "markdown",
      "metadata": {},
      "source": [
        "# Import modules\n\nImport the standard library and third-party dependencies.\n"
      ]
    },
    {
      "cell_type": "code",
      "execution_count": null,
      "metadata": {
        "collapsed": false
      },
      "outputs": [],
      "source": [
        "import pathlib\nimport tempfile"
      ]
    },
    {
      "cell_type": "markdown",
      "metadata": {},
      "source": [
        "Import the PyACP dependencies.\n"
      ]
    },
    {
      "cell_type": "code",
      "execution_count": null,
      "metadata": {
        "collapsed": false
      },
      "outputs": [],
      "source": [
        "from ansys.acp.core import LinkedSelectionRule, launch_acp\nfrom ansys.acp.core.extras import ExampleKeys, get_example_file"
      ]
    },
    {
      "cell_type": "markdown",
      "metadata": {},
      "source": [
        "# Start ACP and load the model\n"
      ]
    },
    {
      "cell_type": "markdown",
      "metadata": {},
      "source": [
        "Get the example file from the server.\n"
      ]
    },
    {
      "cell_type": "code",
      "execution_count": null,
      "metadata": {
        "collapsed": false
      },
      "outputs": [],
      "source": [
        "tempdir = tempfile.TemporaryDirectory()\nWORKING_DIR = pathlib.Path(tempdir.name)\ninput_file = get_example_file(ExampleKeys.MINIMAL_FLAT_PLATE, WORKING_DIR)"
      ]
    },
    {
      "cell_type": "markdown",
      "metadata": {},
      "source": [
        "Launch the PyACP server and connect to it.\n"
      ]
    },
    {
      "cell_type": "code",
      "execution_count": null,
      "metadata": {
        "collapsed": false
      },
      "outputs": [],
      "source": [
        "acp = launch_acp()"
      ]
    },
    {
      "cell_type": "markdown",
      "metadata": {},
      "source": [
        "Load the model from the input file.\n"
      ]
    },
    {
      "cell_type": "code",
      "execution_count": null,
      "metadata": {
        "collapsed": false
      },
      "outputs": [],
      "source": [
        "model = acp.import_model(input_file)\nprint(model.unit_system)"
      ]
    },
    {
      "cell_type": "markdown",
      "metadata": {},
      "source": [
        "Visualize the loaded mesh.\n"
      ]
    },
    {
      "cell_type": "code",
      "execution_count": null,
      "metadata": {
        "collapsed": false
      },
      "outputs": [],
      "source": [
        "mesh = model.mesh.to_pyvista()\nmesh.plot(show_edges=True)"
      ]
    },
    {
      "cell_type": "markdown",
      "metadata": {},
      "source": [
        "# Create a Parallel Rule\n"
      ]
    },
    {
      "cell_type": "markdown",
      "metadata": {},
      "source": [
        "Create parallel selection rule and assign it to the existing ply.\n"
      ]
    },
    {
      "cell_type": "code",
      "execution_count": null,
      "metadata": {
        "collapsed": false
      },
      "outputs": [],
      "source": [
        "parallel_rule = model.create_parallel_selection_rule(\n    name=\"parallel_rule\",\n    origin=(0, 0, 0),\n    direction=(1, 0, 0),\n    lower_limit=0.005,\n    upper_limit=1,\n)\n\nmodeling_ply = model.modeling_groups[\"modeling_group\"].modeling_plies[\"ply\"]\nmodeling_ply.selection_rules = [LinkedSelectionRule(parallel_rule)]"
      ]
    },
    {
      "cell_type": "markdown",
      "metadata": {},
      "source": [
        "Plot the ply thickness.\n"
      ]
    },
    {
      "cell_type": "code",
      "execution_count": null,
      "metadata": {
        "collapsed": false
      },
      "outputs": [],
      "source": [
        "model.update()\nassert model.elemental_data.thickness is not None\nmodel.elemental_data.thickness.get_pyvista_mesh(mesh=model.mesh).plot(show_edges=True)"
      ]
    },
    {
      "cell_type": "markdown",
      "metadata": {},
      "source": [
        "# Create a Cylindrical Rule\n"
      ]
    },
    {
      "cell_type": "markdown",
      "metadata": {},
      "source": [
        "Create a cylindrical selection rule and add it to the ply. This will\nintersect the two rules.\n"
      ]
    },
    {
      "cell_type": "code",
      "execution_count": null,
      "metadata": {
        "collapsed": false
      },
      "outputs": [],
      "source": [
        "cylindrical_rule = model.create_cylindrical_selection_rule(\n    name=\"cylindrical_rule\",\n    origin=(0.005, 0, 0.005),\n    direction=(0, 1, 0),\n    radius=0.002,\n)\n\nmodeling_ply.selection_rules.append(LinkedSelectionRule(cylindrical_rule))"
      ]
    },
    {
      "cell_type": "markdown",
      "metadata": {},
      "source": [
        "Plot the ply thickness.\n"
      ]
    },
    {
      "cell_type": "code",
      "execution_count": null,
      "metadata": {
        "collapsed": false
      },
      "outputs": [],
      "source": [
        "model.update()\nassert model.elemental_data.thickness is not None\nmodel.elemental_data.thickness.get_pyvista_mesh(mesh=model.mesh).plot(show_edges=True)"
      ]
    },
    {
      "cell_type": "markdown",
      "metadata": {},
      "source": [
        "# Create a Spherical Rule\n"
      ]
    },
    {
      "cell_type": "markdown",
      "metadata": {},
      "source": [
        "Create a spherical selection rule and assign it to the ply. Now, only\nthe spherical rule is active.\n"
      ]
    },
    {
      "cell_type": "code",
      "execution_count": null,
      "metadata": {
        "collapsed": false
      },
      "outputs": [],
      "source": [
        "spherical_rule = model.create_spherical_selection_rule(\n    name=\"spherical_rule\",\n    origin=(0.003, 0, 0.005),\n    radius=0.002,\n)\n\nmodeling_ply.selection_rules = [LinkedSelectionRule(spherical_rule)]"
      ]
    },
    {
      "cell_type": "markdown",
      "metadata": {},
      "source": [
        "Plot the ply thickness.\n"
      ]
    },
    {
      "cell_type": "code",
      "execution_count": null,
      "metadata": {
        "collapsed": false
      },
      "outputs": [],
      "source": [
        "model.update()\nassert model.elemental_data.thickness is not None\nmodel.elemental_data.thickness.get_pyvista_mesh(mesh=model.mesh).plot(show_edges=True)"
      ]
    },
    {
      "cell_type": "markdown",
      "metadata": {},
      "source": [
        "# Create a Tube Rule\n"
      ]
    },
    {
      "cell_type": "markdown",
      "metadata": {},
      "source": [
        "Create a tube selection rule and assign it to the ply. Now, only the\ntube rule is active.\n"
      ]
    },
    {
      "cell_type": "code",
      "execution_count": null,
      "metadata": {
        "collapsed": false
      },
      "outputs": [],
      "source": [
        "tube_rule = model.create_tube_selection_rule(\n    name=\"spherical_rule\",\n    # Select the pre-exsting _FIXEDSU edge which is the edge at x=0\n    edge_set=model.edge_sets[\"_FIXEDSU\"],\n    inner_radius=0.001,\n    outer_radius=0.003,\n)\n\nmodeling_ply.selection_rules = [LinkedSelectionRule(tube_rule)]"
      ]
    },
    {
      "cell_type": "markdown",
      "metadata": {},
      "source": [
        "Plot the ply thickness.\n"
      ]
    },
    {
      "cell_type": "code",
      "execution_count": null,
      "metadata": {
        "collapsed": false
      },
      "outputs": [],
      "source": [
        "model.update()\nassert model.elemental_data.thickness is not None\nmodel.elemental_data.thickness.get_pyvista_mesh(mesh=model.mesh).plot(show_edges=True)"
      ]
    }
  ],
  "metadata": {
    "kernelspec": {
      "display_name": "Python 3",
      "language": "python",
      "name": "python3"
    },
    "language_info": {
      "codemirror_mode": {
        "name": "ipython",
        "version": 3
      },
      "file_extension": ".py",
      "mimetype": "text/x-python",
      "name": "python",
      "nbconvert_exporter": "python",
      "pygments_lexer": "ipython3",
      "version": "3.12.11"
    }
  },
  "nbformat": 4,
  "nbformat_minor": 0
}