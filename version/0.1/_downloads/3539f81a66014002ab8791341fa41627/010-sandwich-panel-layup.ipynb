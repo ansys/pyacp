{
  "cells": [
    {
      "cell_type": "markdown",
      "metadata": {},
      "source": [
        "# Sandwich panel {#sandwich_panel_example}\n\nThis example defines a composite lay-up for a sandwich panel using\nPyACP. It only shows the PyACP part of the setup. For a complete\ncomposite analysis, see `pymapdl_workflow_example`{.interpreted-text\nrole=\"ref\"}.\n"
      ]
    },
    {
      "cell_type": "markdown",
      "metadata": {},
      "source": [
        "------------------------------------------------------------------------\n\nImport the standard library and third-party dependencies.\n"
      ]
    },
    {
      "cell_type": "code",
      "execution_count": null,
      "metadata": {
        "collapsed": false
      },
      "outputs": [],
      "source": [
        "import pathlib\nimport tempfile"
      ]
    },
    {
      "cell_type": "markdown",
      "metadata": {},
      "source": [
        "Import the PyACP dependencies.\n"
      ]
    },
    {
      "cell_type": "code",
      "execution_count": null,
      "metadata": {
        "collapsed": false
      },
      "outputs": [],
      "source": [
        "from ansys.acp.core import (\n    FabricWithAngle,\n    Lamina,\n    PlyType,\n    get_directions_plotter,\n    launch_acp,\n    print_model,\n)\nfrom ansys.acp.core.extras import ExampleKeys, get_example_file\nfrom ansys.acp.core.material_property_sets import ConstantEngineeringConstants, ConstantStrainLimits"
      ]
    },
    {
      "cell_type": "markdown",
      "metadata": {},
      "source": [
        "# Start ACP and load the model\n"
      ]
    },
    {
      "cell_type": "markdown",
      "metadata": {},
      "source": [
        "Get the example file from the server.\n"
      ]
    },
    {
      "cell_type": "code",
      "execution_count": null,
      "metadata": {
        "collapsed": false
      },
      "outputs": [],
      "source": [
        "tempdir = tempfile.TemporaryDirectory()\nWORKING_DIR = pathlib.Path(tempdir.name)\ninput_file = get_example_file(ExampleKeys.BASIC_FLAT_PLATE_DAT, WORKING_DIR)"
      ]
    },
    {
      "cell_type": "markdown",
      "metadata": {},
      "source": [
        "Launch the ACP server and connect to it.\n"
      ]
    },
    {
      "cell_type": "code",
      "execution_count": null,
      "metadata": {
        "collapsed": false
      },
      "outputs": [],
      "source": [
        "acp = launch_acp()"
      ]
    },
    {
      "cell_type": "markdown",
      "metadata": {},
      "source": [
        "Define the input file and import it into ACP.\n"
      ]
    },
    {
      "cell_type": "code",
      "execution_count": null,
      "metadata": {
        "collapsed": false
      },
      "outputs": [],
      "source": [
        "model = acp.import_model(\n    input_file,\n    format=\"ansys:cdb\",\n)\nprint(model.unit_system)"
      ]
    },
    {
      "cell_type": "markdown",
      "metadata": {},
      "source": [
        "Visualize the loaded mesh.\n"
      ]
    },
    {
      "cell_type": "code",
      "execution_count": null,
      "metadata": {
        "collapsed": false
      },
      "outputs": [],
      "source": [
        "mesh = model.mesh.to_pyvista()\nmesh.plot(show_edges=True)"
      ]
    },
    {
      "cell_type": "markdown",
      "metadata": {},
      "source": [
        "# Create the sandwich materials\n"
      ]
    },
    {
      "cell_type": "markdown",
      "metadata": {},
      "source": [
        "Create the UD material and its corresponding fabric.\n"
      ]
    },
    {
      "cell_type": "code",
      "execution_count": null,
      "metadata": {
        "collapsed": false
      },
      "outputs": [],
      "source": [
        "engineering_constants_ud = ConstantEngineeringConstants.from_orthotropic_constants(\n    E1=5e10, E2=1e10, E3=1e10, nu12=0.28, nu13=0.28, nu23=0.3, G12=5e9, G23=4e9, G31=4e9\n)\n\nstrain_limit = 0.01\nstrain_limits = ConstantStrainLimits.from_orthotropic_constants(\n    eXc=-strain_limit,\n    eYc=-strain_limit,\n    eZc=-strain_limit,\n    eXt=strain_limit,\n    eYt=strain_limit,\n    eZt=strain_limit,\n    eSxy=strain_limit,\n    eSyz=strain_limit,\n    eSxz=strain_limit,\n)\n\nud_material = model.create_material(\n    name=\"UD\",\n    ply_type=PlyType.REGULAR,\n    engineering_constants=engineering_constants_ud,\n    strain_limits=strain_limits,\n)\n\nud_fabric = model.create_fabric(name=\"UD\", material=ud_material, thickness=0.002)"
      ]
    },
    {
      "cell_type": "markdown",
      "metadata": {},
      "source": [
        "Create a multi-axial stackup and a sublaminate. Stackups and\nsublaminates help quickly build repeating laminates.\n"
      ]
    },
    {
      "cell_type": "code",
      "execution_count": null,
      "metadata": {
        "collapsed": false
      },
      "outputs": [],
      "source": [
        "biax_carbon_ud = model.create_stackup(\n    name=\"Biax_Carbon_UD\",\n    fabrics=(\n        FabricWithAngle(ud_fabric, -45),\n        FabricWithAngle(ud_fabric, 45),\n    ),\n)\n\n\nsublaminate = model.create_sublaminate(\n    name=\"Sublaminate\",\n    materials=(\n        Lamina(biax_carbon_ud, 0),\n        Lamina(ud_fabric, 90),\n        Lamina(biax_carbon_ud, 0),\n    ),\n)"
      ]
    },
    {
      "cell_type": "markdown",
      "metadata": {},
      "source": [
        "Create the core material and its corresponding fabric.\n"
      ]
    },
    {
      "cell_type": "code",
      "execution_count": null,
      "metadata": {
        "collapsed": false
      },
      "outputs": [],
      "source": [
        "engineering_constants_core = ConstantEngineeringConstants.from_isotropic_constants(E=8.5e7, nu=0.3)\n\ncore = model.create_material(\n    name=\"Core\",\n    ply_type=PlyType.ISOTROPIC_HOMOGENEOUS_CORE,\n    engineering_constants=engineering_constants_core,\n    strain_limits=strain_limits,\n)\n\ncore_fabric = model.create_fabric(name=\"core\", material=ud_material, thickness=0.015)"
      ]
    },
    {
      "cell_type": "markdown",
      "metadata": {},
      "source": [
        "# Create the Lay-up\n"
      ]
    },
    {
      "cell_type": "markdown",
      "metadata": {},
      "source": [
        "Define a rosette and oriented selection set. Plot the orientations.\n"
      ]
    },
    {
      "cell_type": "code",
      "execution_count": null,
      "metadata": {
        "collapsed": false
      },
      "outputs": [],
      "source": [
        "rosette = model.create_rosette(origin=(0.0, 0.0, 0.0), dir1=(1.0, 0.0, 0.0), dir2=(0.0, 1.0, 0.0))\n\noss = model.create_oriented_selection_set(\n    name=\"oss\",\n    orientation_point=(0.0, 0.0, 0.0),\n    orientation_direction=(0.0, 1.0, 0),\n    element_sets=[model.element_sets[\"All_Elements\"]],\n    rosettes=[rosette],\n)\n\nmodel.update()\nplotter = get_directions_plotter(model=model, components=[oss.elemental_data.orientation])\nplotter.show()"
      ]
    },
    {
      "cell_type": "markdown",
      "metadata": {},
      "source": [
        "Create the modeling plies which define the lay-up of the sandwich panel.\n"
      ]
    },
    {
      "cell_type": "code",
      "execution_count": null,
      "metadata": {
        "collapsed": false
      },
      "outputs": [],
      "source": [
        "modeling_group = model.create_modeling_group(name=\"modeling_group\")\n\nbottom_ply = modeling_group.create_modeling_ply(\n    name=\"bottom_ply\",\n    ply_angle=0,\n    ply_material=sublaminate,\n    oriented_selection_sets=[oss],\n)\n\ncore_ply = modeling_group.create_modeling_ply(\n    name=\"core_ply\",\n    ply_angle=0,\n    ply_material=core_fabric,\n    oriented_selection_sets=[oss],\n)\n\n\ntop_ply = modeling_group.create_modeling_ply(\n    name=\"top_ply\",\n    ply_angle=90,\n    ply_material=ud_fabric,\n    oriented_selection_sets=[oss],\n    number_of_layers=3,\n)"
      ]
    },
    {
      "cell_type": "markdown",
      "metadata": {},
      "source": [
        "Update and print the model.\n"
      ]
    },
    {
      "cell_type": "code",
      "execution_count": null,
      "metadata": {
        "collapsed": false
      },
      "outputs": [],
      "source": [
        "model.update()\nprint_model(model)"
      ]
    }
  ],
  "metadata": {
    "kernelspec": {
      "display_name": "Python 3",
      "language": "python",
      "name": "python3"
    },
    "language_info": {
      "codemirror_mode": {
        "name": "ipython",
        "version": 3
      },
      "file_extension": ".py",
      "mimetype": "text/x-python",
      "name": "python",
      "nbconvert_exporter": "python",
      "pygments_lexer": "ipython3",
      "version": "3.12.11"
    }
  },
  "nbformat": 4,
  "nbformat_minor": 0
}