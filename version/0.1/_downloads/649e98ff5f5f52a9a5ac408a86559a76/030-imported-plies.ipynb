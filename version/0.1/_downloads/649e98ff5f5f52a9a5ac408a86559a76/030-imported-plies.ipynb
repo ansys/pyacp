{
  "cells": [
    {
      "cell_type": "markdown",
      "metadata": {},
      "source": [
        "# Imported ply {#imported_plies_example}\n\nThe definition and use of imported plies is demonstrated in this\nexample. In a nutshell, the difference between\n`.ImportedModelingPly`{.interpreted-text role=\"class\"} and\n`.ModelingPly`{.interpreted-text role=\"class\"} is that the surface mesh\nof an `.ImportedModelingPly`{.interpreted-text role=\"class\"} is defined\nby an external source, such as a CAD surface, where a\n`.ModelingPly`{.interpreted-text role=\"class\"} is always defined on the\ninitial loaded shell mesh. Therefore, an imported ply can only be used\nin combination with an `.ImportedSolidModel`{.interpreted-text\nrole=\"class\"}.\n\nThis examples shows hot to:\n\n-   Load an initial mesh\n-   Add a `.Material`{.interpreted-text role=\"class\"} and\n    `.Fabric`{.interpreted-text role=\"class\"}\n-   Import geometries which will be used to define the surface of the\n    `.ImportedModelingPly`{.interpreted-text role=\"class\"}\n-   Add two imported modeling plies\n-   Create an `.ImportedSolidModel`{.interpreted-text role=\"class\"}\n-   Map the imported plies to the solid model\n-   Visualized the mapped plies.\n"
      ]
    },
    {
      "cell_type": "markdown",
      "metadata": {},
      "source": [
        "# Import modules\n\nImport the standard library and third-party dependencies.\n"
      ]
    },
    {
      "cell_type": "code",
      "execution_count": null,
      "metadata": {
        "collapsed": false
      },
      "outputs": [],
      "source": [
        "import os\nimport pathlib\nimport tempfile\n\nimport pyvista"
      ]
    },
    {
      "cell_type": "markdown",
      "metadata": {},
      "source": [
        "Import the PyACP dependencies.\n"
      ]
    },
    {
      "cell_type": "code",
      "execution_count": null,
      "metadata": {
        "collapsed": false
      },
      "outputs": [],
      "source": [
        "from ansys.acp.core import CADGeometry, ImportedPlyOffsetType, PlyType, VirtualGeometry, launch_acp\nfrom ansys.acp.core.extras import ExampleKeys, get_example_file\nfrom ansys.acp.core.material_property_sets import ConstantDensity, ConstantEngineeringConstants\n\n\n\nCAMERA_POSITION = [(0.0436, 0.0102, 0.0193), (0.0111, 0.0035, 0.0046), (-0.1685, 0.9827, -0.0773)]"
      ]
    },
    {
      "cell_type": "markdown",
      "metadata": {},
      "source": [
        "# Start ACP and load the model\n"
      ]
    },
    {
      "cell_type": "markdown",
      "metadata": {},
      "source": [
        "Get the example file from the server.\n"
      ]
    },
    {
      "cell_type": "code",
      "execution_count": null,
      "metadata": {
        "collapsed": false
      },
      "outputs": [],
      "source": [
        "tempdir = tempfile.TemporaryDirectory()\nWORKING_DIR = pathlib.Path(tempdir.name)\ninput_file = get_example_file(ExampleKeys.BASIC_FLAT_PLATE_DAT, WORKING_DIR)"
      ]
    },
    {
      "cell_type": "markdown",
      "metadata": {},
      "source": [
        "Launch the PyACP server and connect to it.\n"
      ]
    },
    {
      "cell_type": "code",
      "execution_count": null,
      "metadata": {
        "collapsed": false
      },
      "outputs": [],
      "source": [
        "acp = launch_acp()"
      ]
    },
    {
      "cell_type": "markdown",
      "metadata": {},
      "source": [
        "Create a model by loading a shell mesh\n"
      ]
    },
    {
      "cell_type": "code",
      "execution_count": null,
      "metadata": {
        "collapsed": false
      },
      "outputs": [],
      "source": [
        "model = acp.import_model(path=input_file, format=\"ansys:dat\")"
      ]
    },
    {
      "cell_type": "markdown",
      "metadata": {},
      "source": [
        "Add a material and a fabric with 1mm thickness. The fabric is used for\nthe imported modeling ply.\n"
      ]
    },
    {
      "cell_type": "code",
      "execution_count": null,
      "metadata": {
        "collapsed": false
      },
      "outputs": [],
      "source": [
        "engineering_constants_ud = ConstantEngineeringConstants.from_orthotropic_constants(\n    E1=5e10, E2=1e10, E3=1e10, nu12=0.28, nu13=0.28, nu23=0.3, G12=5e9, G23=4e9, G31=4e9\n)\ndensity_ud = ConstantDensity(rho=2700)\n\nud_material = model.create_material(\n    name=\"E-Glass UD\",\n    ply_type=PlyType.REGULAR,\n    engineering_constants=engineering_constants_ud,\n    density=density_ud,\n)\n\nengineering_resin = ConstantEngineeringConstants.from_isotropic_constants(E=5e9, nu=0.3)\ndensity_resin = ConstantDensity(rho=1200)\n\nvoid_material = model.create_material(\n    name=\"Void material\",\n    ply_type=PlyType.ISOTROPIC,\n    engineering_constants=engineering_resin,\n    density=density_resin,\n)\nfiller_material = model.create_material(\n    name=\"Filler material\",\n    ply_type=PlyType.ISOTROPIC,\n    engineering_constants=engineering_resin,\n    density=density_resin,\n)\n\nfabric = model.create_fabric(name=\"E-Glass Fabric\", material=ud_material, thickness=0.001)"
      ]
    },
    {
      "cell_type": "markdown",
      "metadata": {},
      "source": [
        "# Import CAD geometries\n\nImport two cad surfaces to define the surface of the imported modeling\nplies.\n"
      ]
    },
    {
      "cell_type": "code",
      "execution_count": null,
      "metadata": {
        "collapsed": false
      },
      "outputs": [],
      "source": [
        "def create_virtual_geometry_from_file(\n    example_key: ExampleKeys,\n) -> tuple[CADGeometry, VirtualGeometry]:\n    \"\"\"Create a CAD geometry and virtual geometry.\"\"\"\n    geometry_file = get_example_file(example_key, WORKING_DIR)\n    geometry_obj = model.create_cad_geometry()\n    geometry_obj.refresh(geometry_file)  # upload and load the geometry file\n    model.update()\n    virtual_geometry = model.create_virtual_geometry(\n        name=os.path.basename(geometry_file), cad_components=geometry_obj.root_shapes.values()\n    )\n    return geometry_obj, virtual_geometry\n\n\ntriangle_surf_cad, triangle_surf_vcad = create_virtual_geometry_from_file(\n    ExampleKeys.RULE_GEOMETRY_TRIANGLE\n)\ntop_surf_cad, top_surf_vcad = create_virtual_geometry_from_file(ExampleKeys.SNAP_TO_GEOMETRY)"
      ]
    },
    {
      "cell_type": "markdown",
      "metadata": {},
      "source": [
        "# Definition of Imported Plies\n"
      ]
    },
    {
      "cell_type": "code",
      "execution_count": null,
      "metadata": {
        "collapsed": false
      },
      "outputs": [],
      "source": [
        "imported_ply_group = model.create_imported_modeling_group(name=\"Imported Ply Group\")\nimported_ply_triangle = imported_ply_group.create_imported_modeling_ply(\n    name=\"Triangle Ply\",\n    offset_type=ImportedPlyOffsetType.BOTTOM_OFFSET,\n    ply_material=fabric,\n    mesh_geometry=triangle_surf_vcad,\n    ply_angle=0,\n    rosettes=[model.rosettes[\"12\"]],\n)\n\nimported_ply_top = imported_ply_group.create_imported_modeling_ply(\n    name=\"Triangle Ply\",\n    offset_type=ImportedPlyOffsetType.MIDDLE_OFFSET,\n    ply_material=fabric,\n    mesh_geometry=top_surf_vcad,\n    ply_angle=45,\n    rosettes=[model.rosettes[\"12\"]],\n)\nmodel.update()"
      ]
    },
    {
      "cell_type": "markdown",
      "metadata": {},
      "source": [
        "Imported plies cannot be visualized directly yet but the cad geometries\nare shown here instead. To visualize the imported plies, you can save\nthe model and load it in ACP standalone.\n"
      ]
    },
    {
      "cell_type": "code",
      "execution_count": null,
      "metadata": {
        "collapsed": false
      },
      "outputs": [],
      "source": [
        "def plotter_with_all_geometries(cad_geometries):\n    colors = [\"green\", \"yellow\", \"blue\", \"red\"]\n    plotter = pyvista.Plotter()\n    for index, cad in enumerate(cad_geometries):\n        geom_mesh = cad.visualization_mesh.to_pyvista()\n        plotter.add_mesh(geom_mesh, color=colors[index], opacity=0.1)\n        edges = geom_mesh.extract_feature_edges()\n        plotter.add_mesh(edges, color=\"white\", line_width=4)\n        plotter.add_mesh(edges, color=\"black\", line_width=2)\n    plotter.camera_position = CAMERA_POSITION\n    return plotter\n\n\nplotter = plotter_with_all_geometries([triangle_surf_cad, top_surf_cad])\nplotter.show()"
      ]
    },
    {
      "cell_type": "markdown",
      "metadata": {},
      "source": [
        "# Map Imported Plies onto a solid mesh\n\nAn external solid mesh is loaded now to map the imported plies onto the\nsolid model. The next figure shows the imported solid mesh and the\nimported plies.\n"
      ]
    },
    {
      "cell_type": "code",
      "execution_count": null,
      "metadata": {
        "collapsed": false
      },
      "outputs": [],
      "source": [
        "local_solid_mesh_file = get_example_file(ExampleKeys.BASIC_FLAT_PLATE_SOLID_MESH_CDB, WORKING_DIR)\nremote_solid_mesh_file = acp.upload_file(local_solid_mesh_file)\nimported_solid_model = model.create_imported_solid_model(\n    name=\"Imported Solid Model\",\n    external_path=remote_solid_mesh_file,\n    format=\"ansys:cdb\",\n)\nimported_solid_model.import_initial_mesh()\nplotter = plotter_with_all_geometries([triangle_surf_cad, top_surf_cad])\nplotter.add_mesh(imported_solid_model.solid_mesh.to_pyvista(), show_edges=True, opacity=0.5)\nplotter.show()"
      ]
    },
    {
      "cell_type": "markdown",
      "metadata": {},
      "source": [
        "Add a mapping object to link the imported plies with the solid model. In\nthis example, all imported plies are mapped in one go. The remaining\nelemental volume and elements which do not intersect with the imported\nplies are filled with a void and filler material, respectively.\n"
      ]
    },
    {
      "cell_type": "code",
      "execution_count": null,
      "metadata": {
        "collapsed": false
      },
      "outputs": [],
      "source": [
        "imported_solid_model.create_layup_mapping_object(\n    name=\"Map imported plies\",\n    use_imported_plies=True,  # enable imported plies\n    select_all_plies=True,  # select all plies\n    entire_solid_mesh=True,\n    scale_ply_thicknesses=False,\n    void_material=void_material,\n    delete_lost_elements=False,\n    filler_material=filler_material,\n    rosettes=[model.rosettes[\"12\"]],\n)\nmodel.update()"
      ]
    },
    {
      "cell_type": "markdown",
      "metadata": {},
      "source": [
        "Show the imported ply geometries and mapped plies on the solid model.\nNote that the analysis plies are not yet directly accessible via the API\nof the imported solid model. Also, elemental data such as thicknesses\nare not yet implemented for imported plies.\n"
      ]
    },
    {
      "cell_type": "code",
      "execution_count": null,
      "metadata": {
        "collapsed": false
      },
      "outputs": [],
      "source": [
        "plotter = plotter_with_all_geometries([triangle_surf_cad, top_surf_cad])\nfor imported_ply in [imported_ply_triangle, imported_ply_top]:\n    for pp in imported_ply.imported_production_plies.values():\n        for ap in pp.imported_analysis_plies.values():\n            plotter.add_mesh(ap.solid_mesh.to_pyvista(), show_edges=True, opacity=1)\nplotter.add_mesh(mesh=imported_solid_model.solid_mesh.to_pyvista(), show_edges=False, opacity=0.2)\nplotter.show()"
      ]
    },
    {
      "cell_type": "markdown",
      "metadata": {},
      "source": [
        "The imported solid model can be passed to Mechanical or MAPDL to run an\nanalysis as shown in the examples\n`pymechanical_solid_example`{.interpreted-text role=\"ref\"} and\n`pymapdl_workflow_example`{.interpreted-text role=\"ref\"}.\n"
      ]
    }
  ],
  "metadata": {
    "kernelspec": {
      "display_name": "Python 3",
      "language": "python",
      "name": "python3"
    },
    "language_info": {
      "codemirror_mode": {
        "name": "ipython",
        "version": 3
      },
      "file_extension": ".py",
      "mimetype": "text/x-python",
      "name": "python",
      "nbconvert_exporter": "python",
      "pygments_lexer": "ipython3",
      "version": "3.12.11"
    }
  },
  "nbformat": 4,
  "nbformat_minor": 0
}