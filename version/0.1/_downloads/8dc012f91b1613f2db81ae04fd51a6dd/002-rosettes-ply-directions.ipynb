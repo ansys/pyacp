{
  "cells": [
    {
      "cell_type": "markdown",
      "metadata": {},
      "source": [
        "# Rosette {#rosette_example}\n\nThis example illustrates how you can use rosettes to define the\nreference directions of a ply. It only shows the PyACP part of the\nsetup. For a complete composite analysis, see\n`pymapdl_workflow_example`{.interpreted-text role=\"ref\"}.\n"
      ]
    },
    {
      "cell_type": "markdown",
      "metadata": {},
      "source": [
        "# Import modules\n\nImport the standard library and third-party dependencies.\n"
      ]
    },
    {
      "cell_type": "code",
      "execution_count": null,
      "metadata": {
        "collapsed": false
      },
      "outputs": [],
      "source": [
        "import pathlib\nimport tempfile\n\nimport numpy as np"
      ]
    },
    {
      "cell_type": "markdown",
      "metadata": {},
      "source": [
        "Import the PyACP dependencies.\n"
      ]
    },
    {
      "cell_type": "code",
      "execution_count": null,
      "metadata": {
        "collapsed": false
      },
      "outputs": [],
      "source": [
        "from ansys.acp.core import (\n    EdgeSetType,\n    PlyType,\n    RosetteSelectionMethod,\n    RosetteType,\n    get_directions_plotter,\n    launch_acp,\n)\nfrom ansys.acp.core.extras import ExampleKeys, get_example_file"
      ]
    },
    {
      "cell_type": "markdown",
      "metadata": {},
      "source": [
        "# Start ACP and load the model\n"
      ]
    },
    {
      "cell_type": "markdown",
      "metadata": {},
      "source": [
        "Get the example file from the server.\n"
      ]
    },
    {
      "cell_type": "code",
      "execution_count": null,
      "metadata": {
        "collapsed": false
      },
      "outputs": [],
      "source": [
        "tempdir = tempfile.TemporaryDirectory()\nWORKING_DIR = pathlib.Path(tempdir.name)\ninput_file = get_example_file(ExampleKeys.BASIC_FLAT_PLATE_DAT, WORKING_DIR)"
      ]
    },
    {
      "cell_type": "markdown",
      "metadata": {},
      "source": [
        "Launch the PyACP server and connect to it.\n"
      ]
    },
    {
      "cell_type": "code",
      "execution_count": null,
      "metadata": {
        "collapsed": false
      },
      "outputs": [],
      "source": [
        "acp = launch_acp()"
      ]
    },
    {
      "cell_type": "markdown",
      "metadata": {},
      "source": [
        "Import the model from the input file. This example\\'s input file\ncontains a flat plate.\n"
      ]
    },
    {
      "cell_type": "code",
      "execution_count": null,
      "metadata": {
        "collapsed": false
      },
      "outputs": [],
      "source": [
        "model = acp.import_model(input_file, format=\"ansys:dat\")\nprint(model.unit_system)"
      ]
    },
    {
      "cell_type": "markdown",
      "metadata": {},
      "source": [
        "# Define directions with a parallel rosette\n"
      ]
    },
    {
      "cell_type": "markdown",
      "metadata": {},
      "source": [
        "Create a material and fabric.\n"
      ]
    },
    {
      "cell_type": "code",
      "execution_count": null,
      "metadata": {
        "collapsed": false
      },
      "outputs": [],
      "source": [
        "ud_material = model.create_material(\n    name=\"UD\",\n    ply_type=PlyType.REGULAR,\n)\n\nfabric = model.create_fabric(name=\"UD\", material=ud_material, thickness=0.1)"
      ]
    },
    {
      "cell_type": "markdown",
      "metadata": {},
      "source": [
        "Create a parallel rosette where the first direction is rotated by 45\ndegrees around the y axis.\n"
      ]
    },
    {
      "cell_type": "code",
      "execution_count": null,
      "metadata": {
        "collapsed": false
      },
      "outputs": [],
      "source": [
        "parallel_rosette_45_deg = model.create_rosette(\n    name=\"ParallelRosette\",\n    rosette_type=RosetteType.PARALLEL,\n    origin=(0, 0, 0),\n    dir1=(np.sqrt(2) / 2, 0, np.sqrt(2) / 2),\n    dir2=(-np.sqrt(2) / 2, 0, np.sqrt(2) / 2),\n)"
      ]
    },
    {
      "cell_type": "markdown",
      "metadata": {},
      "source": [
        "Create an oriented selection set (OSS) and assign the rosette.\n"
      ]
    },
    {
      "cell_type": "code",
      "execution_count": null,
      "metadata": {
        "collapsed": false
      },
      "outputs": [],
      "source": [
        "oss = model.create_oriented_selection_set(\n    name=\"oss\",\n    orientation_point=(0.0, 0.0, 0.0),\n    orientation_direction=(0.0, 1.0, 0),\n    element_sets=[model.element_sets[\"All_Elements\"]],\n    rosettes=[parallel_rosette_45_deg],\n)\n\nmodel.update()"
      ]
    },
    {
      "cell_type": "markdown",
      "metadata": {},
      "source": [
        "Plot the orientation and reference directions of the OSS.\n"
      ]
    },
    {
      "cell_type": "code",
      "execution_count": null,
      "metadata": {
        "collapsed": false
      },
      "outputs": [],
      "source": [
        "plotter = get_directions_plotter(\n    model=model, components=[oss.elemental_data.orientation, oss.elemental_data.reference_direction]\n)\nplotter.show()"
      ]
    },
    {
      "cell_type": "markdown",
      "metadata": {},
      "source": [
        "Create a ply that uses the reference directions defined by the rosette.\nThe ply angle is set to 20 degrees, which means that the fiber direction\nis rotated by 20 degrees from the reference direction.\n"
      ]
    },
    {
      "cell_type": "code",
      "execution_count": null,
      "metadata": {
        "collapsed": false
      },
      "outputs": [],
      "source": [
        "modeling_group = model.create_modeling_group(name=\"modeling_group\")\nmodeling_ply = modeling_group.create_modeling_ply(\n    name=\"ply\",\n    ply_angle=20,\n    ply_material=fabric,\n    oriented_selection_sets=[oss],\n)"
      ]
    },
    {
      "cell_type": "markdown",
      "metadata": {},
      "source": [
        "Plot the reference directions, fiber directions, and transverse\ndirections of the ply.\n"
      ]
    },
    {
      "cell_type": "code",
      "execution_count": null,
      "metadata": {
        "collapsed": false
      },
      "outputs": [],
      "source": [
        "plotter = get_directions_plotter(\n    model=model,\n    components=[\n        modeling_ply.elemental_data.reference_direction,\n        modeling_ply.elemental_data.fiber_direction,\n        modeling_ply.elemental_data.transverse_direction,\n    ],\n)\nplotter.show()"
      ]
    },
    {
      "cell_type": "markdown",
      "metadata": {},
      "source": [
        "# Define directions with a radial rosette\n\nCreate a radial rosette and plot the resulting reference directions. For\na radial rosette, a line is constructed that goes through the origin.\nIts direction vector is normal to a plane spanned by `dir1` and `dir2`.\nTherefore, the reference directions are parallel to the shortest\nconnection from the line to each point for which it is computed.\n"
      ]
    },
    {
      "cell_type": "code",
      "execution_count": null,
      "metadata": {
        "collapsed": false
      },
      "outputs": [],
      "source": [
        "radial_rosette = model.create_rosette(\n    name=\"RadialRosette\",\n    rosette_type=RosetteType.RADIAL,\n    origin=(0.005, 0, 0.005),\n    dir1=(1, 0, 0),\n    dir2=(0, 0, 1),\n)\n\noss.rosettes = [radial_rosette]\nmodel.update()\n\nplotter = get_directions_plotter(model=model, components=[oss.elemental_data.reference_direction])\nplotter.show()"
      ]
    },
    {
      "cell_type": "markdown",
      "metadata": {},
      "source": [
        "# Define directions with a cylindrical rosette\n\nCreate a cylindrical rosette and plot the resulting reference\ndirections. For a cylindrical rosette, the reference directions are\ntangential to the circles around the origin that lie in a plane spanned\nby `dir1` and `dir2`.\n"
      ]
    },
    {
      "cell_type": "code",
      "execution_count": null,
      "metadata": {
        "collapsed": false
      },
      "outputs": [],
      "source": [
        "cylindrical_rosette = model.create_rosette(\n    name=\"CylindricalRosette\",\n    rosette_type=RosetteType.CYLINDRICAL,\n    origin=(0.005, 0, 0.005),\n    dir1=(1, 0, 0),\n    dir2=(0, 0, 1),\n)\n\noss.rosettes = [cylindrical_rosette]\nmodel.update()\n\nplotter = get_directions_plotter(model=model, components=[oss.elemental_data.reference_direction])\nplotter.show()"
      ]
    },
    {
      "cell_type": "markdown",
      "metadata": {},
      "source": [
        "# Define directions with a spherical rosette\n\nCreate a spherical rosette and plot the resulting reference directions.\nFor a spherical rosette, the reference directions are tangential to a\nsphere around the origin. Note that for this example, the reference\ndirections of the spherical rosette are the same as those of the\ncylindrical rosette.\n"
      ]
    },
    {
      "cell_type": "code",
      "execution_count": null,
      "metadata": {
        "collapsed": false
      },
      "outputs": [],
      "source": [
        "spherical_rosette = model.create_rosette(\n    name=\"SphericalRosette\",\n    rosette_type=RosetteType.SPHERICAL,\n    origin=(0.005, 0, 0.005),\n    dir1=(1, 0, 0),\n    dir2=(0, 0, 1),\n)\n\noss.rosettes = [spherical_rosette]\nmodel.update()\n\nplotter = get_directions_plotter(model=model, components=[oss.elemental_data.reference_direction])\nplotter.show()"
      ]
    },
    {
      "cell_type": "markdown",
      "metadata": {},
      "source": [
        "# Define directions with an edge-wise rosette\n\nCreate an edge-wise rosette and plot the resulting reference directions.\nThe reference directions are given by a projection of `dir1` and the\npath of the edge set. `dir1` of the rosette is projected onto the point\non the edge that is closest to the rosette\\'s origin. This determines\nthe reference directions along the edge set. You can reverse the\nreference directions by inverting `dir1`. An element within an OSS gets\nits reference directions from the direction of the point on the edge\nthat is closest to the element centroid.\n"
      ]
    },
    {
      "cell_type": "markdown",
      "metadata": {},
      "source": [
        "Create the edge set from the \\\"All_Elements\\\" element set. Because you\nassigned 120 degrees to the limit angle, all the edges are selected.\n"
      ]
    },
    {
      "cell_type": "code",
      "execution_count": null,
      "metadata": {
        "collapsed": false
      },
      "outputs": [],
      "source": [
        "edge_set = model.create_edge_set(\n    name=\"edge_set\",\n    edge_set_type=EdgeSetType.BY_REFERENCE,\n    limit_angle=120,\n    element_set=model.element_sets[\"All_Elements\"],\n    origin=(0, 0, 0),\n)\n\nedge_wise_rosette = model.create_rosette(\n    name=\"EdgeWiseRosette\",\n    rosette_type=RosetteType.EDGE_WISE,\n    edge_set=edge_set,\n    origin=(0.005, 0, 0.005),\n    dir1=(1, 0, 0),\n    dir2=(0, 0, 1),\n)\n\noss.rosettes = [edge_wise_rosette]\nmodel.update()\n\nplotter = get_directions_plotter(model=model, components=[oss.elemental_data.reference_direction])\nplotter.show()"
      ]
    },
    {
      "cell_type": "markdown",
      "metadata": {},
      "source": [
        "# Combine rosettes\n"
      ]
    },
    {
      "cell_type": "markdown",
      "metadata": {},
      "source": [
        "Create an additional parallel rosette that points along the x direction\nand has its origin at `(0.01, 0, 0.01)`.\n"
      ]
    },
    {
      "cell_type": "code",
      "execution_count": null,
      "metadata": {
        "collapsed": false
      },
      "outputs": [],
      "source": [
        "parallel_rosette_0_deg = model.create_rosette(\n    name=\"ParallelRosette\",\n    rosette_type=RosetteType.PARALLEL,\n    origin=(0.01, 0, 0.01),\n    dir1=(1, 0, 0),\n    dir2=(0, 0, 1),\n)"
      ]
    },
    {
      "cell_type": "markdown",
      "metadata": {},
      "source": [
        "Assign both rosettes to the OSS and set the rosette selection method to\n`RosetteSelectionMethod.MINIMUM_DISTANCE_SUPERPOSED`. This implies that\nthe reference directions are weighted by the inverse distance to each\nrosette. Note that the origin of the rotated rosette is at `(0,0,0)`.\n"
      ]
    },
    {
      "cell_type": "code",
      "execution_count": null,
      "metadata": {
        "collapsed": false
      },
      "outputs": [],
      "source": [
        "oss.rosettes = [parallel_rosette_45_deg, parallel_rosette_0_deg]\noss.rosette_selection_method = RosetteSelectionMethod.MINIMUM_DISTANCE_SUPERPOSED"
      ]
    },
    {
      "cell_type": "markdown",
      "metadata": {},
      "source": [
        "Plot the resulting reference directions.\n"
      ]
    },
    {
      "cell_type": "code",
      "execution_count": null,
      "metadata": {
        "collapsed": false
      },
      "outputs": [],
      "source": [
        "model.update()\nplotter = get_directions_plotter(model=model, components=[oss.elemental_data.reference_direction])\nplotter.show()"
      ]
    }
  ],
  "metadata": {
    "kernelspec": {
      "display_name": "Python 3",
      "language": "python",
      "name": "python3"
    },
    "language_info": {
      "codemirror_mode": {
        "name": "ipython",
        "version": 3
      },
      "file_extension": ".py",
      "mimetype": "text/x-python",
      "name": "python",
      "nbconvert_exporter": "python",
      "pygments_lexer": "ipython3",
      "version": "3.12.11"
    }
  },
  "nbformat": 4,
  "nbformat_minor": 0
}