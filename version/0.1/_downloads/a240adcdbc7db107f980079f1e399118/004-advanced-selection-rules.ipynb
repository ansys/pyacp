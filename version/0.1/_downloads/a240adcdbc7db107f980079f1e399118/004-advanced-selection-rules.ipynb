{
  "cells": [
    {
      "cell_type": "markdown",
      "metadata": {},
      "source": [
        "# Advanced selection rules {#advanced_selection_rules_example}\n\nThis example shows how to use advanced rules, including the geometrical,\ncut-off, and variable offset rules. It also demonstrates how rules can\nbe templated and reused with different parameters. For more basic rules,\nsee `basic_selection_rules_example`{.interpreted-text role=\"ref\"}.\n\nThis example only shows the PyACP part of the setup. For a complete\ncomposite analysis, see `pymapdl_workflow_example`{.interpreted-text\nrole=\"ref\"}.\n"
      ]
    },
    {
      "cell_type": "markdown",
      "metadata": {},
      "source": [
        "# Import modules\n\nImport the standard library and third-party dependencies.\n"
      ]
    },
    {
      "cell_type": "code",
      "execution_count": null,
      "metadata": {
        "collapsed": false
      },
      "outputs": [],
      "source": [
        "import pathlib\nimport tempfile\n\nimport numpy as np\nimport pyvista"
      ]
    },
    {
      "cell_type": "markdown",
      "metadata": {},
      "source": [
        "Import the PyACP dependencies.\n"
      ]
    },
    {
      "cell_type": "code",
      "execution_count": null,
      "metadata": {
        "collapsed": false
      },
      "outputs": [],
      "source": [
        "from ansys.acp.core import (\n    BooleanOperationType,\n    EdgeSetType,\n    LinkedSelectionRule,\n    PhysicalDimension,\n    launch_acp,\n)\nfrom ansys.acp.core.extras import ExampleKeys, get_example_file"
      ]
    },
    {
      "cell_type": "markdown",
      "metadata": {},
      "source": [
        "# Start ACP and load the model\n"
      ]
    },
    {
      "cell_type": "markdown",
      "metadata": {},
      "source": [
        "Get the example file from the server.\n"
      ]
    },
    {
      "cell_type": "code",
      "execution_count": null,
      "metadata": {
        "collapsed": false
      },
      "outputs": [],
      "source": [
        "tempdir = tempfile.TemporaryDirectory()\nWORKING_DIR = pathlib.Path(tempdir.name)\ninput_file = get_example_file(ExampleKeys.MINIMAL_FLAT_PLATE, WORKING_DIR)"
      ]
    },
    {
      "cell_type": "markdown",
      "metadata": {},
      "source": [
        "Launch the PyACP server and connect to it.\n"
      ]
    },
    {
      "cell_type": "code",
      "execution_count": null,
      "metadata": {
        "collapsed": false
      },
      "outputs": [],
      "source": [
        "acp = launch_acp()"
      ]
    },
    {
      "cell_type": "markdown",
      "metadata": {},
      "source": [
        "Load the model from the input file.\n"
      ]
    },
    {
      "cell_type": "code",
      "execution_count": null,
      "metadata": {
        "collapsed": false
      },
      "outputs": [],
      "source": [
        "model = acp.import_model(input_file)\nprint(model.unit_system)"
      ]
    },
    {
      "cell_type": "markdown",
      "metadata": {},
      "source": [
        "Add more layers to the modeling ply so that it is easier to see the\neffects of the selection rules. Plot the thickness of all the plies\nwithout any rules.\n"
      ]
    },
    {
      "cell_type": "code",
      "execution_count": null,
      "metadata": {
        "collapsed": false
      },
      "outputs": [],
      "source": [
        "modeling_ply = model.modeling_groups[\"modeling_group\"].modeling_plies[\"ply\"]\nmodeling_ply.number_of_layers = 10\n\nmodel.update()\nassert model.elemental_data.thickness is not None\nmodel.elemental_data.thickness.get_pyvista_mesh(mesh=model.mesh).plot(show_edges=True)"
      ]
    },
    {
      "cell_type": "markdown",
      "metadata": {},
      "source": [
        "# Parametrized Parallel Rule\n"
      ]
    },
    {
      "cell_type": "markdown",
      "metadata": {},
      "source": [
        "Rules can be parametrized. This is useful when a rule is used multiple\ntimes but with different parameters. The\n`.LinkedSelectionRule`{.interpreted-text role=\"class\"} class shows what\nparameters are available for each rule. This code modifies the extent of\nthe parallel rule.\n"
      ]
    },
    {
      "cell_type": "markdown",
      "metadata": {},
      "source": [
        "Create a parallel rule.\n"
      ]
    },
    {
      "cell_type": "code",
      "execution_count": null,
      "metadata": {
        "collapsed": false
      },
      "outputs": [],
      "source": [
        "parallel_rule = model.create_parallel_selection_rule(\n    name=\"parallel_rule\",\n    origin=(0, 0, 0),\n    direction=(1, 0, 0),\n    lower_limit=0.005,\n    upper_limit=1,\n)"
      ]
    },
    {
      "cell_type": "markdown",
      "metadata": {},
      "source": [
        "Assign it the modeling ply.\n"
      ]
    },
    {
      "cell_type": "code",
      "execution_count": null,
      "metadata": {
        "collapsed": false
      },
      "outputs": [],
      "source": [
        "linked_parallel_rule = LinkedSelectionRule(parallel_rule)\nmodeling_ply.selection_rules = [linked_parallel_rule]"
      ]
    },
    {
      "cell_type": "markdown",
      "metadata": {},
      "source": [
        "Plot the thickness of the ply before the parametrization.\n"
      ]
    },
    {
      "cell_type": "code",
      "execution_count": null,
      "metadata": {
        "collapsed": false
      },
      "outputs": [],
      "source": [
        "model.update()\nassert model.elemental_data.thickness is not None\nmodel.elemental_data.thickness.get_pyvista_mesh(mesh=model.mesh).plot(show_edges=True)"
      ]
    },
    {
      "cell_type": "markdown",
      "metadata": {},
      "source": [
        "Modify the parallel rule by changing the parameters of the linked rule.\nParameters defined on the linked rule override the parameters of the\noriginal rule.\n"
      ]
    },
    {
      "cell_type": "code",
      "execution_count": null,
      "metadata": {
        "collapsed": false
      },
      "outputs": [],
      "source": [
        "linked_parallel_rule.template_rule = True\nlinked_parallel_rule.parameter_1 = 0.002\nlinked_parallel_rule.parameter_2 = 0.1"
      ]
    },
    {
      "cell_type": "markdown",
      "metadata": {},
      "source": [
        "Plot the thickness of the ply with the modified rule.\n"
      ]
    },
    {
      "cell_type": "code",
      "execution_count": null,
      "metadata": {
        "collapsed": false
      },
      "outputs": [],
      "source": [
        "model.update()\nassert model.elemental_data.thickness is not None\nmodel.elemental_data.thickness.get_pyvista_mesh(mesh=model.mesh).plot(show_edges=True)"
      ]
    },
    {
      "cell_type": "markdown",
      "metadata": {},
      "source": [
        "# Create a geometrical selection rule\n"
      ]
    },
    {
      "cell_type": "markdown",
      "metadata": {},
      "source": [
        "Add a CAD geometry to the model.\n"
      ]
    },
    {
      "cell_type": "code",
      "execution_count": null,
      "metadata": {
        "collapsed": false
      },
      "outputs": [],
      "source": [
        "triangle_path = get_example_file(ExampleKeys.RULE_GEOMETRY_TRIANGLE, WORKING_DIR)\ntriangle = model.create_cad_geometry()\ntriangle.refresh(triangle_path)\n\n# Note: It is important to update the model here, because the root_shapes of the\n# cad_geometry are not available until the model is updated.\nmodel.update()"
      ]
    },
    {
      "cell_type": "markdown",
      "metadata": {},
      "source": [
        "Create a virtual geometry from the CAD geometry.\n"
      ]
    },
    {
      "cell_type": "code",
      "execution_count": null,
      "metadata": {
        "collapsed": false
      },
      "outputs": [],
      "source": [
        "triangle_virtual_geometry = model.create_virtual_geometry(\n    name=\"triangle_virtual_geometry\", cad_components=triangle.root_shapes.values()\n)"
      ]
    },
    {
      "cell_type": "markdown",
      "metadata": {},
      "source": [
        "Create the geometrical selection rule.\n"
      ]
    },
    {
      "cell_type": "code",
      "execution_count": null,
      "metadata": {
        "collapsed": false
      },
      "outputs": [],
      "source": [
        "geometrical_selection_rule = model.create_geometrical_selection_rule(\n    name=\"geometrical_rule\",\n    geometry=triangle_virtual_geometry,\n)"
      ]
    },
    {
      "cell_type": "markdown",
      "metadata": {},
      "source": [
        "Assign the geometrical selection rule to the ply. Plot the ply extent\nwith the outline of the geometry.\n"
      ]
    },
    {
      "cell_type": "code",
      "execution_count": null,
      "metadata": {
        "collapsed": false
      },
      "outputs": [],
      "source": [
        "modeling_ply.selection_rules = [LinkedSelectionRule(geometrical_selection_rule)]\nmodel.update()\nassert model.elemental_data.thickness is not None\n\nplotter = pyvista.Plotter()\nplotter.add_mesh(\n    triangle.visualization_mesh.to_pyvista(), style=\"wireframe\", line_width=4, color=\"white\"\n)\nplotter.add_mesh(model.elemental_data.thickness.get_pyvista_mesh(mesh=model.mesh), show_edges=True)\nplotter.show()"
      ]
    },
    {
      "cell_type": "markdown",
      "metadata": {},
      "source": [
        "# Create a cut-off selection rule\n"
      ]
    },
    {
      "cell_type": "markdown",
      "metadata": {},
      "source": [
        "Add the cut off CAD geometry to the model.\n"
      ]
    },
    {
      "cell_type": "code",
      "execution_count": null,
      "metadata": {
        "collapsed": false
      },
      "outputs": [],
      "source": [
        "cut_off_plane_path = get_example_file(ExampleKeys.CUT_OFF_GEOMETRY, WORKING_DIR)\ncut_off_plane = model.create_cad_geometry()\ncut_off_plane.refresh(cut_off_plane_path)\n\n# Note: It is important to update the model here, because the root_shapes of the\n# cad_geometry are not available until the model is updated.\nmodel.update()"
      ]
    },
    {
      "cell_type": "markdown",
      "metadata": {},
      "source": [
        "Create a virtual geometry from the CAD geometry.\n"
      ]
    },
    {
      "cell_type": "code",
      "execution_count": null,
      "metadata": {
        "collapsed": false
      },
      "outputs": [],
      "source": [
        "cut_off_virtual_geometry = model.create_virtual_geometry(\n    name=\"cut_off_virtual_geometry\", cad_components=cut_off_plane.root_shapes.values()\n)"
      ]
    },
    {
      "cell_type": "markdown",
      "metadata": {},
      "source": [
        "Create the cut_off selection rule.\n"
      ]
    },
    {
      "cell_type": "code",
      "execution_count": null,
      "metadata": {
        "collapsed": false
      },
      "outputs": [],
      "source": [
        "cut_off_selection_rule = model.create_cut_off_selection_rule(\n    name=\"cut_off_rule\",\n    cut_off_geometry=cut_off_virtual_geometry,\n)"
      ]
    },
    {
      "cell_type": "markdown",
      "metadata": {},
      "source": [
        "Assign the cut_off selection rule to the ply. Plot the ply extent with\nthe outline of the geometry.\n"
      ]
    },
    {
      "cell_type": "code",
      "execution_count": null,
      "metadata": {
        "collapsed": false
      },
      "outputs": [],
      "source": [
        "modeling_ply.selection_rules = [LinkedSelectionRule(cut_off_selection_rule)]\n\nmodel.update()\nassert model.elemental_data.thickness is not None\nplotter = pyvista.Plotter()\nplotter.add_mesh(cut_off_plane.visualization_mesh.to_pyvista(), color=\"white\")\nplotter.add_mesh(model.elemental_data.thickness.get_pyvista_mesh(mesh=model.mesh))\nplotter.camera_position = [(-0.05, 0.01, 0), (0.005, 0.005, 0.005), (0, 1, 0)]\n\nplotter.show()"
      ]
    },
    {
      "cell_type": "markdown",
      "metadata": {},
      "source": [
        "# Create a variable offset selection rule\n"
      ]
    },
    {
      "cell_type": "markdown",
      "metadata": {},
      "source": [
        "Create the lookup table.\n"
      ]
    },
    {
      "cell_type": "code",
      "execution_count": null,
      "metadata": {
        "collapsed": false
      },
      "outputs": [],
      "source": [
        "lookup_table = model.create_lookup_table_1d(\n    name=\"lookup_table\",\n    origin=(0, 0, 0),\n    direction=(0, 0, 1),\n)"
      ]
    },
    {
      "cell_type": "markdown",
      "metadata": {},
      "source": [
        "Add the location data. The \\\"Location\\\" column of the lookup table is\nalways created by default.\n"
      ]
    },
    {
      "cell_type": "code",
      "execution_count": null,
      "metadata": {
        "collapsed": false
      },
      "outputs": [],
      "source": [
        "lookup_table.columns[\"Location\"].data = np.array([0, 0.005, 0.01])"
      ]
    },
    {
      "cell_type": "markdown",
      "metadata": {},
      "source": [
        "Create the offset column that defines the offsets from the edge.\n"
      ]
    },
    {
      "cell_type": "code",
      "execution_count": null,
      "metadata": {
        "collapsed": false
      },
      "outputs": [],
      "source": [
        "offsets_column = lookup_table.create_column(\n    name=\"offset\",\n    physical_dimension=PhysicalDimension.LENGTH,\n    data=np.array([0.00, 0.004, 0]),\n)"
      ]
    },
    {
      "cell_type": "markdown",
      "metadata": {},
      "source": [
        "Create the edge set from the \\\"All_Elements\\\" element set. Because you\nassigned 30 degrees to the limit angle, only one edge at x=0 is\nselected.\n"
      ]
    },
    {
      "cell_type": "code",
      "execution_count": null,
      "metadata": {
        "collapsed": false
      },
      "outputs": [],
      "source": [
        "edge_set = model.create_edge_set(\n    name=\"edge_set\",\n    edge_set_type=EdgeSetType.BY_REFERENCE,\n    limit_angle=30,\n    element_set=model.element_sets[\"All_Elements\"],\n    origin=(0, 0, 0),\n)"
      ]
    },
    {
      "cell_type": "markdown",
      "metadata": {},
      "source": [
        "Create the variable offset rule and assign it to the ply.\n"
      ]
    },
    {
      "cell_type": "code",
      "execution_count": null,
      "metadata": {
        "collapsed": false
      },
      "outputs": [],
      "source": [
        "variable_offset_rule = model.create_variable_offset_selection_rule(\n    name=\"variable_offset_rule\", edge_set=edge_set, offsets=offsets_column, distance_along_edge=True\n)\n\nmodeling_ply.selection_rules = [LinkedSelectionRule(variable_offset_rule)]"
      ]
    },
    {
      "cell_type": "markdown",
      "metadata": {},
      "source": [
        "Plot the ply extent.\n"
      ]
    },
    {
      "cell_type": "code",
      "execution_count": null,
      "metadata": {
        "collapsed": false
      },
      "outputs": [],
      "source": [
        "model.update()\nassert model.elemental_data.thickness is not None\nmodel.elemental_data.thickness.get_pyvista_mesh(mesh=model.mesh).plot(show_edges=True)"
      ]
    },
    {
      "cell_type": "markdown",
      "metadata": {},
      "source": [
        "# Create a boolean selection rule\n"
      ]
    },
    {
      "cell_type": "markdown",
      "metadata": {},
      "source": [
        "Creating a Boolean selection rule and assigning it to a ply has the same\neffect as linking the individual rules directly to the ply. Boolean\nrules are still useful because they can help organize rules and make\nmore complex ones.\n\nCreate a cylindrical selection rule to combine with the parallel rule.\n"
      ]
    },
    {
      "cell_type": "code",
      "execution_count": null,
      "metadata": {
        "collapsed": false
      },
      "outputs": [],
      "source": [
        "cylindrical_rule_boolean = model.create_cylindrical_selection_rule(\n    name=\"cylindrical_rule\",\n    origin=(0.005, 0, 0.005),\n    direction=(0, 1, 0),\n    radius=0.002,\n)\n\nparallel_rule_boolean = model.create_parallel_selection_rule(\n    name=\"parallel_rule\",\n    origin=(0, 0, 0),\n    direction=(1, 0, 0),\n    lower_limit=0.005,\n    upper_limit=1,\n)\n\nlinked_cylindrical_rule_boolean = LinkedSelectionRule(cylindrical_rule_boolean)\nlinked_parallel_rule_boolean = LinkedSelectionRule(parallel_rule_boolean)\n\nboolean_selection_rule = model.create_boolean_selection_rule(\n    name=\"boolean_rule\",\n    selection_rules=[linked_parallel_rule_boolean, linked_cylindrical_rule_boolean],\n)\n\nmodeling_ply.selection_rules = [LinkedSelectionRule(boolean_selection_rule)]"
      ]
    },
    {
      "cell_type": "markdown",
      "metadata": {},
      "source": [
        "Plot the ply extent.\n"
      ]
    },
    {
      "cell_type": "code",
      "execution_count": null,
      "metadata": {
        "collapsed": false
      },
      "outputs": [],
      "source": [
        "model.update()\nassert model.elemental_data.thickness is not None\nmodel.elemental_data.thickness.get_pyvista_mesh(mesh=model.mesh).plot(show_edges=True)"
      ]
    },
    {
      "cell_type": "markdown",
      "metadata": {},
      "source": [
        "Modify the operation type of the Boolean selection rule so that the two\nrules are added.\n"
      ]
    },
    {
      "cell_type": "code",
      "execution_count": null,
      "metadata": {
        "collapsed": false
      },
      "outputs": [],
      "source": [
        "linked_parallel_rule_boolean.operation_type = BooleanOperationType.INTERSECT\nlinked_cylindrical_rule_boolean.operation_type = BooleanOperationType.ADD"
      ]
    },
    {
      "cell_type": "markdown",
      "metadata": {},
      "source": [
        "Plot the ply extent.\n"
      ]
    },
    {
      "cell_type": "code",
      "execution_count": null,
      "metadata": {
        "collapsed": false
      },
      "outputs": [],
      "source": [
        "model.update()\nassert model.elemental_data.thickness is not None\nmodel.elemental_data.thickness.get_pyvista_mesh(mesh=model.mesh).plot(show_edges=True)"
      ]
    }
  ],
  "metadata": {
    "kernelspec": {
      "display_name": "Python 3",
      "language": "python",
      "name": "python3"
    },
    "language_info": {
      "codemirror_mode": {
        "name": "ipython",
        "version": 3
      },
      "file_extension": ".py",
      "mimetype": "text/x-python",
      "name": "python",
      "nbconvert_exporter": "python",
      "pygments_lexer": "ipython3",
      "version": "3.12.11"
    }
  },
  "nbformat": 4,
  "nbformat_minor": 0
}