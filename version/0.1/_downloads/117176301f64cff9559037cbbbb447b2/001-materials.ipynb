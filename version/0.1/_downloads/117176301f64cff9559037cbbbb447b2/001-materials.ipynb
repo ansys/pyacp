{
  "cells": [
    {
      "cell_type": "markdown",
      "metadata": {},
      "source": [
        "# Materials {#materials_example}\n\nThis example demonstrates how to create the different type of materials,\nimport, or export them. It only shows the PyACP part of the setup. For a\ncomplete composite analysis, see\n`pymapdl_workflow_example`{.interpreted-text role=\"ref\"}.\n\nACP distinguishes between four types of material:\n\n-   Raw **Material** that defines the mechanical properties of the\n    material.\n-   **Fabric** is where a material can be associated with a set\n    thickness.\n-   **Stackup** is used to combine fabrics into a non-crimp fabric, such\n    as a \\[0 45 90\\] combination.\n-   **Sublaminate** is used to group fabrics and stackups for frequently\n    used lay-ups.\n\nFabrics, Stackups and Sublaminates can be used to create plies. It is\nrecommended to look a the Ansys help for more information on the\ndifferent types of materials.\n"
      ]
    },
    {
      "cell_type": "markdown",
      "metadata": {},
      "source": [
        "Import the standard library and third-party dependencies.\n"
      ]
    },
    {
      "cell_type": "code",
      "execution_count": null,
      "metadata": {
        "collapsed": false
      },
      "outputs": [],
      "source": [
        "import pathlib\nimport tempfile"
      ]
    },
    {
      "cell_type": "markdown",
      "metadata": {},
      "source": [
        "Import the PyACP dependencies.\n"
      ]
    },
    {
      "cell_type": "code",
      "execution_count": null,
      "metadata": {
        "collapsed": false
      },
      "outputs": [],
      "source": [
        "from ansys.acp.core import FabricWithAngle, Lamina, PlyType, SymmetryType, launch_acp\nfrom ansys.acp.core.extras import ExampleKeys, get_example_file\nfrom ansys.acp.core.material_property_sets import (\n    ConstantEngineeringConstants,\n    ConstantStrainLimits,\n    ConstantStressLimits,\n)"
      ]
    },
    {
      "cell_type": "markdown",
      "metadata": {},
      "source": [
        "# Start ACP and load the model\n\n%% Get the example file from the server.\n"
      ]
    },
    {
      "cell_type": "code",
      "execution_count": null,
      "metadata": {
        "collapsed": false
      },
      "outputs": [],
      "source": [
        "tempdir = tempfile.TemporaryDirectory()\nWORKING_DIR = pathlib.Path(tempdir.name)\ninput_file = get_example_file(ExampleKeys.BASIC_FLAT_PLATE_DAT, WORKING_DIR)"
      ]
    },
    {
      "cell_type": "markdown",
      "metadata": {},
      "source": [
        "Launch the PyACP server and connect to it.\n"
      ]
    },
    {
      "cell_type": "code",
      "execution_count": null,
      "metadata": {
        "collapsed": false
      },
      "outputs": [],
      "source": [
        "acp = launch_acp()"
      ]
    },
    {
      "cell_type": "markdown",
      "metadata": {},
      "source": [
        "Import the model from the input file.\n"
      ]
    },
    {
      "cell_type": "code",
      "execution_count": null,
      "metadata": {
        "collapsed": false
      },
      "outputs": [],
      "source": [
        "model = acp.import_model(input_file, format=\"ansys:dat\")"
      ]
    },
    {
      "cell_type": "markdown",
      "metadata": {},
      "source": [
        "# Create a Material\n\n%% Create property sets elastic constants, strain and stress limits.\n"
      ]
    },
    {
      "cell_type": "code",
      "execution_count": null,
      "metadata": {
        "collapsed": false
      },
      "outputs": [],
      "source": [
        "engineering_constants_ud = ConstantEngineeringConstants.from_orthotropic_constants(\n    E1=5e10, E2=1e10, E3=1e10, nu12=0.28, nu13=0.28, nu23=0.3, G12=5e9, G23=4e9, G31=4e9\n)\n\nstrain_limit_tension = 0.01\nstrain_limit_compression = 0.008\nstrain_limit_shear = 0.012\nstrain_limits = ConstantStrainLimits.from_orthotropic_constants(\n    eXc=strain_limit_compression,\n    eYc=strain_limit_compression,\n    eZc=strain_limit_compression,\n    eXt=strain_limit_tension,\n    eYt=strain_limit_tension,\n    eZt=strain_limit_tension,\n    eSxy=strain_limit_shear,\n    eSyz=strain_limit_shear,\n    eSxz=strain_limit_shear,\n)\n\nstress_limits = ConstantStressLimits.from_orthotropic_constants(\n    Xt=7.8e8,\n    Yt=3.1e7,\n    Zt=3.1e7,\n    Xc=-4.8e8,\n    Yc=-1e8,\n    Zc=-1e8,\n    Sxy=3.5e7,\n    Syz=2.5e7,\n    Sxz=3.5e7,\n)"
      ]
    },
    {
      "cell_type": "markdown",
      "metadata": {},
      "source": [
        "Create a uni-directional (UD) material\n"
      ]
    },
    {
      "cell_type": "code",
      "execution_count": null,
      "metadata": {
        "collapsed": false
      },
      "outputs": [],
      "source": [
        "ud_material = model.create_material(\n    name=\"E-Glass UD\",\n    ply_type=PlyType.REGULAR,\n    engineering_constants=engineering_constants_ud,\n    strain_limits=strain_limits,\n    stress_limits=stress_limits,\n)"
      ]
    },
    {
      "cell_type": "markdown",
      "metadata": {},
      "source": [
        "# Create a Fabric\n\nCreate a fabric with a thickness of 0.2 mmm. A material can be used for\nmultiple fabrics.\n"
      ]
    },
    {
      "cell_type": "code",
      "execution_count": null,
      "metadata": {
        "collapsed": false
      },
      "outputs": [],
      "source": [
        "ud_fabric_02mm = model.create_fabric(\n    name=\"E-Glass UD 0.2mm\", material=ud_material, thickness=0.0002\n)\nud_fabric_03mm = model.create_fabric(\n    name=\"E-Glass UD 0.3mm\", material=ud_material, thickness=0.0003\n)"
      ]
    },
    {
      "cell_type": "markdown",
      "metadata": {},
      "source": [
        "# Create a Stackup\n\nCreate a non-crimped fabric. In that case a biax.\n"
      ]
    },
    {
      "cell_type": "code",
      "execution_count": null,
      "metadata": {
        "collapsed": false
      },
      "outputs": [],
      "source": [
        "biax_glass_ud = model.create_stackup(\n    name=\"Biax E-Glass UD [-45, 45]\",\n    fabrics=(\n        FabricWithAngle(ud_fabric_02mm, -45),\n        FabricWithAngle(ud_fabric_02mm, 45),\n    ),\n)"
      ]
    },
    {
      "cell_type": "markdown",
      "metadata": {},
      "source": [
        "# Create a Sub-Laminate\n\nA Sublaminate is a group of fabrics and stackups which eases the\nmodeling if the same sequence of materials is used multiple times. The\nfinal material sequence of this Sublaminate is \\[E-Glass -45\u00b0, E-Glass\n45\u00b0, E-Glass 90\u00b0, E-Glass 45\u00b0, E-Glass -45\u00b0\\].\n"
      ]
    },
    {
      "cell_type": "code",
      "execution_count": null,
      "metadata": {
        "collapsed": false
      },
      "outputs": [],
      "source": [
        "sublaminate = model.create_sublaminate(\n    name=\"Sublaminate\",\n    materials=(\n        Lamina(biax_glass_ud, 0),\n        Lamina(ud_fabric_02mm, 90),\n    ),\n    symmetry=SymmetryType.ODD_SYMMETRY,\n)"
      ]
    },
    {
      "cell_type": "markdown",
      "metadata": {},
      "source": [
        "# Import and Export Materials\n\nMaterials can be imported and exported from and to external sources. By\ndefault, materials are loaded from the CDB file when the model is\nloaded. An alternative is to load materials from an Engineering Data\nfile via `.Model.import_materials`{.interpreted-text role=\"meth\"}.\n"
      ]
    },
    {
      "cell_type": "code",
      "execution_count": null,
      "metadata": {
        "collapsed": false
      },
      "outputs": [],
      "source": [
        "engd_file_path = get_example_file(ExampleKeys.MATERIALS_XML, WORKING_DIR)\nmodel.import_materials(matml_path=engd_file_path)\nmodel.materials"
      ]
    },
    {
      "cell_type": "markdown",
      "metadata": {},
      "source": [
        "Some workflows require the materials to be exported to an XML file.\n"
      ]
    },
    {
      "cell_type": "code",
      "execution_count": null,
      "metadata": {
        "collapsed": false
      },
      "outputs": [],
      "source": [
        "model.export_materials(path=WORKING_DIR / \"exported_materials.xml\")"
      ]
    }
  ],
  "metadata": {
    "kernelspec": {
      "display_name": "Python 3",
      "language": "python",
      "name": "python3"
    },
    "language_info": {
      "codemirror_mode": {
        "name": "ipython",
        "version": 3
      },
      "file_extension": ".py",
      "mimetype": "text/x-python",
      "name": "python",
      "nbconvert_exporter": "python",
      "pygments_lexer": "ipython3",
      "version": "3.12.11"
    }
  },
  "nbformat": 4,
  "nbformat_minor": 0
}