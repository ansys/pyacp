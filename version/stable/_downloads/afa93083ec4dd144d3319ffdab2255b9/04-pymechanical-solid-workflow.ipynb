{
  "cells": [
    {
      "cell_type": "markdown",
      "metadata": {},
      "source": [
        "# PyMechanical solid workflow {#pymechanical_solid_example}\n\nThis example shows how to set up a simple solid model with PyACP and\nPyMechanical:\n\n-   The geometry is imported into Mechanical and meshed.\n-   The mesh is exported to ACP.\n-   A simple lay-up and solid model is defined in ACP.\n-   The solid model is exported, to a CDB file and a composite\n    definition file.\n-   In a separate Mechanical instance, the solid model is imported.\n-   Materials and plies are imported.\n-   Boundary conditions are set.\n-   The model is solved.\n-   The results are post-processed in PyDPF - Composites.\n\n::: warning\n::: title\nWarning\n:::\n\nThe PyACP / PyMechanical integration is still experimental. Refer to the\n`limitations section <limitations>`{.interpreted-text role=\"ref\"} for\nmore information.\n:::\n\n::: note\n::: title\nNote\n:::\n\nOutputs and plots for this example are not shown in the rendered online\ndocumentation. To see the outputs and plots, run the example script or\nJupyter notebook locally.\n:::\n"
      ]
    },
    {
      "cell_type": "markdown",
      "metadata": {},
      "source": [
        "# Import modules and start the Ansys products\n"
      ]
    },
    {
      "cell_type": "markdown",
      "metadata": {},
      "source": [
        "Import the standard library and third-party dependencies.\n"
      ]
    },
    {
      "cell_type": "code",
      "execution_count": null,
      "metadata": {
        "collapsed": false
      },
      "outputs": [],
      "source": [
        "from concurrent.futures import ThreadPoolExecutor\nimport pathlib\nimport tempfile\nimport textwrap"
      ]
    },
    {
      "cell_type": "markdown",
      "metadata": {},
      "source": [
        "Import PyACP, PyMechanical, and PyDPF - Composites.\n"
      ]
    },
    {
      "cell_type": "code",
      "execution_count": null,
      "metadata": {
        "collapsed": false
      },
      "outputs": [],
      "source": [
        "# isort: off\n\nimport ansys.acp.core as pyacp\nfrom ansys.acp.core.extras import set_plot_theme\nimport ansys.dpf.composites as pydpf_composites\nimport ansys.mechanical.core as pymechanical"
      ]
    },
    {
      "cell_type": "markdown",
      "metadata": {},
      "source": [
        "Set the plot theme for the example. This is optional, and ensures that\nyou get the same plot style (theme, color map, etc.) as in the online\ndocumentation.\n"
      ]
    },
    {
      "cell_type": "code",
      "execution_count": null,
      "metadata": {
        "collapsed": false
      },
      "outputs": [],
      "source": [
        "set_plot_theme()"
      ]
    },
    {
      "cell_type": "markdown",
      "metadata": {},
      "source": [
        "Start the ACP, Mechanical, and DPF servers. We use a\n`ThreadPoolExecutor` to start them in parallel.\n"
      ]
    },
    {
      "cell_type": "code",
      "execution_count": null,
      "metadata": {
        "collapsed": false
      },
      "outputs": [],
      "source": [
        "with ThreadPoolExecutor() as executor:\n    futures = [\n        executor.submit(pymechanical.launch_mechanical, batch=True),\n        executor.submit(pymechanical.launch_mechanical, batch=True),\n        executor.submit(pyacp.launch_acp),\n        executor.submit(pydpf_composites.server_helpers.connect_to_or_start_server),\n    ]\n    mechanical_shell_geometry, mechanical_solid_model, acp, dpf = (fut.result() for fut in futures)"
      ]
    },
    {
      "cell_type": "markdown",
      "metadata": {},
      "source": [
        "# Get example input files\n\nCreate a temporary working directory, and download the example input\nfiles to this directory.\n"
      ]
    },
    {
      "cell_type": "code",
      "execution_count": null,
      "metadata": {
        "collapsed": false
      },
      "outputs": [],
      "source": [
        "working_dir = tempfile.TemporaryDirectory()\nworking_dir_path = pathlib.Path(working_dir.name)\ninput_geometry = pyacp.extras.example_helpers.get_example_file(\n    pyacp.extras.example_helpers.ExampleKeys.CLASS40_AGDB, working_dir_path\n)"
      ]
    },
    {
      "cell_type": "markdown",
      "metadata": {},
      "source": [
        "# Generate the mesh in PyMechanical\n\nLoad the geometry into Mechanical, generate the mesh, and export it to\nthe appropriate transfer format for ACP.\n"
      ]
    },
    {
      "cell_type": "code",
      "execution_count": null,
      "metadata": {
        "collapsed": false
      },
      "outputs": [],
      "source": [
        "mesh_path = working_dir_path / \"mesh.h5\"\nmechanical_shell_geometry.run_python_script(\n    # This script runs in the Mechanical Python environment, which uses IronPython 2.7.\n    textwrap.dedent(\n        f\"\"\"\\\n        geometry_import = Model.GeometryImportGroup.AddGeometryImport()\n\n        import_format = Ansys.Mechanical.DataModel.Enums.GeometryImportPreference.Format.Automatic\n        import_preferences = Ansys.ACT.Mechanical.Utilities.GeometryImportPreferences()\n        import_preferences.ProcessNamedSelections = True\n        import_preferences.ProcessCoordinateSystems = True\n\n        geometry_file = {str(input_geometry)!r}\n        geometry_import.Import(\n            geometry_file,\n            import_format,\n            import_preferences\n        )\n\n        for body in Model.Geometry.GetChildren(\n            Ansys.Mechanical.DataModel.Enums.DataModelObjectCategory.Body, True\n        ):\n            body.Thickness = Quantity(1e-6, \"m\")\n\n        hull = Model.AddNamedSelection()\n        hull.Name = \"hull\"\n        hull.ScopingMethod = GeometryDefineByType.Worksheet\n        # Add all faces with Z location < 0.9 m\n        hull.GenerationCriteria.Add(None)\n        hull.GenerationCriteria[0].EntityType = SelectionType.GeoFace\n        hull.GenerationCriteria[0].Operator = SelectionOperatorType.LessThan\n        hull.GenerationCriteria[0].Criterion = SelectionCriterionType.LocationZ\n        hull.GenerationCriteria[0].Value = Quantity('0.9 [m]')\n        # Remove keeltower\n        hull.GenerationCriteria.Add(None)\n        hull.GenerationCriteria[1].Action = SelectionActionType.Remove\n        hull.GenerationCriteria[1].Criterion = SelectionCriterionType.LocationX\n        hull.GenerationCriteria[1].Operator = SelectionOperatorType.RangeInclude\n        hull.GenerationCriteria[1].LowerBound = Quantity('-6.7 [m]')\n        hull.GenerationCriteria[1].UpperBound = Quantity('-5.9 [m]')\n        # Add back keeltower bottom\n        hull.GenerationCriteria.Add(None)\n        hull.GenerationCriteria[2].Criterion = SelectionCriterionType.LocationZ\n        hull.GenerationCriteria[2].Operator = SelectionOperatorType.LessThan\n        hull.GenerationCriteria[2].Value = Quantity('-0.25 [m]')\n        # Remove bulkhead\n        hull.GenerationCriteria.Add(None)\n        hull.GenerationCriteria[3].Action = SelectionActionType.Remove\n        hull.GenerationCriteria[3].Criterion = SelectionCriterionType.LocationX\n        hull.GenerationCriteria[3].Operator = SelectionOperatorType.RangeInclude\n        hull.GenerationCriteria[3].LowerBound = Quantity('-5.7 [m]')\n        hull.GenerationCriteria[3].UpperBound = Quantity('-5.6 [m]')\n        hull.Generate()\n\n        Model.Mesh.GenerateMesh()\n        \"\"\"\n    )\n)\npyacp.mechanical_integration_helpers.export_mesh_for_acp(\n    mechanical=mechanical_shell_geometry, path=mesh_path\n)"
      ]
    },
    {
      "cell_type": "markdown",
      "metadata": {},
      "source": [
        "# Set up the ACP model\n\nSetup basic ACP lay-up based on the mesh in `mesh_path`, and export the\nfollowing files to `output_path`:\n\n-   Materials XML file\n-   Composite definitions HDF5 file\n-   Solid model composite definitions HDF5 file\n-   Solid model CDB file\n"
      ]
    },
    {
      "cell_type": "code",
      "execution_count": null,
      "metadata": {
        "collapsed": false
      },
      "outputs": [],
      "source": [
        "matml_file = \"materials.xml\"\nsolid_model_cdb_file = \"SolidModel.cdb\"\nsolid_model_composite_definitions_h5 = \"SolidModel.h5\"\n\nmodel = acp.import_model(path=mesh_path, format=\"ansys:h5\")\n\nmat = model.create_material(name=\"mat\")\n\nmat.ply_type = \"regular\"\nmat.engineering_constants.E1 = 1e12\nmat.engineering_constants.E2 = 1e11\nmat.engineering_constants.E3 = 1e11\nmat.engineering_constants.G12 = 1e10\nmat.engineering_constants.G23 = 1e10\nmat.engineering_constants.G31 = 1e10\nmat.engineering_constants.nu12 = 0.3\nmat.engineering_constants.nu13 = 0.3\nmat.engineering_constants.nu23 = 0.3\n\nmat.strain_limits = pyacp.material_property_sets.ConstantStrainLimits.from_orthotropic_constants(\n    eXc=-0.01,\n    eYc=-0.01,\n    eZc=-0.01,\n    eXt=0.01,\n    eYt=0.01,\n    eZt=0.01,\n    eSxy=0.01,\n    eSyz=0.01,\n    eSxz=0.01,\n)\n\ncorecell_81kg_5mm = model.create_fabric(name=\"Corecell 81kg\", thickness=0.005, material=mat)\n\nros = model.create_rosette(name=\"ros\", origin=(0, 0, 0))\n\noss = model.create_oriented_selection_set(\n    name=\"oss\",\n    orientation_point=(-0, 0, 0),\n    orientation_direction=(0.0, 1, 0.0),\n    element_sets=[model.element_sets[\"All_Elements\"]],\n    rosettes=[ros],\n)\n\nmg = model.create_modeling_group(name=\"group\")\nmg.create_modeling_ply(\n    name=\"ply\",\n    ply_material=corecell_81kg_5mm,\n    oriented_selection_sets=[oss],\n    ply_angle=45,\n    number_of_layers=1,\n    global_ply_nr=0,  # add at the end\n)\nmg.create_modeling_ply(\n    name=\"ply2\",\n    ply_material=corecell_81kg_5mm,\n    oriented_selection_sets=[oss],\n    ply_angle=0,\n    number_of_layers=2,\n    global_ply_nr=0,  # add at the end\n)\n\nsolid_model = model.create_solid_model(\n    element_sets=[model.element_sets[\"hull\"]],\n)"
      ]
    },
    {
      "cell_type": "markdown",
      "metadata": {},
      "source": [
        "# Update and Save the ACP model\n"
      ]
    },
    {
      "cell_type": "code",
      "execution_count": null,
      "metadata": {
        "collapsed": false
      },
      "outputs": [],
      "source": [
        "model.update()\n\nmodel.export_materials(working_dir_path / matml_file)\nsolid_model.export(working_dir_path / solid_model_cdb_file, format=\"ansys:cdb\")\nsolid_model.export(working_dir_path / solid_model_composite_definitions_h5, format=\"ansys:h5\")"
      ]
    },
    {
      "cell_type": "markdown",
      "metadata": {},
      "source": [
        "# Import mesh, materials and plies into Mechanical\n\nImport geometry, mesh, and named selections into Mechanical\n"
      ]
    },
    {
      "cell_type": "code",
      "execution_count": null,
      "metadata": {
        "collapsed": false
      },
      "outputs": [],
      "source": [
        "pyacp.mechanical_integration_helpers.import_acp_mesh_from_cdb(\n    mechanical=mechanical_solid_model, cdb_path=working_dir_path / solid_model_cdb_file\n)"
      ]
    },
    {
      "cell_type": "markdown",
      "metadata": {},
      "source": [
        "Import materials into Mechanical\n"
      ]
    },
    {
      "cell_type": "code",
      "execution_count": null,
      "metadata": {
        "collapsed": false
      },
      "outputs": [],
      "source": [
        "mechanical_solid_model.run_python_script(\n    f\"Model.Materials.Import({str(working_dir_path / matml_file)!r})\"\n)"
      ]
    },
    {
      "cell_type": "markdown",
      "metadata": {},
      "source": [
        "Import plies into Mechanical\n"
      ]
    },
    {
      "cell_type": "code",
      "execution_count": null,
      "metadata": {
        "collapsed": false
      },
      "outputs": [],
      "source": [
        "pyacp.mechanical_integration_helpers.import_acp_composite_definitions(\n    mechanical=mechanical_solid_model, path=working_dir_path / solid_model_composite_definitions_h5\n)"
      ]
    },
    {
      "cell_type": "markdown",
      "metadata": {},
      "source": [
        "# Set boundary condition and solve\n\nSet boundary condition and solve\n"
      ]
    },
    {
      "cell_type": "code",
      "execution_count": null,
      "metadata": {
        "collapsed": false
      },
      "outputs": [],
      "source": [
        "mechanical_solid_model.run_python_script(\n    textwrap.dedent(\n        \"\"\"\\\n        analysis = Model.AddStaticStructuralAnalysis()\n\n        front_face = Model.AddNamedSelection()\n        front_face.Name = \"front_face\"\n        front_face.ScopingMethod = GeometryDefineByType.Worksheet\n        front_face.GenerationCriteria.Add(None)\n        front_face.GenerationCriteria[0].EntityType = SelectionType.GeoFace\n        front_face.GenerationCriteria[0].Criterion = SelectionCriterionType.LocationX\n        front_face.GenerationCriteria[0].Operator = SelectionOperatorType.Largest\n        front_face.Generate()\n\n        back_face = Model.AddNamedSelection()\n        back_face.Name = \"back_face\"\n        back_face.ScopingMethod = GeometryDefineByType.Worksheet\n        back_face.GenerationCriteria.Add(None)\n        back_face.GenerationCriteria[0].EntityType = SelectionType.GeoFace\n        back_face.GenerationCriteria[0].Criterion = SelectionCriterionType.LocationX\n        back_face.GenerationCriteria[0].Operator = SelectionOperatorType.Smallest\n        back_face.Generate()\n\n        fixed_support = analysis.AddFixedSupport()\n        fixed_support.Location = back_face\n\n        force = analysis.AddForce()\n        force.DefineBy = LoadDefineBy.Components\n        force.XComponent.Output.SetDiscreteValue(0, Quantity(1e5, \"N\"))\n        force.Location = front_face\n\n        analysis.Solve(True)\n        \"\"\"\n    )\n)\n\nrst_file = [\n    filename for filename in mechanical_solid_model.list_files() if filename.endswith(\".rst\")\n][0]\nmatml_out = [\n    filename for filename in mechanical_solid_model.list_files() if filename.endswith(\"MatML.xml\")\n][0]"
      ]
    },
    {
      "cell_type": "markdown",
      "metadata": {},
      "source": [
        "# Postprocess results\n\nEvaluate the failure criteria using the PyDPF - Composites.\n"
      ]
    },
    {
      "cell_type": "code",
      "execution_count": null,
      "metadata": {
        "collapsed": false
      },
      "outputs": [],
      "source": [
        "max_strain = pydpf_composites.failure_criteria.MaxStrainCriterion()\ncfc = pydpf_composites.failure_criteria.CombinedFailureCriterion(\n    name=\"Combined Failure Criterion\",\n    failure_criteria=[max_strain],\n)\n\ncomposite_model = pydpf_composites.composite_model.CompositeModel(\n    composite_files=pydpf_composites.data_sources.ContinuousFiberCompositesFiles(\n        rst=rst_file,\n        composite={\n            \"solid\": pydpf_composites.data_sources.CompositeDefinitionFiles(\n                definition=working_dir_path / solid_model_composite_definitions_h5\n            ),\n        },\n        engineering_data=working_dir_path / matml_out,\n    ),\n    server=dpf,\n)\n\n# Evaluate the failure criteria\noutput_all_elements = composite_model.evaluate_failure_criteria(cfc)\n\n# Query and plot the results\nirf_field = output_all_elements.get_field(\n    {\"failure_label\": pydpf_composites.constants.FailureOutput.FAILURE_VALUE}\n)\n\nirf_field.plot()"
      ]
    }
  ],
  "metadata": {
    "kernelspec": {
      "display_name": "Python 3",
      "language": "python",
      "name": "python3"
    },
    "language_info": {
      "codemirror_mode": {
        "name": "ipython",
        "version": 3
      },
      "file_extension": ".py",
      "mimetype": "text/x-python",
      "name": "python",
      "nbconvert_exporter": "python",
      "pygments_lexer": "ipython3",
      "version": "3.12.11"
    }
  },
  "nbformat": 4,
  "nbformat_minor": 0
}