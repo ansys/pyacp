{
  "cells": [
    {
      "cell_type": "markdown",
      "metadata": {},
      "source": [
        "# PyMechanical to CDB shell workflow {#pymechanical_to_cdb_example}\n\nThis example shows how to set up a workflow that uses PyMechanical to\nmesh the geometry and define the load case, PyACP to define a layup,\nPyMAPDL to solve the model, and PyDPF - Composites to post-process the\nresults.\n\nThis workflow does *not* suffer from the limitations of the PyACP to\nPyMechanical integration.\n\n::: note\n::: title\nNote\n:::\n\nOutputs and plots for this example are not shown in the rendered online\ndocumentation. To see the outputs and plots, run the example script or\nJupyter notebook locally.\n:::\n"
      ]
    },
    {
      "cell_type": "markdown",
      "metadata": {},
      "source": [
        "# Import modules and start the Ansys products\n"
      ]
    },
    {
      "cell_type": "markdown",
      "metadata": {},
      "source": [
        "Import the standard library and third-party dependencies.\n"
      ]
    },
    {
      "cell_type": "code",
      "execution_count": null,
      "metadata": {
        "collapsed": false
      },
      "outputs": [],
      "source": [
        "from concurrent.futures import ThreadPoolExecutor\nimport pathlib\nimport tempfile\nimport textwrap"
      ]
    },
    {
      "cell_type": "markdown",
      "metadata": {},
      "source": [
        "Import PyACP, PyMechanical, and PyDPF - Composites.\n"
      ]
    },
    {
      "cell_type": "code",
      "execution_count": null,
      "metadata": {
        "collapsed": false
      },
      "outputs": [],
      "source": [
        "# isort: off\nimport ansys.acp.core as pyacp\nfrom ansys.acp.core.extras import set_plot_theme\nimport ansys.dpf.core as pydpf_core\nimport ansys.dpf.composites as pydpf_composites\nimport ansys.mapdl.core as pymapdl\nimport ansys.mechanical.core as pymechanical"
      ]
    },
    {
      "cell_type": "markdown",
      "metadata": {},
      "source": [
        "Set the plot theme for the example. This is optional, and ensures that\nyou get the same plot style (theme, color map, etc.) as in the online\ndocumentation.\n"
      ]
    },
    {
      "cell_type": "code",
      "execution_count": null,
      "metadata": {
        "collapsed": false
      },
      "outputs": [],
      "source": [
        "set_plot_theme()"
      ]
    },
    {
      "cell_type": "markdown",
      "metadata": {},
      "source": [
        "Start the ACP, Mechanical, and DPF servers. We use a\n`ThreadPoolExecutor` to start them in parallel.\n"
      ]
    },
    {
      "cell_type": "code",
      "execution_count": null,
      "metadata": {
        "collapsed": false
      },
      "outputs": [],
      "source": [
        "with ThreadPoolExecutor() as executor:\n    futures = [\n        executor.submit(pymechanical.launch_mechanical, batch=True),\n        executor.submit(pyacp.launch_acp),\n        executor.submit(pymapdl.launch_mapdl),\n        executor.submit(pydpf_composites.server_helpers.connect_to_or_start_server),\n    ]\n    mechanical, acp, mapdl, dpf = (fut.result() for fut in futures)\n    mapdl.clear()"
      ]
    },
    {
      "cell_type": "markdown",
      "metadata": {},
      "source": [
        "# Get example input files\n\nCreate a temporary working directory, and download the example input\nfiles to this directory.\n"
      ]
    },
    {
      "cell_type": "code",
      "execution_count": null,
      "metadata": {
        "collapsed": false
      },
      "outputs": [],
      "source": [
        "working_dir = tempfile.TemporaryDirectory()\nworking_dir_path = pathlib.Path(working_dir.name)\ninput_geometry = pyacp.extras.example_helpers.get_example_file(\n    pyacp.extras.example_helpers.ExampleKeys.CLASS40_AGDB, working_dir_path\n)"
      ]
    },
    {
      "cell_type": "markdown",
      "metadata": {},
      "source": [
        "# Generate the mesh in PyMechanical\n\nLoad the geometry into Mechanical, generate the mesh, and define the\nload case.\n"
      ]
    },
    {
      "cell_type": "code",
      "execution_count": null,
      "metadata": {
        "collapsed": false
      },
      "outputs": [],
      "source": [
        "cdb_path_initial = working_dir_path / \"model_from_mechanical.cdb\"\nmechanical.run_python_script(\n    # This script runs in the Mechanical Python environment, which uses IronPython 2.7.\n    textwrap.dedent(\n        f\"\"\"\\\n        # Import the geometry\n        geometry_import = Model.GeometryImportGroup.AddGeometryImport()\n\n        import_format = Ansys.Mechanical.DataModel.Enums.GeometryImportPreference.Format.Automatic\n        import_preferences = Ansys.ACT.Mechanical.Utilities.GeometryImportPreferences()\n        import_preferences.ProcessNamedSelections = True\n        import_preferences.ProcessCoordinateSystems = True\n\n        geometry_file = {str(input_geometry)!r}\n        geometry_import.Import(\n            geometry_file,\n            import_format,\n            import_preferences\n        )\n\n        # The thickness will be overridden by the ACP model, but is required\n        # for the model to be valid.\n        for body in Model.Geometry.GetChildren(\n            Ansys.Mechanical.DataModel.Enums.DataModelObjectCategory.Body, True\n        ):\n            body.Thickness = Quantity(1e-6, \"m\")\n\n        Model.Mesh.GenerateMesh()\n\n        # Define named selections at the front and back edges\n        front_edge = Model.AddNamedSelection()\n        front_edge.Name = \"Front Edge\"\n        front_edge.ScopingMethod = GeometryDefineByType.Worksheet\n\n        front_edge.GenerationCriteria.Add(None)\n        front_edge.GenerationCriteria[0].EntityType = SelectionType.GeoEdge\n        front_edge.GenerationCriteria[0].Criterion = SelectionCriterionType.LocationX\n        front_edge.GenerationCriteria[0].Operator = SelectionOperatorType.GreaterThan\n        front_edge.GenerationCriteria[0].Value = Quantity('-4.6 [m]')\n        front_edge.Generate()\n\n        back_edge = Model.AddNamedSelection()\n        back_edge.Name = \"Back Edge\"\n        back_edge.ScopingMethod = GeometryDefineByType.Worksheet\n\n        back_edge.GenerationCriteria.Add(None)\n        back_edge.GenerationCriteria[0].EntityType = SelectionType.GeoEdge\n        back_edge.GenerationCriteria[0].Criterion = SelectionCriterionType.LocationX\n        back_edge.GenerationCriteria[0].Operator = SelectionOperatorType.LessThan\n        back_edge.GenerationCriteria[0].Value = Quantity('-7.8 [m]')\n        back_edge.Generate()\n\n        # Create a static structural analysis, and define the boundary\n        # conditions (fixed support at the back edge, force at the front edge).\n        analysis = Model.AddStaticStructuralAnalysis()\n\n        fixed_support = analysis.AddFixedSupport()\n        fixed_support.Location = back_edge\n\n        force = analysis.AddForce()\n        force.DefineBy = LoadDefineBy.Components\n        force.XComponent.Output.SetDiscreteValue(0, Quantity(1e6, \"N\"))\n        force.Location = front_edge\n\n        # Export the model to a CDB file\n        analysis.WriteInputFile({str(cdb_path_initial)!r})\n        \"\"\"\n    )\n)"
      ]
    },
    {
      "cell_type": "markdown",
      "metadata": {},
      "source": [
        "# Set up the ACP model\n\nSetup basic ACP lay-up based on the CDB file.\n"
      ]
    },
    {
      "cell_type": "code",
      "execution_count": null,
      "metadata": {
        "collapsed": false
      },
      "outputs": [],
      "source": [
        "model = acp.import_model(path=cdb_path_initial, format=\"ansys:cdb\")\n\nmat = model.create_material(name=\"mat\")\n\nmat.ply_type = \"regular\"\nmat.engineering_constants.E1 = 1e12\nmat.engineering_constants.E2 = 1e11\nmat.engineering_constants.E3 = 1e11\nmat.engineering_constants.G12 = 1e10\nmat.engineering_constants.G23 = 1e10\nmat.engineering_constants.G31 = 1e10\nmat.engineering_constants.nu12 = 0.3\nmat.engineering_constants.nu13 = 0.3\nmat.engineering_constants.nu23 = 0.3\n\nmat.strain_limits = pyacp.material_property_sets.ConstantStrainLimits.from_orthotropic_constants(\n    eXc=-0.01,\n    eYc=-0.01,\n    eZc=-0.01,\n    eXt=0.01,\n    eYt=0.01,\n    eZt=0.01,\n    eSxy=0.01,\n    eSyz=0.01,\n    eSxz=0.01,\n)\n\ncorecell_81kg_5mm = model.create_fabric(name=\"Corecell 81kg\", thickness=0.005, material=mat)\n\nros = model.create_rosette(name=\"ros\", origin=(0, 0, 0))\n\noss = model.create_oriented_selection_set(\n    name=\"oss\",\n    orientation_point=(-0, 0, 0),\n    orientation_direction=(0.0, 1, 0.0),\n    element_sets=[model.element_sets[\"All_Elements\"]],\n    rosettes=[ros],\n)\n\nmg = model.create_modeling_group(name=\"group\")\nmg.create_modeling_ply(\n    name=\"ply\",\n    ply_material=corecell_81kg_5mm,\n    oriented_selection_sets=[oss],\n    ply_angle=45,\n    number_of_layers=1,\n    global_ply_nr=0,  # add at the end\n)\nmg.create_modeling_ply(\n    name=\"ply2\",\n    ply_material=corecell_81kg_5mm,\n    oriented_selection_sets=[oss],\n    ply_angle=0,\n    number_of_layers=2,\n    global_ply_nr=0,  # add at the end\n)"
      ]
    },
    {
      "cell_type": "markdown",
      "metadata": {},
      "source": [
        "# Update and Save the ACP model\n"
      ]
    },
    {
      "cell_type": "code",
      "execution_count": null,
      "metadata": {
        "collapsed": false
      },
      "outputs": [],
      "source": [
        "model.update()\n\ncdb_filename_out = \"model_from_acp.cdb\"\ncomposite_definitions_h5_filename = \"ACPCompositeDefinitions.h5\"\nmatml_filename = \"materials.xml\"\n\nmodel.export_analysis_model(working_dir_path / cdb_filename_out)\nmodel.export_shell_composite_definitions(working_dir_path / composite_definitions_h5_filename)\nmodel.export_materials(working_dir_path / matml_filename)"
      ]
    },
    {
      "cell_type": "markdown",
      "metadata": {},
      "source": [
        "# Solve with PyMAPDL\n"
      ]
    },
    {
      "cell_type": "code",
      "execution_count": null,
      "metadata": {
        "collapsed": false
      },
      "outputs": [],
      "source": [
        "mapdl.clear()"
      ]
    },
    {
      "cell_type": "markdown",
      "metadata": {},
      "source": [
        "Load the CDB file into PyMAPDL.\n"
      ]
    },
    {
      "cell_type": "code",
      "execution_count": null,
      "metadata": {
        "collapsed": false
      },
      "outputs": [],
      "source": [
        "mapdl.input(str(working_dir_path / cdb_filename_out))"
      ]
    },
    {
      "cell_type": "markdown",
      "metadata": {},
      "source": [
        "Solve the model.\n"
      ]
    },
    {
      "cell_type": "code",
      "execution_count": null,
      "metadata": {
        "collapsed": false
      },
      "outputs": [],
      "source": [
        "mapdl.allsel()\nmapdl.slashsolu()\nmapdl.solve()"
      ]
    },
    {
      "cell_type": "markdown",
      "metadata": {},
      "source": [
        "Show the displacements in postprocessing.\n"
      ]
    },
    {
      "cell_type": "code",
      "execution_count": null,
      "metadata": {
        "collapsed": false
      },
      "outputs": [],
      "source": [
        "mapdl.post1()\nmapdl.set(\"last\")\nmapdl.post_processing.plot_nodal_displacement(component=\"NORM\")"
      ]
    },
    {
      "cell_type": "markdown",
      "metadata": {},
      "source": [
        "Download the RST file for further postprocessing.\n"
      ]
    },
    {
      "cell_type": "code",
      "execution_count": null,
      "metadata": {
        "collapsed": false
      },
      "outputs": [],
      "source": [
        "rstfile_name = f\"{mapdl.jobname}.rst\"\nrst_file_local_path = working_dir_path / rstfile_name\nmapdl.download(rstfile_name, working_dir_path)"
      ]
    },
    {
      "cell_type": "markdown",
      "metadata": {},
      "source": [
        "# Postprocessing with PyDPF - Composites\n\nSpecify the combined failure criterion.\n"
      ]
    },
    {
      "cell_type": "code",
      "execution_count": null,
      "metadata": {
        "collapsed": false
      },
      "outputs": [],
      "source": [
        "max_strain = pydpf_composites.failure_criteria.MaxStrainCriterion()\n\ncfc = pydpf_composites.failure_criteria.CombinedFailureCriterion(\n    name=\"Combined Failure Criterion\",\n    failure_criteria=[max_strain],\n)"
      ]
    },
    {
      "cell_type": "markdown",
      "metadata": {},
      "source": [
        "Create the composite model and configure its input.\n"
      ]
    },
    {
      "cell_type": "code",
      "execution_count": null,
      "metadata": {
        "collapsed": false
      },
      "outputs": [],
      "source": [
        "composite_model = pydpf_composites.composite_model.CompositeModel(\n    composite_files=pydpf_composites.data_sources.ContinuousFiberCompositesFiles(\n        rst=rst_file_local_path,\n        composite={\n            \"shell\": pydpf_composites.data_sources.CompositeDefinitionFiles(\n                definition=working_dir_path / composite_definitions_h5_filename\n            ),\n        },\n        engineering_data=working_dir_path / matml_filename,\n    ),\n    default_unit_system=pydpf_core.unit_system.unit_systems.solver_nmm,\n    server=dpf,\n)"
      ]
    },
    {
      "cell_type": "markdown",
      "metadata": {},
      "source": [
        "Evaluate the failure criteria.\n"
      ]
    },
    {
      "cell_type": "code",
      "execution_count": null,
      "metadata": {
        "collapsed": false
      },
      "outputs": [],
      "source": [
        "output_all_elements = composite_model.evaluate_failure_criteria(cfc)"
      ]
    },
    {
      "cell_type": "markdown",
      "metadata": {},
      "source": [
        "Query and plot the results.\n\nNote that the maximum IRF is different when compared to\n`pymechanical_shell_example`{.interpreted-text role=\"ref\"} because ACP\nsets the `ERESX,NO` option in the CDB file. This option disables\ninterpolation of the results from the integration point to the nodes.\n"
      ]
    },
    {
      "cell_type": "code",
      "execution_count": null,
      "metadata": {
        "collapsed": false
      },
      "outputs": [],
      "source": [
        "irf_field = output_all_elements.get_field(\n    {\"failure_label\": pydpf_composites.constants.FailureOutput.FAILURE_VALUE}\n)\nirf_field.plot()\n\n# Close MAPDL instance\nmapdl.exit()"
      ]
    }
  ],
  "metadata": {
    "kernelspec": {
      "display_name": "Python 3",
      "language": "python",
      "name": "python3"
    },
    "language_info": {
      "codemirror_mode": {
        "name": "ipython",
        "version": 3
      },
      "file_extension": ".py",
      "mimetype": "text/x-python",
      "name": "python",
      "nbconvert_exporter": "python",
      "pygments_lexer": "ipython3",
      "version": "3.12.11"
    }
  },
  "nbformat": 4,
  "nbformat_minor": 0
}