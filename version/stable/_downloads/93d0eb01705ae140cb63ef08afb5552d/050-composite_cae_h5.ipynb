{
  "cells": [
    {
      "cell_type": "markdown",
      "metadata": {},
      "source": [
        "# HDF5 Composite CAE {#composite_cae_h5_example}\n\nThe HDF5 Composite CAE interface of PyACP is demonstrated in this\nexample. It shows how to write (export) and read (import) layup data to\nand from a HDF5 Composite CAE file, respectively. The HDF5 Composite CAE\nformat is a vendor independent format to exchange composite layup\ninformation between CAE tools.\n\nThis examples demonstrates how to: - Load and manipulate a model -\nExport data to a HDF5 Composite CAE file - Import and map layup from\nHDF5 Composite CAE onto a different model (mesh) - Export data with ply\noffsets (3D plies) - Import a layup as\n`.ImportedModelingPly`{.interpreted-text role=\"class\"} - Import HDF5\nComposite CAE with 3D plies and map the layup onto an\n`.ImportedSolidModel`{.interpreted-text role=\"class\"}\n"
      ]
    },
    {
      "cell_type": "markdown",
      "metadata": {},
      "source": [
        "Import the standard library and third-party dependencies.\n"
      ]
    },
    {
      "cell_type": "code",
      "execution_count": null,
      "metadata": {
        "collapsed": false
      },
      "outputs": [],
      "source": [
        "import pathlib\nimport tempfile\n\nimport pyvista"
      ]
    },
    {
      "cell_type": "markdown",
      "metadata": {},
      "source": [
        "Import the PyACP dependencies.\n"
      ]
    },
    {
      "cell_type": "code",
      "execution_count": null,
      "metadata": {
        "collapsed": false
      },
      "outputs": [],
      "source": [
        "from ansys.acp.core import (\n    HDF5CompositeCAEProjectionMode,\n    LinkedSelectionRule,\n    OffsetType,\n    launch_acp,\n)\nfrom ansys.acp.core.extras import (\n    FLAT_PLATE_SHELL_CAMERA,\n    FLAT_PLATE_SOLID_CAMERA,\n    ExampleKeys,\n    get_example_file,\n    set_plot_theme,\n)"
      ]
    },
    {
      "cell_type": "markdown",
      "metadata": {},
      "source": [
        "Set the plot theme for the example. This is optional, and ensures that\nyou get the same plot style (theme, color map, etc.) as in the online\ndocumentation.\n"
      ]
    },
    {
      "cell_type": "code",
      "execution_count": null,
      "metadata": {
        "collapsed": false
      },
      "outputs": [],
      "source": [
        "set_plot_theme()"
      ]
    },
    {
      "cell_type": "markdown",
      "metadata": {},
      "source": [
        "# Start ACP and load the model\n\nGet the example file from the server.\n"
      ]
    },
    {
      "cell_type": "code",
      "execution_count": null,
      "metadata": {
        "collapsed": false
      },
      "outputs": [],
      "source": [
        "tempdir = tempfile.TemporaryDirectory()\nWORKING_DIR = pathlib.Path(tempdir.name)\nacph5_input_file = get_example_file(ExampleKeys.BASIC_FLAT_PLATE_ACPH5, WORKING_DIR)"
      ]
    },
    {
      "cell_type": "markdown",
      "metadata": {},
      "source": [
        "Launch the PyACP server and connect to it.\n"
      ]
    },
    {
      "cell_type": "code",
      "execution_count": null,
      "metadata": {
        "collapsed": false
      },
      "outputs": [],
      "source": [
        "acp = launch_acp()"
      ]
    },
    {
      "cell_type": "markdown",
      "metadata": {},
      "source": [
        "Load the model from an acph5 file\n"
      ]
    },
    {
      "cell_type": "code",
      "execution_count": null,
      "metadata": {
        "collapsed": false
      },
      "outputs": [],
      "source": [
        "model = acp.import_model(acph5_input_file)"
      ]
    },
    {
      "cell_type": "markdown",
      "metadata": {},
      "source": [
        "Crop some plies in order to generate a variable laminate\n"
      ]
    },
    {
      "cell_type": "code",
      "execution_count": null,
      "metadata": {
        "collapsed": false
      },
      "outputs": [],
      "source": [
        "pr_x = model.create_parallel_selection_rule(\n    name=\"x axis\",\n    direction=(1, 0, 0),\n    lower_limit=0.0025,\n    upper_limit=0.0075,\n)\npr_z = model.create_parallel_selection_rule(\n    name=\"z axis\",\n    direction=(0, 0, 1),\n    lower_limit=0.0015,\n    upper_limit=0.0085,\n)\nboolean_rule = model.create_boolean_selection_rule(\n    name=\"boolean rule\",\n    selection_rules=[LinkedSelectionRule(pr_x), LinkedSelectionRule(pr_z)],\n)\n\nfor ply_name in [\"ply_1_45_UD\", \"ply_2_-45_UD\", \"ply_3_45_UD\", \"ply_4_-45_UD\"]:\n    ply = model.modeling_groups[\"modeling_group\"].modeling_plies[ply_name]\n    ply.selection_rules = [LinkedSelectionRule(boolean_rule)]\n\nmodel.update()"
      ]
    },
    {
      "cell_type": "markdown",
      "metadata": {},
      "source": [
        "Plot the thickness distribution\n"
      ]
    },
    {
      "cell_type": "code",
      "execution_count": null,
      "metadata": {
        "collapsed": false
      },
      "outputs": [],
      "source": [
        "thickness = model.elemental_data.thickness\nassert thickness is not None\nthickness.get_pyvista_mesh(mesh=model.mesh).plot(show_edges=True)"
      ]
    },
    {
      "cell_type": "markdown",
      "metadata": {},
      "source": [
        "# Write HDF5 Composite CAE file\n\nExport the entire layup to a HDF5 Composite CAE file.\n"
      ]
    },
    {
      "cell_type": "code",
      "execution_count": null,
      "metadata": {
        "collapsed": false
      },
      "outputs": [],
      "source": [
        "h5_output_file = WORKING_DIR / \"hdf5_composite_cae.h5\"\nmodel.export_hdf5_composite_cae(\n    path=h5_output_file,\n)"
      ]
    },
    {
      "cell_type": "markdown",
      "metadata": {},
      "source": [
        "# Load HDF5 Composite CAE file into a different model\n\nA new acp model is created by importing a refined mesh of the same\ngeometry. Both meshes (initial mesh in blue, refined one in red) are\nshown below.\n"
      ]
    },
    {
      "cell_type": "code",
      "execution_count": null,
      "metadata": {
        "collapsed": false
      },
      "outputs": [],
      "source": [
        "dat_input_file_refined = get_example_file(ExampleKeys.BASIC_FLAT_PLATE_REFINED_DAT, WORKING_DIR)\nrefined_model = acp.import_model(path=dat_input_file_refined, format=\"ansys:dat\")\n\nplotter = pyvista.Plotter()\nplotter.add_mesh(\n    model.shell_mesh.to_pyvista(),\n    color=\"blue\",\n    edge_color=\"blue\",\n    show_edges=True,\n    style=\"wireframe\",\n    line_width=4,\n)\nplotter.add_mesh(\n    refined_model.shell_mesh.to_pyvista(),\n    color=\"red\",\n    edge_color=\"red\",\n    show_edges=True,\n    style=\"wireframe\",\n    line_width=2,\n)\nplotter.camera_position = FLAT_PLATE_SHELL_CAMERA\nplotter.show()"
      ]
    },
    {
      "cell_type": "markdown",
      "metadata": {},
      "source": [
        "Import the HDF5 Composite CAE file which is then automatically mapped\nonto the refined mesh. In this example, the default settings\n(tolerances, etc.) are used.\n"
      ]
    },
    {
      "cell_type": "code",
      "execution_count": null,
      "metadata": {
        "collapsed": false
      },
      "outputs": [],
      "source": [
        "refined_model.import_hdf5_composite_cae(\n    path=h5_output_file,\n)\nrefined_model.update()"
      ]
    },
    {
      "cell_type": "markdown",
      "metadata": {},
      "source": [
        "Plot the thickness distribution on the refined model\n"
      ]
    },
    {
      "cell_type": "code",
      "execution_count": null,
      "metadata": {
        "collapsed": false
      },
      "outputs": [],
      "source": [
        "thickness = refined_model.elemental_data.thickness\nassert thickness is not None\nthickness.get_pyvista_mesh(mesh=refined_model.mesh).plot(show_edges=True)"
      ]
    },
    {
      "cell_type": "markdown",
      "metadata": {},
      "source": [
        "# 3D plies with ply-offsets\n\nThe HDF5 Composite CAE interface also allows to export the 3D plies\n(plies with offsets) which can then be used to create imported modeling\nplies. The initial model is used to write a new HDF5 with\n`layup_representation_3d` enabled.\n"
      ]
    },
    {
      "cell_type": "code",
      "execution_count": null,
      "metadata": {
        "collapsed": false
      },
      "outputs": [],
      "source": [
        "h5_output_file_3D = WORKING_DIR / \"hdf5_composite_cae_3D.h5\"\nmodel.export_hdf5_composite_cae(\n    path=h5_output_file_3D,\n    layup_representation_3d=True,\n    offset_type=OffsetType.BOTTOM_OFFSET,\n)"
      ]
    },
    {
      "cell_type": "markdown",
      "metadata": {},
      "source": [
        "A new acp model is created to properly separate the different workflows.\n"
      ]
    },
    {
      "cell_type": "code",
      "execution_count": null,
      "metadata": {
        "collapsed": false
      },
      "outputs": [],
      "source": [
        "refined_model_3D = acp.import_model(path=dat_input_file_refined, format=\"ansys:dat\")\nrefined_model_3D.import_hdf5_composite_cae(\n    path=h5_output_file_3D, projection_mode=HDF5CompositeCAEProjectionMode.SOLID\n)"
      ]
    },
    {
      "cell_type": "markdown",
      "metadata": {},
      "source": [
        "An imported solid model is required for the 3D workflow (with imported\nmodeling plies). Details about `.ImportedSolidModel`{.interpreted-text\nrole=\"class\"} and `.ImportedModelingPly`{.interpreted-text role=\"class\"}\ncan be found in the examples\n`imported_solid_model_example`{.interpreted-text role=\"ref\"} and\n`imported_plies_example`{.interpreted-text role=\"ref\"}.\n"
      ]
    },
    {
      "cell_type": "code",
      "execution_count": null,
      "metadata": {
        "collapsed": false
      },
      "outputs": [],
      "source": [
        "local_solid_mesh_file = get_example_file(ExampleKeys.BASIC_FLAT_PLATE_SOLID_MESH_CDB, WORKING_DIR)\nremote_solid_mesh_file = acp.upload_file(local_solid_mesh_file)\nimported_solid_model = refined_model_3D.create_imported_solid_model(\n    name=\"Imported Solid Model\",\n    external_path=remote_solid_mesh_file,\n    format=\"ansys:cdb\",\n)"
      ]
    },
    {
      "cell_type": "markdown",
      "metadata": {},
      "source": [
        "The `.LayupMappingObject`{.interpreted-text role=\"class\"} is used to\nconfigure the mapping of the imported plies onto the imported solid\nmodel.\n"
      ]
    },
    {
      "cell_type": "code",
      "execution_count": null,
      "metadata": {
        "collapsed": false
      },
      "outputs": [],
      "source": [
        "imported_solid_model.create_layup_mapping_object(\n    name=\"Map imported plies\",\n    use_imported_plies=True,  # enable imported plies\n    select_all_plies=True,  # select all plies\n    scale_ply_thicknesses=True,\n    entire_solid_mesh=True,\n    delete_lost_elements=True,  # elements without plies are deleted\n)\nrefined_model_3D.update()"
      ]
    },
    {
      "cell_type": "markdown",
      "metadata": {},
      "source": [
        "The mapped top layer of the imported laminate is shown below. Note that\nthe solid elements which do not intersect with the layup are deleted in\nthis example.\n"
      ]
    },
    {
      "cell_type": "code",
      "execution_count": null,
      "metadata": {
        "collapsed": false
      },
      "outputs": [],
      "source": [
        "imported_analysis_ply = (\n    refined_model_3D.imported_modeling_groups[\"modeling_group\"]\n    .imported_modeling_plies[\"ply_5_0_UD\"]\n    .imported_production_plies[\"ImportedProductionPly.6\"]\n    .imported_analysis_plies[\"P1L1__ply_5_0_UD\"]\n)\nplotter = pyvista.Plotter()\nplotter.add_mesh(imported_analysis_ply.solid_mesh.to_pyvista(), show_edges=True)\nplotter.add_mesh(refined_model_3D.solid_mesh.to_pyvista(), opacity=0.2, show_edges=False)\nplotter.camera_position = FLAT_PLATE_SOLID_CAMERA\nplotter.show()"
      ]
    },
    {
      "cell_type": "markdown",
      "metadata": {},
      "source": [
        "Note that the visualization of imported plies and imported solid model\nis limited. As an alternative, you can save the model and review it in\nACP standalone.\n"
      ]
    }
  ],
  "metadata": {
    "kernelspec": {
      "display_name": "Python 3",
      "language": "python",
      "name": "python3"
    },
    "language_info": {
      "codemirror_mode": {
        "name": "ipython",
        "version": 3
      },
      "file_extension": ".py",
      "mimetype": "text/x-python",
      "name": "python",
      "nbconvert_exporter": "python",
      "pygments_lexer": "ipython3",
      "version": "3.12.11"
    }
  },
  "nbformat": 4,
  "nbformat_minor": 0
}