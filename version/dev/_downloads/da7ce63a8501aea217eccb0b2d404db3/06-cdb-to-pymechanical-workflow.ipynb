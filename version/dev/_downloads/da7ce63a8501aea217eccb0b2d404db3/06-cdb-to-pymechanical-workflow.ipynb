{
  "cells": [
    {
      "cell_type": "markdown",
      "metadata": {},
      "source": [
        "# CDB to PyMechanical shell workflow {#cdb_to_pymechanical_example}\n\nThis example shows how to define a composite lay-up in PyACP based on a\nmesh from a CDB file, import the model into PyMechanical for defining\nthe load and boundary conditions, and run a failure analysis with\nPyDPF - Composites.\n\n::: warning\n::: title\nWarning\n:::\n\nThe PyACP / PyMechanical integration is still experimental. Refer to the\n`limitations section <limitations>`{.interpreted-text role=\"ref\"} for\nmore information.\n:::\n\n::: note\n::: title\nNote\n:::\n\nOutputs and plots for this example are not shown in the rendered online\ndocumentation. To see the outputs and plots, run the example script or\nJupyter notebook locally.\n:::\n"
      ]
    },
    {
      "cell_type": "markdown",
      "metadata": {},
      "source": [
        "# Import modules and start the Ansys products\n"
      ]
    },
    {
      "cell_type": "markdown",
      "metadata": {},
      "source": [
        "Import the standard library and third-party dependencies.\n"
      ]
    },
    {
      "cell_type": "code",
      "execution_count": null,
      "metadata": {
        "collapsed": false
      },
      "outputs": [],
      "source": [
        "from concurrent.futures import ThreadPoolExecutor\nimport pathlib\nimport tempfile\nimport textwrap"
      ]
    },
    {
      "cell_type": "markdown",
      "metadata": {},
      "source": [
        "Import PyACP, PyMechanical, and PyDPF - Composites.\n"
      ]
    },
    {
      "cell_type": "code",
      "execution_count": null,
      "metadata": {
        "collapsed": false
      },
      "outputs": [],
      "source": [
        "# isort: off\nimport ansys.acp.core as pyacp\nfrom ansys.acp.core.extras import set_plot_theme\nfrom ansys.acp.core.extras import example_helpers\nimport ansys.dpf.composites as pydpf_composites\nimport ansys.mechanical.core as pymechanical\nimport ansys.mapdl.core as pymapdl"
      ]
    },
    {
      "cell_type": "markdown",
      "metadata": {},
      "source": [
        "Set the plot theme for the example. This is optional, and ensures that\nyou get the same plot style (theme, color map, etc.) as in the online\ndocumentation.\n"
      ]
    },
    {
      "cell_type": "code",
      "execution_count": null,
      "metadata": {
        "collapsed": false
      },
      "outputs": [],
      "source": [
        "set_plot_theme()"
      ]
    },
    {
      "cell_type": "markdown",
      "metadata": {},
      "source": [
        "Start the ACP, Mechanical, and DPF servers. We use a\n`ThreadPoolExecutor` to start them in parallel.\n"
      ]
    },
    {
      "cell_type": "code",
      "execution_count": null,
      "metadata": {
        "collapsed": false
      },
      "outputs": [],
      "source": [
        "with ThreadPoolExecutor() as executor:\n    futures = [\n        executor.submit(pyacp.launch_acp),\n        executor.submit(pymechanical.launch_mechanical, batch=True),\n        executor.submit(pydpf_composites.server_helpers.connect_to_or_start_server),\n        executor.submit(pymapdl.launch_mapdl),\n    ]\n    acp, mechanical, dpf, mapdl = (fut.result() for fut in futures)"
      ]
    },
    {
      "cell_type": "markdown",
      "metadata": {},
      "source": [
        "# Get example input files\n\nCreate a temporary working directory, and download the example input\nfiles to this directory.\n"
      ]
    },
    {
      "cell_type": "code",
      "execution_count": null,
      "metadata": {
        "collapsed": false
      },
      "outputs": [],
      "source": [
        "working_dir = tempfile.TemporaryDirectory()\nworking_dir_path = pathlib.Path(working_dir.name)\ninput_file_dat = example_helpers.get_example_file(\n    example_helpers.ExampleKeys.BASIC_FLAT_PLATE_DAT, working_dir_path\n)"
      ]
    },
    {
      "cell_type": "markdown",
      "metadata": {},
      "source": [
        "# Convert the DAT file to a CDB file\n\nUse PyMAPDL to convert the DAT file to a CDB file. This improves the\nreliability of loading the model into ACP and Mechanical.\n"
      ]
    },
    {
      "cell_type": "code",
      "execution_count": null,
      "metadata": {
        "collapsed": false
      },
      "outputs": [],
      "source": [
        "mapdl.clear()\nmapdl.input(str(input_file_dat))\ninput_file_cdb = working_dir_path / \"model.cdb\"\nmapdl.cdwrite(fname=\"model\", ext=\"cdb\")\nmapdl.download(\"model.cdb\", working_dir_path)\nmapdl.exit()"
      ]
    },
    {
      "cell_type": "markdown",
      "metadata": {},
      "source": [
        "# Set up the ACP model\n\nSetup basic ACP lay-up based on the CDB file.\n"
      ]
    },
    {
      "cell_type": "code",
      "execution_count": null,
      "metadata": {
        "collapsed": false
      },
      "outputs": [],
      "source": [
        "model = acp.import_model(path=input_file_cdb, format=\"ansys:cdb\", unit_system=\"MKS\")\nmodel.unit_system"
      ]
    },
    {
      "cell_type": "markdown",
      "metadata": {},
      "source": [
        "Visualize the loaded mesh.\n"
      ]
    },
    {
      "cell_type": "code",
      "execution_count": null,
      "metadata": {
        "collapsed": false
      },
      "outputs": [],
      "source": [
        "mesh = model.mesh.to_pyvista()\nmesh.plot(show_edges=True)"
      ]
    },
    {
      "cell_type": "markdown",
      "metadata": {},
      "source": [
        "# Define the composite lay-up\n\nCreate an orthotropic material and fabric including strain limits, which\nare later used to postprocess the simulation.\n"
      ]
    },
    {
      "cell_type": "code",
      "execution_count": null,
      "metadata": {
        "collapsed": false
      },
      "outputs": [],
      "source": [
        "engineering_constants = (\n    pyacp.material_property_sets.ConstantEngineeringConstants.from_orthotropic_constants(\n        E1=5e10, E2=1e10, E3=1e10, nu12=0.28, nu13=0.28, nu23=0.3, G12=5e9, G23=4e9, G31=4e9\n    )\n)\n\nstrain_limit = 0.01\nstrain_limits = pyacp.material_property_sets.ConstantStrainLimits.from_orthotropic_constants(\n    eXc=-strain_limit,\n    eYc=-strain_limit,\n    eZc=-strain_limit,\n    eXt=strain_limit,\n    eYt=strain_limit,\n    eZt=strain_limit,\n    eSxy=strain_limit,\n    eSyz=strain_limit,\n    eSxz=strain_limit,\n)\n\nud_material = model.create_material(\n    name=\"UD\",\n    ply_type=pyacp.PlyType.REGULAR,\n    engineering_constants=engineering_constants,\n    strain_limits=strain_limits,\n)\n\nfabric = model.create_fabric(name=\"UD\", material=ud_material, thickness=1e-4)"
      ]
    },
    {
      "cell_type": "markdown",
      "metadata": {},
      "source": [
        "Define a rosette and oriented selection set. Plot the orientation.\n"
      ]
    },
    {
      "cell_type": "code",
      "execution_count": null,
      "metadata": {
        "collapsed": false
      },
      "outputs": [],
      "source": [
        "rosette = model.create_rosette(origin=(0.0, 0.0, 0.0), dir1=(1.0, 0.0, 0.0), dir2=(0.0, 0.0, 1.0))\n\noss = model.create_oriented_selection_set(\n    name=\"oss\",\n    orientation_point=(0.0, 0.0, 0.0),\n    orientation_direction=(0.0, 1.0, 0),\n    element_sets=[model.element_sets[\"All_Elements\"]],\n    rosettes=[rosette],\n)\n\nmodel.update()\n\nplotter = pyacp.get_directions_plotter(model=model, components=[oss.elemental_data.orientation])\nplotter.show()"
      ]
    },
    {
      "cell_type": "markdown",
      "metadata": {},
      "source": [
        "Create various plies with different angles and add them to a modeling\ngroup.\n"
      ]
    },
    {
      "cell_type": "code",
      "execution_count": null,
      "metadata": {
        "collapsed": false
      },
      "outputs": [],
      "source": [
        "modeling_group = model.create_modeling_group(name=\"modeling_group\")\nangles = [0, 45, -45, 45, -45, 0]\nfor idx, angle in enumerate(angles):\n    modeling_group.create_modeling_ply(\n        name=f\"ply_{idx}_{angle}_{fabric.name}\",\n        ply_angle=angle,\n        ply_material=fabric,\n        oriented_selection_sets=[oss],\n    )\n\nmodel.update()"
      ]
    },
    {
      "cell_type": "markdown",
      "metadata": {},
      "source": [
        "Show the fiber directions of a specific ply.\n"
      ]
    },
    {
      "cell_type": "code",
      "execution_count": null,
      "metadata": {
        "collapsed": false
      },
      "outputs": [],
      "source": [
        "modeling_ply = model.modeling_groups[\"modeling_group\"].modeling_plies[\"ply_4_-45_UD\"]\n\n\nfiber_direction = modeling_ply.elemental_data.fiber_direction\nassert fiber_direction is not None\nplotter = pyacp.get_directions_plotter(\n    model=model,\n    components=[fiber_direction],\n)\n\nplotter.show()"
      ]
    },
    {
      "cell_type": "markdown",
      "metadata": {},
      "source": [
        "For a quick overview, print the model tree. Note that the model can also\nbe opened in the ACP GUI. For more information, see\n`view_the_model_in_the_acp_gui`{.interpreted-text role=\"ref\"}.\n"
      ]
    },
    {
      "cell_type": "code",
      "execution_count": null,
      "metadata": {
        "collapsed": false
      },
      "outputs": [],
      "source": [
        "pyacp.print_model(model)"
      ]
    },
    {
      "cell_type": "markdown",
      "metadata": {},
      "source": [
        "# Save the ACP model\n"
      ]
    },
    {
      "cell_type": "code",
      "execution_count": null,
      "metadata": {
        "collapsed": false
      },
      "outputs": [],
      "source": [
        "cdb_filename = \"model.cdb\"\ncomposite_definitions_h5_filename = \"ACPCompositeDefinitions.h5\"\nmatml_filename = \"materials.xml\"\n\nmodel.export_analysis_model(working_dir_path / cdb_filename)\nmodel.export_shell_composite_definitions(working_dir_path / composite_definitions_h5_filename)\nmodel.export_materials(working_dir_path / matml_filename)"
      ]
    },
    {
      "cell_type": "markdown",
      "metadata": {},
      "source": [
        "# Import mesh, materials and plies into Mechanical\n\nImport geometry, mesh, and named selections into Mechanical\n"
      ]
    },
    {
      "cell_type": "code",
      "execution_count": null,
      "metadata": {
        "collapsed": false
      },
      "outputs": [],
      "source": [
        "pyacp.mechanical_integration_helpers.import_acp_mesh_from_cdb(\n    mechanical=mechanical, cdb_path=working_dir_path / cdb_filename\n)"
      ]
    },
    {
      "cell_type": "markdown",
      "metadata": {},
      "source": [
        "Import materials into Mechanical\n"
      ]
    },
    {
      "cell_type": "code",
      "execution_count": null,
      "metadata": {
        "collapsed": false
      },
      "outputs": [],
      "source": [
        "mechanical.run_python_script(f\"Model.Materials.Import({str(working_dir_path / matml_filename)!r})\")"
      ]
    },
    {
      "cell_type": "markdown",
      "metadata": {},
      "source": [
        "Import plies into Mechanical\n"
      ]
    },
    {
      "cell_type": "code",
      "execution_count": null,
      "metadata": {
        "collapsed": false
      },
      "outputs": [],
      "source": [
        "pyacp.mechanical_integration_helpers.import_acp_composite_definitions(\n    mechanical=mechanical, path=working_dir_path / composite_definitions_h5_filename\n)"
      ]
    },
    {
      "cell_type": "markdown",
      "metadata": {},
      "source": [
        "# Set boundary condition and solve\n"
      ]
    },
    {
      "cell_type": "code",
      "execution_count": null,
      "metadata": {
        "collapsed": false
      },
      "outputs": [],
      "source": [
        "mechanical.run_python_script(\n    textwrap.dedent(\n        \"\"\"\\\n        front_edge = Model.AddNamedSelection()\n        front_edge.Name = \"Front Edge\"\n        front_edge.ScopingMethod = GeometryDefineByType.Worksheet\n\n        front_edge.GenerationCriteria.Add(None)\n        front_edge.GenerationCriteria[0].EntityType = SelectionType.GeoEdge\n        front_edge.GenerationCriteria[0].Criterion = SelectionCriterionType.LocationX\n        front_edge.GenerationCriteria[0].Operator = SelectionOperatorType.Largest\n        front_edge.Generate()\n\n        back_edge = Model.AddNamedSelection()\n        back_edge.Name = \"Back Edge\"\n        back_edge.ScopingMethod = GeometryDefineByType.Worksheet\n\n        back_edge.GenerationCriteria.Add(None)\n        back_edge.GenerationCriteria[0].EntityType = SelectionType.GeoEdge\n        back_edge.GenerationCriteria[0].Criterion = SelectionCriterionType.LocationX\n        back_edge.GenerationCriteria[0].Operator = SelectionOperatorType.Smallest\n        back_edge.Generate()\n\n        analysis = Model.AddStaticStructuralAnalysis()\n\n        fixed_support = analysis.AddFixedSupport()\n        fixed_support.Location = back_edge\n\n        force = analysis.AddForce()\n        force.DefineBy = LoadDefineBy.Components\n        force.XComponent.Output.SetDiscreteValue(0, Quantity(100, \"N\"))\n        force.Location = front_edge\n\n        analysis.Solution.Solve(True)\n        \"\"\"\n    )\n)\n\n\nrst_file = [filename for filename in mechanical.list_files() if filename.endswith(\".rst\")][0]\nmatml_out = [filename for filename in mechanical.list_files() if filename.endswith(\"MatML.xml\")][0]"
      ]
    },
    {
      "cell_type": "markdown",
      "metadata": {},
      "source": [
        "# Postprocess results\n\nEvaluate the failure criteria using the PyDPF - Composites.\n"
      ]
    },
    {
      "cell_type": "code",
      "execution_count": null,
      "metadata": {
        "collapsed": false
      },
      "outputs": [],
      "source": [
        "max_strain = pydpf_composites.failure_criteria.MaxStrainCriterion()\ncfc = pydpf_composites.failure_criteria.CombinedFailureCriterion(\n    name=\"Combined Failure Criterion\",\n    failure_criteria=[max_strain],\n)\n\ncomposite_model = pydpf_composites.composite_model.CompositeModel(\n    composite_files=pydpf_composites.data_sources.ContinuousFiberCompositesFiles(\n        rst=rst_file,\n        composite={\n            \"shell\": pydpf_composites.data_sources.CompositeDefinitionFiles(\n                definition=working_dir_path / composite_definitions_h5_filename\n            ),\n        },\n        engineering_data=working_dir_path / matml_out,\n    ),\n    server=dpf,\n)\n\n# Evaluate the failure criteria\noutput_all_elements = composite_model.evaluate_failure_criteria(cfc)\n\n# Query and plot the results\nirf_field = output_all_elements.get_field(\n    {\"failure_label\": pydpf_composites.constants.FailureOutput.FAILURE_VALUE}\n)\n\nirf_field.plot()"
      ]
    }
  ],
  "metadata": {
    "kernelspec": {
      "display_name": "Python 3",
      "language": "python",
      "name": "python3"
    },
    "language_info": {
      "codemirror_mode": {
        "name": "ipython",
        "version": 3
      },
      "file_extension": ".py",
      "mimetype": "text/x-python",
      "name": "python",
      "nbconvert_exporter": "python",
      "pygments_lexer": "ipython3",
      "version": "3.12.11"
    }
  },
  "nbformat": 4,
  "nbformat_minor": 0
}