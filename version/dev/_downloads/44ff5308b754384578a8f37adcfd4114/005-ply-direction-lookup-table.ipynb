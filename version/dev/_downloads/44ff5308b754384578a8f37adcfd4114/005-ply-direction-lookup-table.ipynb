{
  "cells": [
    {
      "cell_type": "markdown",
      "metadata": {},
      "source": [
        "# Direction definition {#direction_definition_example}\n\nThis example shows how to define directions from lookup tables. They can\nbe either reference directions for oriented selection sets or draping\nangles for modeling plies. The example only shows the PyACP part of the\nsetup. For a complete composite analysis, see\n`pymapdl_workflow_example`{.interpreted-text role=\"ref\"}.\n"
      ]
    },
    {
      "cell_type": "markdown",
      "metadata": {},
      "source": [
        "# Import modules\n\nImport the standard library and third-party dependencies.\n"
      ]
    },
    {
      "cell_type": "code",
      "execution_count": null,
      "metadata": {
        "collapsed": false
      },
      "outputs": [],
      "source": [
        "import pathlib\nimport tempfile\n\nimport numpy as np"
      ]
    },
    {
      "cell_type": "markdown",
      "metadata": {},
      "source": [
        "Import the PyACP dependencies.\n"
      ]
    },
    {
      "cell_type": "code",
      "execution_count": null,
      "metadata": {
        "collapsed": false
      },
      "outputs": [],
      "source": [
        "from ansys.acp.core import (\n    DrapingType,\n    LookUpTableColumnValueType,\n    PhysicalDimension,\n    PlyType,\n    RosetteSelectionMethod,\n    get_directions_plotter,\n    launch_acp,\n)\nfrom ansys.acp.core.extras import ExampleKeys, get_example_file, set_plot_theme"
      ]
    },
    {
      "cell_type": "markdown",
      "metadata": {},
      "source": [
        "Set the plot theme for the example. This is optional, and ensures that\nyou get the same plot style (theme, color map, etc.) as in the online\ndocumentation.\n"
      ]
    },
    {
      "cell_type": "code",
      "execution_count": null,
      "metadata": {
        "collapsed": false
      },
      "outputs": [],
      "source": [
        "set_plot_theme()"
      ]
    },
    {
      "cell_type": "markdown",
      "metadata": {},
      "source": [
        "# Start ACP and load the model\n"
      ]
    },
    {
      "cell_type": "markdown",
      "metadata": {},
      "source": [
        "Get the example file from the server.\n"
      ]
    },
    {
      "cell_type": "code",
      "execution_count": null,
      "metadata": {
        "collapsed": false
      },
      "outputs": [],
      "source": [
        "tempdir = tempfile.TemporaryDirectory()\nWORKING_DIR = pathlib.Path(tempdir.name)\ninput_file = get_example_file(ExampleKeys.BASIC_FLAT_PLATE_DAT, WORKING_DIR)"
      ]
    },
    {
      "cell_type": "markdown",
      "metadata": {},
      "source": [
        "Launch the PyACP server and connect to it.\n"
      ]
    },
    {
      "cell_type": "code",
      "execution_count": null,
      "metadata": {
        "collapsed": false
      },
      "outputs": [],
      "source": [
        "acp = launch_acp()"
      ]
    },
    {
      "cell_type": "markdown",
      "metadata": {},
      "source": [
        "Import the model from the input file. This example\\'s input file\ncontains a flat plate.\n"
      ]
    },
    {
      "cell_type": "code",
      "execution_count": null,
      "metadata": {
        "collapsed": false
      },
      "outputs": [],
      "source": [
        "model = acp.import_model(input_file, format=\"ansys:dat\")\nprint(model.unit_system)"
      ]
    },
    {
      "cell_type": "markdown",
      "metadata": {},
      "source": [
        "# Setup materials and oriented selection set\n"
      ]
    },
    {
      "cell_type": "markdown",
      "metadata": {},
      "source": [
        "Create a material and fabric.\n"
      ]
    },
    {
      "cell_type": "code",
      "execution_count": null,
      "metadata": {
        "collapsed": false
      },
      "outputs": [],
      "source": [
        "ud_material = model.create_material(\n    name=\"UD\",\n    ply_type=PlyType.REGULAR,\n)\n\nfabric = model.create_fabric(name=\"UD\", material=ud_material, thickness=0.1)"
      ]
    },
    {
      "cell_type": "markdown",
      "metadata": {},
      "source": [
        "Create a parallel rosette.\n"
      ]
    },
    {
      "cell_type": "code",
      "execution_count": null,
      "metadata": {
        "collapsed": false
      },
      "outputs": [],
      "source": [
        "rosette = model.create_rosette()"
      ]
    },
    {
      "cell_type": "markdown",
      "metadata": {},
      "source": [
        "Create an oriented selection set (OSS) and assign the rosette.\n"
      ]
    },
    {
      "cell_type": "code",
      "execution_count": null,
      "metadata": {
        "collapsed": false
      },
      "outputs": [],
      "source": [
        "oss = model.create_oriented_selection_set(\n    name=\"oss\",\n    orientation_direction=(0.0, 1.0, 0),\n    element_sets=[model.element_sets[\"All_Elements\"]],\n    rosettes=[rosette],\n)"
      ]
    },
    {
      "cell_type": "markdown",
      "metadata": {},
      "source": [
        "Plot the orientation and reference direction of the OSS. The reference\ndirection is defined by the rosette.\n"
      ]
    },
    {
      "cell_type": "code",
      "execution_count": null,
      "metadata": {
        "collapsed": false
      },
      "outputs": [],
      "source": [
        "model.update()\nplotter = get_directions_plotter(\n    model=model, components=[oss.elemental_data.orientation, oss.elemental_data.reference_direction]\n)\nplotter.show()"
      ]
    },
    {
      "cell_type": "markdown",
      "metadata": {},
      "source": [
        "# Define reference direction from lookup table\n"
      ]
    },
    {
      "cell_type": "markdown",
      "metadata": {},
      "source": [
        "Create a 3D lookup table to store the direction and angle corrections.\n"
      ]
    },
    {
      "cell_type": "code",
      "execution_count": null,
      "metadata": {
        "collapsed": false
      },
      "outputs": [],
      "source": [
        "lookup_table = model.create_lookup_table_3d()"
      ]
    },
    {
      "cell_type": "markdown",
      "metadata": {},
      "source": [
        "Create a grid of points on the plate where the lookup table values are\nstored.\n"
      ]
    },
    {
      "cell_type": "code",
      "execution_count": null,
      "metadata": {
        "collapsed": false
      },
      "outputs": [],
      "source": [
        "plate_side_length = 0.01\nnum_points = 10\nx_coordinates = np.linspace(0, plate_side_length, num_points)\nz_coordinates = np.linspace(0, plate_side_length, num_points)\nxx, zz = np.meshgrid(x_coordinates, z_coordinates)\n\npoints = np.stack(\n    [\n        xx.ravel(),\n        np.zeros(xx.ravel().shape),\n        zz.ravel(),\n    ],\n    axis=1,\n)"
      ]
    },
    {
      "cell_type": "markdown",
      "metadata": {},
      "source": [
        "Compute the directions tangential to circles around the point (0,0,0).\n"
      ]
    },
    {
      "cell_type": "code",
      "execution_count": null,
      "metadata": {
        "collapsed": false
      },
      "outputs": [],
      "source": [
        "normal = np.array([0, 1, 0])\ndirections = np.cross(points, normal)"
      ]
    },
    {
      "cell_type": "markdown",
      "metadata": {},
      "source": [
        "Create the lookup table and add the direction data.\n"
      ]
    },
    {
      "cell_type": "code",
      "execution_count": null,
      "metadata": {
        "collapsed": false
      },
      "outputs": [],
      "source": [
        "lookup_table.columns[\"Location\"].data = points\ndirection_column = lookup_table.create_column(\n    data=directions,\n    physical_dimension=PhysicalDimension.DIMENSIONLESS,\n    value_type=LookUpTableColumnValueType.DIRECTION,\n)"
      ]
    },
    {
      "cell_type": "markdown",
      "metadata": {},
      "source": [
        "Assign the lookup table to the OSS.\n"
      ]
    },
    {
      "cell_type": "code",
      "execution_count": null,
      "metadata": {
        "collapsed": false
      },
      "outputs": [],
      "source": [
        "oss.rosette_selection_method = RosetteSelectionMethod.DIRECTIONS_FROM_TABULAR_VALUES\noss.reference_direction_field = direction_column"
      ]
    },
    {
      "cell_type": "markdown",
      "metadata": {},
      "source": [
        "Plot the orientation and the reference direction of the OSS.\n"
      ]
    },
    {
      "cell_type": "code",
      "execution_count": null,
      "metadata": {
        "collapsed": false
      },
      "outputs": [],
      "source": [
        "model.update()\nplotter = get_directions_plotter(\n    model=model, components=[oss.elemental_data.orientation, oss.elemental_data.reference_direction]\n)\nplotter.show()"
      ]
    },
    {
      "cell_type": "markdown",
      "metadata": {},
      "source": [
        "Reset the OSS so that it may use the rosette again for the reference\ndirection.\n"
      ]
    },
    {
      "cell_type": "code",
      "execution_count": null,
      "metadata": {
        "collapsed": false
      },
      "outputs": [],
      "source": [
        "oss.rosette_selection_method = RosetteSelectionMethod.MINIMUM_ANGLE"
      ]
    },
    {
      "cell_type": "markdown",
      "metadata": {},
      "source": [
        "# Define draping angles from lookup table\n\n%% Compute a correction angle to define circular fiber paths.\n"
      ]
    },
    {
      "cell_type": "code",
      "execution_count": null,
      "metadata": {
        "collapsed": false
      },
      "outputs": [],
      "source": [
        "correction_angle = np.arctan2(xx.ravel(), zz.ravel()) * 180 / np.pi\nangle_column_1 = lookup_table.create_column(\n    data=correction_angle,\n    physical_dimension=PhysicalDimension.DIMENSIONLESS,\n    value_type=LookUpTableColumnValueType.SCALAR,\n)"
      ]
    },
    {
      "cell_type": "markdown",
      "metadata": {},
      "source": [
        "Compute the transverse correction angle, assuming a constant shear angle\nof -30\u00b0.\n"
      ]
    },
    {
      "cell_type": "code",
      "execution_count": null,
      "metadata": {
        "collapsed": false
      },
      "outputs": [],
      "source": [
        "shear_angle = -30\ntransverse_correction_angle = correction_angle + shear_angle\nangle_column_2 = lookup_table.create_column(\n    data=transverse_correction_angle,\n    physical_dimension=PhysicalDimension.DIMENSIONLESS,\n    value_type=LookUpTableColumnValueType.SCALAR,\n)"
      ]
    },
    {
      "cell_type": "markdown",
      "metadata": {},
      "source": [
        "Create a modeling ply with the angle corrections.\n"
      ]
    },
    {
      "cell_type": "code",
      "execution_count": null,
      "metadata": {
        "collapsed": false
      },
      "outputs": [],
      "source": [
        "modeling_group = model.create_modeling_group(name=\"modeling_group\")\nmodeling_ply = modeling_group.create_modeling_ply(\n    name=\"ply\",\n    ply_angle=0,\n    ply_material=fabric,\n    oriented_selection_sets=[oss],\n    draping_type=DrapingType.TABULAR_VALUES,\n    draping_angle_1_field=angle_column_1,\n    draping_angle_2_field=angle_column_2,\n)"
      ]
    },
    {
      "cell_type": "markdown",
      "metadata": {},
      "source": [
        "Plot the directions of the modeling ply. First, plot the directions\nwithout correction angles.\n"
      ]
    },
    {
      "cell_type": "code",
      "execution_count": null,
      "metadata": {
        "collapsed": false
      },
      "outputs": [],
      "source": [
        "model.update()\nplotter = get_directions_plotter(\n    model=model,\n    components=[\n        modeling_ply.elemental_data.fiber_direction,\n        modeling_ply.elemental_data.transverse_direction,\n    ],\n)\nplotter.show()"
      ]
    },
    {
      "cell_type": "markdown",
      "metadata": {},
      "source": [
        "Next, plot the draped directions, including the correction angles, from\nthe lookup table.\n"
      ]
    },
    {
      "cell_type": "code",
      "execution_count": null,
      "metadata": {
        "collapsed": false
      },
      "outputs": [],
      "source": [
        "plotter = get_directions_plotter(\n    model=model,\n    components=[\n        modeling_ply.elemental_data.draped_fiber_direction,\n        modeling_ply.elemental_data.draped_transverse_direction,\n    ],\n)\nplotter.show()"
      ]
    }
  ],
  "metadata": {
    "kernelspec": {
      "display_name": "Python 3",
      "language": "python",
      "name": "python3"
    },
    "language_info": {
      "codemirror_mode": {
        "name": "ipython",
        "version": 3
      },
      "file_extension": ".py",
      "mimetype": "text/x-python",
      "name": "python",
      "nbconvert_exporter": "python",
      "pygments_lexer": "ipython3",
      "version": "3.12.11"
    }
  },
  "nbformat": 4,
  "nbformat_minor": 0
}