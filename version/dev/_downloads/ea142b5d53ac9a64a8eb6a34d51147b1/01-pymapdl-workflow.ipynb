{
  "cells": [
    {
      "cell_type": "markdown",
      "metadata": {},
      "source": [
        "# PyMAPDL workflow {#pymapdl_workflow_example}\n\nThis example shows how to define a composite lay-up with PyACP, solve\nthe resulting model with PyMAPDL, and run a failure analysis with\nPyDPF - Composites.\n"
      ]
    },
    {
      "cell_type": "markdown",
      "metadata": {},
      "source": [
        "# Description\n\nIn a basic PyACP workflow, you begin with an MAPDL DAT file containing\nthe mesh, material data, and boundary conditions. For more information\non creating input files, see `input_file_for_pyacp`{.interpreted-text\nrole=\"ref\"}. Then, you import the DAT file into PyACP to define the\ncomposite lay-up. Finally, you export the resulting model from PyACP to\nPyMAPDL. Once the results are available, the RST file is loaded in\nPyDPF - Composites for analysis. The additional input files\n(`material.xml` and `ACPCompositeDefinitions.h5`) can also be stored\nwith PyACP and passed to PyDPF - Composites.\n"
      ]
    },
    {
      "cell_type": "markdown",
      "metadata": {},
      "source": [
        "# Import modules\n\nImport the standard library and third-party dependencies.\n"
      ]
    },
    {
      "cell_type": "code",
      "execution_count": null,
      "metadata": {
        "collapsed": false
      },
      "outputs": [],
      "source": [
        "import pathlib\nimport tempfile"
      ]
    },
    {
      "cell_type": "markdown",
      "metadata": {},
      "source": [
        "Import the PyACP dependencies.\n"
      ]
    },
    {
      "cell_type": "code",
      "execution_count": null,
      "metadata": {
        "collapsed": false
      },
      "outputs": [],
      "source": [
        "from ansys.acp.core import (\n    PlyType,\n    dpf_integration_helpers,\n    get_directions_plotter,\n    launch_acp,\n    material_property_sets,\n    print_model,\n)\nfrom ansys.acp.core.extras import ExampleKeys, get_example_file, set_plot_theme"
      ]
    },
    {
      "cell_type": "markdown",
      "metadata": {},
      "source": [
        "Set the plot theme for the example. This is optional, and ensures that\nyou get the same plot style (theme, color map, etc.) as in the online\ndocumentation.\n"
      ]
    },
    {
      "cell_type": "code",
      "execution_count": null,
      "metadata": {
        "collapsed": false
      },
      "outputs": [],
      "source": [
        "set_plot_theme()"
      ]
    },
    {
      "cell_type": "markdown",
      "metadata": {},
      "source": [
        "# Launch PyACP\n\nDownload the example input file.\n"
      ]
    },
    {
      "cell_type": "code",
      "execution_count": null,
      "metadata": {
        "collapsed": false
      },
      "outputs": [],
      "source": [
        "tempdir = tempfile.TemporaryDirectory()\nWORKING_DIR = pathlib.Path(tempdir.name)\ninput_file = get_example_file(ExampleKeys.BASIC_FLAT_PLATE_DAT, WORKING_DIR)"
      ]
    },
    {
      "cell_type": "markdown",
      "metadata": {},
      "source": [
        "Launch the PyACP server and connect to it.\n"
      ]
    },
    {
      "cell_type": "code",
      "execution_count": null,
      "metadata": {
        "collapsed": false
      },
      "outputs": [],
      "source": [
        "acp = launch_acp()"
      ]
    },
    {
      "cell_type": "markdown",
      "metadata": {},
      "source": [
        "# Import the model\n\nImport the model from the input DAT file.\n"
      ]
    },
    {
      "cell_type": "code",
      "execution_count": null,
      "metadata": {
        "collapsed": false
      },
      "outputs": [],
      "source": [
        "model = acp.import_model(input_file, format=\"ansys:dat\")\nprint(model.unit_system)"
      ]
    },
    {
      "cell_type": "markdown",
      "metadata": {},
      "source": [
        "Visualize the loaded mesh.\n"
      ]
    },
    {
      "cell_type": "code",
      "execution_count": null,
      "metadata": {
        "collapsed": false
      },
      "outputs": [],
      "source": [
        "mesh = model.mesh.to_pyvista()\nmesh.plot(show_edges=True)"
      ]
    },
    {
      "cell_type": "markdown",
      "metadata": {},
      "source": [
        "# Define the composite lay-up\n\nCreate an orthotropic material and fabric including strain limits, which\nare later used to postprocess the simulation.\n"
      ]
    },
    {
      "cell_type": "code",
      "execution_count": null,
      "metadata": {
        "collapsed": false
      },
      "outputs": [],
      "source": [
        "engineering_constants = (\n    material_property_sets.ConstantEngineeringConstants.from_orthotropic_constants(\n        E1=5e10, E2=1e10, E3=1e10, nu12=0.28, nu13=0.28, nu23=0.3, G12=5e9, G23=4e9, G31=4e9\n    )\n)\n\nstrain_limit = 0.01\nstrain_limits = material_property_sets.ConstantStrainLimits.from_orthotropic_constants(\n    eXc=-strain_limit,\n    eYc=-strain_limit,\n    eZc=-strain_limit,\n    eXt=strain_limit,\n    eYt=strain_limit,\n    eZt=strain_limit,\n    eSxy=strain_limit,\n    eSyz=strain_limit,\n    eSxz=strain_limit,\n)\n\nud_material = model.create_material(\n    name=\"UD\",\n    ply_type=PlyType.REGULAR,\n    engineering_constants=engineering_constants,\n    strain_limits=strain_limits,\n)\n\nfabric = model.create_fabric(name=\"UD\", material=ud_material, thickness=0.1)"
      ]
    },
    {
      "cell_type": "markdown",
      "metadata": {},
      "source": [
        "Define a rosette and oriented selection set. Plot the orientation.\n"
      ]
    },
    {
      "cell_type": "code",
      "execution_count": null,
      "metadata": {
        "collapsed": false
      },
      "outputs": [],
      "source": [
        "rosette = model.create_rosette(origin=(0.0, 0.0, 0.0), dir1=(1.0, 0.0, 0.0), dir2=(0.0, 0.0, 1.0))\n\noss = model.create_oriented_selection_set(\n    name=\"oss\",\n    orientation_point=(0.0, 0.0, 0.0),\n    orientation_direction=(0.0, 1.0, 0),\n    element_sets=[model.element_sets[\"All_Elements\"]],\n    rosettes=[rosette],\n)\n\nmodel.update()\n\nplotter = get_directions_plotter(model=model, components=[oss.elemental_data.orientation])\nplotter.show()"
      ]
    },
    {
      "cell_type": "markdown",
      "metadata": {},
      "source": [
        "Create various plies with different angles and add them to a modeling\ngroup.\n"
      ]
    },
    {
      "cell_type": "code",
      "execution_count": null,
      "metadata": {
        "collapsed": false
      },
      "outputs": [],
      "source": [
        "modeling_group = model.create_modeling_group(name=\"modeling_group\")\nangles = [0, 45, -45, 45, -45, 0]\nfor idx, angle in enumerate(angles):\n    modeling_group.create_modeling_ply(\n        name=f\"ply_{idx}_{angle}_{fabric.name}\",\n        ply_angle=angle,\n        ply_material=fabric,\n        oriented_selection_sets=[oss],\n    )\n\nmodel.update()"
      ]
    },
    {
      "cell_type": "markdown",
      "metadata": {},
      "source": [
        "Show the fiber directions of a specific ply.\n"
      ]
    },
    {
      "cell_type": "code",
      "execution_count": null,
      "metadata": {
        "collapsed": false
      },
      "outputs": [],
      "source": [
        "modeling_ply = model.modeling_groups[\"modeling_group\"].modeling_plies[\"ply_4_-45_UD\"]\n\n\nfiber_direction = modeling_ply.elemental_data.fiber_direction\nassert fiber_direction is not None\nplotter = get_directions_plotter(\n    model=model,\n    components=[fiber_direction],\n)\n\nplotter.show()"
      ]
    },
    {
      "cell_type": "markdown",
      "metadata": {},
      "source": [
        "For a quick overview, print the model tree. Note that the model can also\nbe opened in the ACP GUI. For more information, see\n`view_the_model_in_the_acp_gui`{.interpreted-text role=\"ref\"}.\n"
      ]
    },
    {
      "cell_type": "code",
      "execution_count": null,
      "metadata": {
        "collapsed": false
      },
      "outputs": [],
      "source": [
        "print_model(model)"
      ]
    },
    {
      "cell_type": "markdown",
      "metadata": {},
      "source": [
        "# Solve the model with PyMAPDL\n\nLaunch the PyMAPDL instance.\n"
      ]
    },
    {
      "cell_type": "code",
      "execution_count": null,
      "metadata": {
        "collapsed": false
      },
      "outputs": [],
      "source": [
        "from ansys.mapdl.core import launch_mapdl\n\nmapdl = launch_mapdl()\nmapdl.clear()"
      ]
    },
    {
      "cell_type": "markdown",
      "metadata": {},
      "source": [
        "Load the CDB file into PyMAPDL.\n"
      ]
    },
    {
      "cell_type": "code",
      "execution_count": null,
      "metadata": {
        "collapsed": false
      },
      "outputs": [],
      "source": [
        "analysis_model_path = WORKING_DIR / \"analysis_model.cdb\"\nmodel.export_analysis_model(analysis_model_path)\nmapdl.input(str(analysis_model_path))"
      ]
    },
    {
      "cell_type": "markdown",
      "metadata": {},
      "source": [
        "Solve the model.\n"
      ]
    },
    {
      "cell_type": "code",
      "execution_count": null,
      "metadata": {
        "collapsed": false
      },
      "outputs": [],
      "source": [
        "mapdl.allsel()\nmapdl.slashsolu()\nmapdl.solve()"
      ]
    },
    {
      "cell_type": "markdown",
      "metadata": {},
      "source": [
        "Show the displacements in postprocessing.\n"
      ]
    },
    {
      "cell_type": "code",
      "execution_count": null,
      "metadata": {
        "collapsed": false
      },
      "outputs": [],
      "source": [
        "mapdl.post1()\nmapdl.set(\"last\")\nmapdl.post_processing.plot_nodal_displacement(component=\"NORM\")"
      ]
    },
    {
      "cell_type": "markdown",
      "metadata": {},
      "source": [
        "Download the RST file for composite-specific postprocessing.\n"
      ]
    },
    {
      "cell_type": "code",
      "execution_count": null,
      "metadata": {
        "collapsed": false
      },
      "outputs": [],
      "source": [
        "rstfile_name = f\"{mapdl.jobname}.rst\"\nrst_file_local_path = WORKING_DIR / rstfile_name\nmapdl.download(rstfile_name, str(WORKING_DIR))"
      ]
    },
    {
      "cell_type": "markdown",
      "metadata": {},
      "source": [
        "# Postprocessing with PyDPF - Composites\n\nTo postprocess the results, you must configure the imports, connect to\nthe PyDPF - Composites server, and load its plugin.\n"
      ]
    },
    {
      "cell_type": "code",
      "execution_count": null,
      "metadata": {
        "collapsed": false
      },
      "outputs": [],
      "source": [
        "from ansys.dpf.composites.composite_model import CompositeModel\nfrom ansys.dpf.composites.constants import FailureOutput\nfrom ansys.dpf.composites.data_sources import (\n    CompositeDefinitionFiles,\n    ContinuousFiberCompositesFiles,\n)\nfrom ansys.dpf.composites.failure_criteria import CombinedFailureCriterion, MaxStrainCriterion\nfrom ansys.dpf.composites.server_helpers import connect_to_or_start_server"
      ]
    },
    {
      "cell_type": "markdown",
      "metadata": {},
      "source": [
        "Connect to the server. The `connect_to_or_start_server` function\nautomatically loads the composites plugin.\n"
      ]
    },
    {
      "cell_type": "code",
      "execution_count": null,
      "metadata": {
        "collapsed": false
      },
      "outputs": [],
      "source": [
        "dpf_server = connect_to_or_start_server()"
      ]
    },
    {
      "cell_type": "markdown",
      "metadata": {},
      "source": [
        "Specify the combined failure criterion.\n"
      ]
    },
    {
      "cell_type": "code",
      "execution_count": null,
      "metadata": {
        "collapsed": false
      },
      "outputs": [],
      "source": [
        "max_strain = MaxStrainCriterion()\n\ncfc = CombinedFailureCriterion(\n    name=\"Combined Failure Criterion\",\n    failure_criteria=[max_strain],\n)"
      ]
    },
    {
      "cell_type": "markdown",
      "metadata": {},
      "source": [
        "Create the composite model and configure its input.\n"
      ]
    },
    {
      "cell_type": "code",
      "execution_count": null,
      "metadata": {
        "collapsed": false
      },
      "outputs": [],
      "source": [
        "composite_definitions_file = WORKING_DIR / \"ACPCompositeDefinitions.h5\"\nmodel.export_shell_composite_definitions(composite_definitions_file)\nmaterials_file = WORKING_DIR / \"materials.xml\"\nmodel.export_materials(materials_file)\ncomposite_model = CompositeModel(\n    composite_files=ContinuousFiberCompositesFiles(\n        rst=rst_file_local_path,\n        composite={\"shell\": CompositeDefinitionFiles(composite_definitions_file)},\n        engineering_data=materials_file,\n    ),\n    default_unit_system=dpf_integration_helpers.get_dpf_unit_system(model.unit_system),\n    server=dpf_server,\n)"
      ]
    },
    {
      "cell_type": "markdown",
      "metadata": {},
      "source": [
        "Evaluate and plot the failure criteria.\n"
      ]
    },
    {
      "cell_type": "code",
      "execution_count": null,
      "metadata": {
        "collapsed": false
      },
      "outputs": [],
      "source": [
        "output_all_elements = composite_model.evaluate_failure_criteria(cfc)\nirf_field = output_all_elements.get_field({\"failure_label\": FailureOutput.FAILURE_VALUE})\nirf_field.plot()"
      ]
    },
    {
      "cell_type": "markdown",
      "metadata": {},
      "source": [
        "Release the composite model to close the open streams to the result\nfile.\n"
      ]
    },
    {
      "cell_type": "code",
      "execution_count": null,
      "metadata": {
        "collapsed": false
      },
      "outputs": [],
      "source": [
        "composite_model = None  # type: ignore\n\n# Close MAPDL instance\nmapdl.exit()"
      ]
    }
  ],
  "metadata": {
    "kernelspec": {
      "display_name": "Python 3",
      "language": "python",
      "name": "python3"
    },
    "language_info": {
      "codemirror_mode": {
        "name": "ipython",
        "version": 3
      },
      "file_extension": ".py",
      "mimetype": "text/x-python",
      "name": "python",
      "nbconvert_exporter": "python",
      "pygments_lexer": "ipython3",
      "version": "3.12.11"
    }
  },
  "nbformat": 4,
  "nbformat_minor": 0
}