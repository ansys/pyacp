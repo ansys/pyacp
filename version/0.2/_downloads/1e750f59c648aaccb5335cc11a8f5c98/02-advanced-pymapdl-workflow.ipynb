{
  "cells": [
    {
      "cell_type": "markdown",
      "metadata": {},
      "source": [
        "# Advanced PyMAPDL workflow {#advanced_pymapdl_workflow_example}\n\nThis example shows how to define a composite lay-up with PyACP, solve\nthe resulting model with PyMAPDL, and run a failure analysis with\nPyDPF - Composites.\n\nBegin with an MAPDL CDB file that contains the mesh, material data, and\nboundary conditions. Import the file to PyACP to define the lay-up, and\nthen export the resulting model to PyMAPDL. Once the results are\navailable, the RST file is loaded in PyDPF - Composites for\npostprocessing. The additional input files (`material.xml` and\n`ACPCompositeDefinitions.h5`) can also be stored with PyACP and passed\nto PyDPF - Composites.\n"
      ]
    },
    {
      "cell_type": "markdown",
      "metadata": {},
      "source": [
        "# Import modules and start ACP\n"
      ]
    },
    {
      "cell_type": "markdown",
      "metadata": {},
      "source": [
        "Import the standard library and third-party dependencies.\n"
      ]
    },
    {
      "cell_type": "code",
      "execution_count": null,
      "metadata": {
        "collapsed": false
      },
      "outputs": [],
      "source": [
        "import pathlib\nimport tempfile\n\nimport pyvista"
      ]
    },
    {
      "cell_type": "markdown",
      "metadata": {},
      "source": [
        "Import the Ansys libraries.\n"
      ]
    },
    {
      "cell_type": "code",
      "execution_count": null,
      "metadata": {
        "collapsed": false
      },
      "outputs": [],
      "source": [
        "import ansys.acp.core as pyacp\nfrom ansys.acp.core.extras import set_plot_theme"
      ]
    },
    {
      "cell_type": "markdown",
      "metadata": {},
      "source": [
        "Set the plot theme for the example. This is optional, and ensures that\nyou get the same plot style (theme, color map, etc.) as in the online\ndocumentation.\n"
      ]
    },
    {
      "cell_type": "code",
      "execution_count": null,
      "metadata": {
        "collapsed": false
      },
      "outputs": [],
      "source": [
        "set_plot_theme()"
      ]
    },
    {
      "cell_type": "markdown",
      "metadata": {},
      "source": [
        "Launch the PyACP server and connect to it.\n"
      ]
    },
    {
      "cell_type": "code",
      "execution_count": null,
      "metadata": {
        "collapsed": false
      },
      "outputs": [],
      "source": [
        "acp = pyacp.launch_acp()"
      ]
    },
    {
      "cell_type": "markdown",
      "metadata": {},
      "source": [
        "# Get example input files\n\nCreate a temporary working directory, and download the example input\nfiles to this directory.\n"
      ]
    },
    {
      "cell_type": "code",
      "execution_count": null,
      "metadata": {
        "collapsed": false
      },
      "outputs": [],
      "source": [
        "working_dir = tempfile.TemporaryDirectory()\nworking_dir_path = pathlib.Path(working_dir.name)\ninput_file = pyacp.extras.example_helpers.get_example_file(\n    pyacp.extras.example_helpers.ExampleKeys.CLASS40_CDB, working_dir_path\n)"
      ]
    },
    {
      "cell_type": "markdown",
      "metadata": {},
      "source": [
        "# Load mesh and materials from CDB file\n"
      ]
    },
    {
      "cell_type": "markdown",
      "metadata": {},
      "source": [
        "Load the CDB file into PyACP and set the unit system.\n"
      ]
    },
    {
      "cell_type": "code",
      "execution_count": null,
      "metadata": {
        "collapsed": false
      },
      "outputs": [],
      "source": [
        "model = acp.import_model(path=input_file, format=\"ansys:cdb\", unit_system=pyacp.UnitSystemType.MPA)\nmodel"
      ]
    },
    {
      "cell_type": "markdown",
      "metadata": {},
      "source": [
        "Visualize the loaded mesh.\n"
      ]
    },
    {
      "cell_type": "code",
      "execution_count": null,
      "metadata": {
        "collapsed": false
      },
      "outputs": [],
      "source": [
        "mesh = model.mesh.to_pyvista()\nmesh.plot()"
      ]
    },
    {
      "cell_type": "markdown",
      "metadata": {},
      "source": [
        "# Build Composite Lay-up\n\nCreate the model (MPA unit system).\n"
      ]
    },
    {
      "cell_type": "markdown",
      "metadata": {},
      "source": [
        "# Materials\n"
      ]
    },
    {
      "cell_type": "code",
      "execution_count": null,
      "metadata": {
        "collapsed": false
      },
      "outputs": [],
      "source": [
        "mat_corecell_81kg = model.materials[\"1\"]\nmat_corecell_81kg.name = \"Core Cell 81kg\"\nmat_corecell_81kg.ply_type = \"isotropic_homogeneous_core\"\n\nmat_corecell_103kg = model.materials[\"2\"]\nmat_corecell_103kg.name = \"Core Cell 103kg\"\nmat_corecell_103kg.ply_type = \"isotropic_homogeneous_core\"\n\nmat_eglass_ud = model.materials[\"3\"]\nmat_eglass_ud.name = \"E-Glass (uni-directional)\"\nmat_eglass_ud.ply_type = \"regular\""
      ]
    },
    {
      "cell_type": "markdown",
      "metadata": {},
      "source": [
        "# Fabrics\n"
      ]
    },
    {
      "cell_type": "code",
      "execution_count": null,
      "metadata": {
        "collapsed": false
      },
      "outputs": [],
      "source": [
        "corecell_81kg_5mm = model.create_fabric(\n    name=\"Corecell 81kg\", thickness=0.005, material=mat_corecell_81kg\n)\ncorecell_103kg_10mm = model.create_fabric(\n    name=\"Corecell 103kg\", thickness=0.01, material=mat_corecell_103kg\n)\neglass_ud_02mm = model.create_fabric(name=\"eglass UD\", thickness=0.0002, material=mat_eglass_ud)"
      ]
    },
    {
      "cell_type": "markdown",
      "metadata": {},
      "source": [
        "# Rosettes\n"
      ]
    },
    {
      "cell_type": "code",
      "execution_count": null,
      "metadata": {
        "collapsed": false
      },
      "outputs": [],
      "source": [
        "ros_deck = model.create_rosette(name=\"ros_deck\", origin=(-5.9334, -0.0481, 1.693))\nros_hull = model.create_rosette(name=\"ros_hull\", origin=(-5.3711, -0.0506, -0.2551))\nros_bulkhead = model.create_rosette(\n    name=\"ros_bulkhead\", origin=(-5.622, 0.0022, 0.0847), dir1=(0.0, 1.0, 0.0), dir2=(0.0, 0.0, 1.0)\n)\nros_keeltower = model.create_rosette(\n    name=\"ros_keeltower\", origin=(-6.0699, -0.0502, 0.623), dir1=(0.0, 0.0, 1.0)\n)"
      ]
    },
    {
      "cell_type": "markdown",
      "metadata": {},
      "source": [
        "# Oriented Selection Sets\n\nNote that the element sets are imported from the initial mesh (CBD\nfile).\n"
      ]
    },
    {
      "cell_type": "code",
      "execution_count": null,
      "metadata": {
        "collapsed": false
      },
      "outputs": [],
      "source": [
        "oss_deck = model.create_oriented_selection_set(\n    name=\"oss_deck\",\n    orientation_point=(-5.3806, -0.0016, 1.6449),\n    orientation_direction=(0.0, 0.0, -1.0),\n    element_sets=[model.element_sets[\"DECK\"]],\n    rosettes=[ros_deck],\n)\n\noss_hull = model.create_oriented_selection_set(\n    name=\"oss_hull\",\n    orientation_point=(-5.12, 0.1949, -0.2487),\n    orientation_direction=(0.0, 0.0, 1.0),\n    element_sets=[model.element_sets[\"HULL_ALL\"]],\n    rosettes=[ros_hull],\n)\n\noss_bulkhead = model.create_oriented_selection_set(\n    name=\"oss_bulkhead\",\n    orientation_point=(-5.622, -0.0465, -0.094),\n    orientation_direction=(1.0, 0.0, 0.0),\n    element_sets=[model.element_sets[\"BULKHEAD_ALL\"]],\n    rosettes=[ros_bulkhead],\n)\n\nesets = [\n    model.element_sets[\"KEELTOWER_AFT\"],\n    model.element_sets[\"KEELTOWER_FRONT\"],\n    model.element_sets[\"KEELTOWER_PORT\"],\n    model.element_sets[\"KEELTOWER_STB\"],\n]\n\noss_keeltower = model.create_oriented_selection_set(\n    name=\"oss_keeltower\",\n    orientation_point=(-6.1019, 0.0001, 1.162),\n    orientation_direction=(-1.0, 0.0, 0.0),\n    element_sets=esets,\n    rosettes=[ros_keeltower],\n)"
      ]
    },
    {
      "cell_type": "markdown",
      "metadata": {},
      "source": [
        "Show the orientations on the hull oriented selection set (OSS).\n\nNote that the model must be updated before the orientations are\navailable.\n"
      ]
    },
    {
      "cell_type": "code",
      "execution_count": null,
      "metadata": {
        "collapsed": false
      },
      "outputs": [],
      "source": [
        "model.update()\n\nplotter = pyvista.Plotter()\nplotter.add_mesh(model.mesh.to_pyvista(), color=\"white\")\norientation = oss_hull.elemental_data.orientation\nassert orientation is not None\nplotter.add_mesh(\n    orientation.get_pyvista_glyphs(mesh=model.mesh, factor=0.2, culling_factor=5),\n    color=\"blue\",\n)\nplotter.show()"
      ]
    },
    {
      "cell_type": "markdown",
      "metadata": {},
      "source": [
        "# Modeling Plies\n"
      ]
    },
    {
      "cell_type": "code",
      "execution_count": null,
      "metadata": {
        "collapsed": false
      },
      "outputs": [],
      "source": [
        "def add_ply(mg, name, ply_material, angle, oss):\n    return mg.create_modeling_ply(\n        name=name,\n        ply_material=ply_material,\n        oriented_selection_sets=oss,\n        ply_angle=angle,\n        number_of_layers=1,\n        global_ply_nr=0,  # add at the end\n    )"
      ]
    },
    {
      "cell_type": "markdown",
      "metadata": {},
      "source": [
        "Define plies for the hull, deck, and bulkhead.\n"
      ]
    },
    {
      "cell_type": "code",
      "execution_count": null,
      "metadata": {
        "collapsed": false
      },
      "outputs": [],
      "source": [
        "angles = [-90.0, -60.0, -45.0 - 30.0, 0.0, 0.0, 30.0, 45.0, 60.0, 90.0]\nfor mg_name in [\"hull\", \"deck\", \"bulkhead\"]:\n    mg = model.create_modeling_group(name=mg_name)\n    oss_list = [model.oriented_selection_sets[\"oss_\" + mg_name]]\n    for angle in angles:\n        add_ply(mg, \"eglass_ud_02mm_\" + str(angle), eglass_ud_02mm, angle, oss_list)\n    add_ply(mg, \"corecell_103kg_10mm\", corecell_103kg_10mm, 0.0, oss_list)\n    for angle in angles:\n        add_ply(mg, \"eglass_ud_02mm_\" + str(angle), eglass_ud_02mm, angle, oss_list)"
      ]
    },
    {
      "cell_type": "markdown",
      "metadata": {},
      "source": [
        "Add plies to the keeltower.\n"
      ]
    },
    {
      "cell_type": "code",
      "execution_count": null,
      "metadata": {
        "collapsed": false
      },
      "outputs": [],
      "source": [
        "mg = model.create_modeling_group(name=\"keeltower\")\noss_list = [model.oriented_selection_sets[\"oss_keeltower\"]]\nfor angle in angles:\n    add_ply(mg, \"eglass_ud_02mm_\" + str(angle), eglass_ud_02mm, angle, oss_list)\n\nadd_ply(mg, \"corecell_81kg_5mm\", corecell_81kg_5mm, 0.0, oss_list)\n\nfor angle in angles:\n    add_ply(mg, \"eglass_ud_02mm_\" + str(angle), eglass_ud_02mm, angle, oss_list)"
      ]
    },
    {
      "cell_type": "markdown",
      "metadata": {},
      "source": [
        "Inspect the number of modeling groups and plies.\n"
      ]
    },
    {
      "cell_type": "code",
      "execution_count": null,
      "metadata": {
        "collapsed": false
      },
      "outputs": [],
      "source": [
        "print(len(model.modeling_groups))\nprint(len(model.modeling_groups[\"hull\"].modeling_plies))\nprint(len(model.modeling_groups[\"deck\"].modeling_plies))\nprint(len(model.modeling_groups[\"bulkhead\"].modeling_plies))\nprint(len(model.modeling_groups[\"keeltower\"].modeling_plies))"
      ]
    },
    {
      "cell_type": "markdown",
      "metadata": {},
      "source": [
        "Show the thickness of one of the plies.\n"
      ]
    },
    {
      "cell_type": "code",
      "execution_count": null,
      "metadata": {
        "collapsed": false
      },
      "outputs": [],
      "source": [
        "model.update()\nmodeling_ply = model.modeling_groups[\"deck\"].modeling_plies[\"eglass_ud_02mm_0.5\"]\nthickness = modeling_ply.elemental_data.thickness\nassert thickness is not None\nthickness.get_pyvista_mesh(mesh=model.mesh).plot()"
      ]
    },
    {
      "cell_type": "markdown",
      "metadata": {},
      "source": [
        "Show the ply offsets that are scaled by a factor of 200.\n"
      ]
    },
    {
      "cell_type": "code",
      "execution_count": null,
      "metadata": {
        "collapsed": false
      },
      "outputs": [],
      "source": [
        "plotter = pyvista.Plotter()\nplotter.add_mesh(model.mesh.to_pyvista(), color=\"white\")\nply_offset = modeling_ply.nodal_data.ply_offset\nassert ply_offset is not None\nplotter.add_mesh(\n    ply_offset.get_pyvista_glyphs(mesh=model.mesh, factor=200),\n)\nplotter.show()"
      ]
    },
    {
      "cell_type": "markdown",
      "metadata": {},
      "source": [
        "Show the thickness of the entire lay-up.\n"
      ]
    },
    {
      "cell_type": "code",
      "execution_count": null,
      "metadata": {
        "collapsed": false
      },
      "outputs": [],
      "source": [
        "thickness = model.elemental_data.thickness\nassert thickness is not None\nthickness.get_pyvista_mesh(mesh=model.mesh).plot()"
      ]
    },
    {
      "cell_type": "markdown",
      "metadata": {},
      "source": [
        "# Write out ACP Model\n"
      ]
    },
    {
      "cell_type": "code",
      "execution_count": null,
      "metadata": {
        "collapsed": false
      },
      "outputs": [],
      "source": [
        "acph5_filename = \"class40.acph5\"\ncdb_filename_out = \"class40_analysis_model.cdb\"\ncomposite_definition_h5_filename = \"ACPCompositeDefinitions.h5\"\nmatml_filename = \"materials.xml\""
      ]
    },
    {
      "cell_type": "markdown",
      "metadata": {},
      "source": [
        "Update and save the ACP model.\n"
      ]
    },
    {
      "cell_type": "code",
      "execution_count": null,
      "metadata": {
        "collapsed": false
      },
      "outputs": [],
      "source": [
        "model.update()\nmodel.save(working_dir_path / acph5_filename, save_cache=True)"
      ]
    },
    {
      "cell_type": "markdown",
      "metadata": {},
      "source": [
        "Save the model as a CDB file for solving with PyMAPDL.\n"
      ]
    },
    {
      "cell_type": "code",
      "execution_count": null,
      "metadata": {
        "collapsed": false
      },
      "outputs": [],
      "source": [
        "model.export_analysis_model(working_dir_path / cdb_filename_out)\n# Export the shell lay-up and material file for PyDPF - Composites.\nmodel.export_shell_composite_definitions(working_dir_path / composite_definition_h5_filename)\nmodel.export_materials(working_dir_path / matml_filename)"
      ]
    },
    {
      "cell_type": "markdown",
      "metadata": {},
      "source": [
        "# Solve with PyMAPDL\n"
      ]
    },
    {
      "cell_type": "markdown",
      "metadata": {},
      "source": [
        "Import PyMAPDL and connect to its server.\n"
      ]
    },
    {
      "cell_type": "code",
      "execution_count": null,
      "metadata": {
        "collapsed": false
      },
      "outputs": [],
      "source": [
        "from ansys.mapdl.core import launch_mapdl\n\nmapdl = launch_mapdl()\nmapdl.clear()"
      ]
    },
    {
      "cell_type": "markdown",
      "metadata": {},
      "source": [
        "Load the CDB file into PyMAPDL.\n"
      ]
    },
    {
      "cell_type": "code",
      "execution_count": null,
      "metadata": {
        "collapsed": false
      },
      "outputs": [],
      "source": [
        "mapdl.input(str(working_dir_path / cdb_filename_out))"
      ]
    },
    {
      "cell_type": "markdown",
      "metadata": {},
      "source": [
        "Solve the model.\n"
      ]
    },
    {
      "cell_type": "code",
      "execution_count": null,
      "metadata": {
        "collapsed": false
      },
      "outputs": [],
      "source": [
        "mapdl.allsel()\nmapdl.slashsolu()\nmapdl.solve()"
      ]
    },
    {
      "cell_type": "markdown",
      "metadata": {},
      "source": [
        "Show the displacements in postprocessing.\n"
      ]
    },
    {
      "cell_type": "code",
      "execution_count": null,
      "metadata": {
        "collapsed": false
      },
      "outputs": [],
      "source": [
        "mapdl.post1()\nmapdl.set(\"last\")\nmapdl.post_processing.plot_nodal_displacement(component=\"NORM\")\n\n# Download the RST file for further postprocessing.\nrstfile_name = f\"{mapdl.jobname}.rst\"\nmapdl.download(rstfile_name, working_dir_path)"
      ]
    },
    {
      "cell_type": "markdown",
      "metadata": {},
      "source": [
        "# Postprocessing with PyDPF - Composites\n\nTo postprocess the results, you must configure the imports, connect to\nthe PyDPF - Composites server, and load its plugin.\n"
      ]
    },
    {
      "cell_type": "code",
      "execution_count": null,
      "metadata": {
        "collapsed": false
      },
      "outputs": [],
      "source": [
        "from ansys.dpf.composites.composite_model import CompositeModel\nfrom ansys.dpf.composites.constants import FailureOutput\nfrom ansys.dpf.composites.data_sources import (\n    CompositeDefinitionFiles,\n    ContinuousFiberCompositesFiles,\n)\nfrom ansys.dpf.composites.failure_criteria import (\n    CombinedFailureCriterion,\n    CoreFailureCriterion,\n    MaxStrainCriterion,\n    MaxStressCriterion,\n)\nfrom ansys.dpf.composites.server_helpers import connect_to_or_start_server\nfrom ansys.dpf.core.unit_system import unit_systems"
      ]
    },
    {
      "cell_type": "markdown",
      "metadata": {},
      "source": [
        "Connect to the server. The `connect_to_or_start_server` function\nautomatically loads the composites plugin.\n"
      ]
    },
    {
      "cell_type": "code",
      "execution_count": null,
      "metadata": {
        "collapsed": false
      },
      "outputs": [],
      "source": [
        "dpf_server = connect_to_or_start_server()"
      ]
    },
    {
      "cell_type": "markdown",
      "metadata": {},
      "source": [
        "Specify the combined failure criterion.\n"
      ]
    },
    {
      "cell_type": "code",
      "execution_count": null,
      "metadata": {
        "collapsed": false
      },
      "outputs": [],
      "source": [
        "max_strain = MaxStrainCriterion()\nmax_stress = MaxStressCriterion()\ncore_failure = CoreFailureCriterion()\n\ncfc = CombinedFailureCriterion(\n    name=\"Combined Failure Criterion\",\n    failure_criteria=[max_strain, max_stress, core_failure],\n)"
      ]
    },
    {
      "cell_type": "markdown",
      "metadata": {},
      "source": [
        "Create the composite model and configure its input.\n"
      ]
    },
    {
      "cell_type": "code",
      "execution_count": null,
      "metadata": {
        "collapsed": false
      },
      "outputs": [],
      "source": [
        "composite_model = CompositeModel(\n    composite_files=ContinuousFiberCompositesFiles(\n        rst=working_dir_path / rstfile_name,\n        composite={\n            \"shell\": CompositeDefinitionFiles(\n                definition=working_dir_path / composite_definition_h5_filename\n            ),\n        },\n        engineering_data=working_dir_path / matml_filename,\n    ),\n    default_unit_system=unit_systems.solver_nmm,\n    server=dpf_server,\n)"
      ]
    },
    {
      "cell_type": "markdown",
      "metadata": {},
      "source": [
        "Evaluate the failure criteria.\n"
      ]
    },
    {
      "cell_type": "code",
      "execution_count": null,
      "metadata": {
        "collapsed": false
      },
      "outputs": [],
      "source": [
        "output_all_elements = composite_model.evaluate_failure_criteria(cfc)"
      ]
    },
    {
      "cell_type": "markdown",
      "metadata": {},
      "source": [
        "Query and plot the results.\n"
      ]
    },
    {
      "cell_type": "code",
      "execution_count": null,
      "metadata": {
        "collapsed": false
      },
      "outputs": [],
      "source": [
        "irf_field = output_all_elements.get_field({\"failure_label\": FailureOutput.FAILURE_VALUE})\nirf_field.plot()\n\n# Close MAPDL instance\nmapdl.exit()"
      ]
    }
  ],
  "metadata": {
    "kernelspec": {
      "display_name": "Python 3",
      "language": "python",
      "name": "python3"
    },
    "language_info": {
      "codemirror_mode": {
        "name": "ipython",
        "version": 3
      },
      "file_extension": ".py",
      "mimetype": "text/x-python",
      "name": "python",
      "nbconvert_exporter": "python",
      "pygments_lexer": "ipython3",
      "version": "3.12.11"
    }
  },
  "nbformat": 4,
  "nbformat_minor": 0
}