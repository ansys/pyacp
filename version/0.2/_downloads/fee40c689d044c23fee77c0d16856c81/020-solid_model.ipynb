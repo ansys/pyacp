{
  "cells": [
    {
      "cell_type": "markdown",
      "metadata": {},
      "source": [
        "# Solid Model {#solid_model_example}\n\nThis example shows how to create and shape a solid model.\n\nThe solid model implements an extrusion algorithm which creates a\nlayered solid mesh based on the shell mesh and layup definition. This\nsolid mesh can be further processed by\n`.ExtrusionGuide`{.interpreted-text role=\"class\"},\n`.SnapToGeometry`{.interpreted-text role=\"class\"}, and\n`.CutOffGeometry`{.interpreted-text role=\"class\"}.\n"
      ]
    },
    {
      "cell_type": "markdown",
      "metadata": {},
      "source": [
        "Import the standard library and third-party dependencies.\n"
      ]
    },
    {
      "cell_type": "code",
      "execution_count": null,
      "metadata": {
        "collapsed": false
      },
      "outputs": [],
      "source": [
        "import pathlib\nimport tempfile\n\nimport pyvista"
      ]
    },
    {
      "cell_type": "markdown",
      "metadata": {},
      "source": [
        "Import the PyACP dependencies.\n"
      ]
    },
    {
      "cell_type": "code",
      "execution_count": null,
      "metadata": {
        "collapsed": false
      },
      "outputs": [],
      "source": [
        "from ansys.acp.core import (\n    CADGeometry,\n    CutOffGeometryOrientationType,\n    EdgeSetType,\n    ExtrusionGuideType,\n    SnapToGeometryOrientationType,\n    VirtualGeometry,\n    get_directions_plotter,\n    launch_acp,\n)\nfrom ansys.acp.core.extras import (\n    FLAT_PLATE_SOLID_CAMERA,\n    ExampleKeys,\n    get_example_file,\n    set_plot_theme,\n)"
      ]
    },
    {
      "cell_type": "markdown",
      "metadata": {},
      "source": [
        "Set the plot theme for the example. This is optional, and ensures that\nyou get the same plot style (theme, color map, etc.) as in the online\ndocumentation.\n"
      ]
    },
    {
      "cell_type": "code",
      "execution_count": null,
      "metadata": {
        "collapsed": false
      },
      "outputs": [],
      "source": [
        "set_plot_theme()"
      ]
    },
    {
      "cell_type": "markdown",
      "metadata": {},
      "source": [
        "# Load a minimal model\n"
      ]
    },
    {
      "cell_type": "code",
      "execution_count": null,
      "metadata": {
        "collapsed": false
      },
      "outputs": [],
      "source": [
        "tempdir = tempfile.TemporaryDirectory()\nWORKING_DIR = pathlib.Path(tempdir.name)\ninput_file = get_example_file(ExampleKeys.MINIMAL_FLAT_PLATE, WORKING_DIR)"
      ]
    },
    {
      "cell_type": "markdown",
      "metadata": {},
      "source": [
        "Launch the PyACP server and connect to it.\n"
      ]
    },
    {
      "cell_type": "code",
      "execution_count": null,
      "metadata": {
        "collapsed": false
      },
      "outputs": [],
      "source": [
        "acp = launch_acp()"
      ]
    },
    {
      "cell_type": "markdown",
      "metadata": {},
      "source": [
        "Load the model from the input file.\n"
      ]
    },
    {
      "cell_type": "code",
      "execution_count": null,
      "metadata": {
        "collapsed": false
      },
      "outputs": [],
      "source": [
        "model = acp.import_model(input_file)"
      ]
    },
    {
      "cell_type": "markdown",
      "metadata": {},
      "source": [
        "# Create a simple layup\n\nAdd more layers to the modeling ply so that it is easier to see the\neffects of the selection rules.\n"
      ]
    },
    {
      "cell_type": "code",
      "execution_count": null,
      "metadata": {
        "collapsed": false
      },
      "outputs": [],
      "source": [
        "modeling_ply = model.modeling_groups[\"modeling_group\"].modeling_plies[\"ply\"]\nmodeling_ply.number_of_layers = 3"
      ]
    },
    {
      "cell_type": "markdown",
      "metadata": {},
      "source": [
        "# Create an initial solid model\n\nBy default, the layup is extruded along the normal direction of the\nshell mesh.\n"
      ]
    },
    {
      "cell_type": "code",
      "execution_count": null,
      "metadata": {
        "collapsed": false
      },
      "outputs": [],
      "source": [
        "solid_model = model.create_solid_model(\n    name=\"Solid Model\",\n    element_sets=[model.element_sets[\"All_Elements\"]],\n)\n\nmodel.update()\n\n\ndef plot_model_with_geometry(cad_geometry: CADGeometry | None, cad_geom_opacity: float = 0.1):\n    \"\"\"Plot solid model and geometry.\"\"\"\n    plotter = pyvista.Plotter()\n    if cad_geometry:\n        geom_mesh = cad_geometry.visualization_mesh.to_pyvista()\n        plotter.add_mesh(geom_mesh, color=\"green\", opacity=cad_geom_opacity)\n        edges = geom_mesh.extract_feature_edges()\n        plotter.add_mesh(edges, color=\"white\", line_width=4)\n        plotter.add_mesh(edges, color=\"black\", line_width=2)\n    plotter.add_mesh(model.solid_mesh.to_pyvista(), show_edges=True)\n    plotter.camera_position = FLAT_PLATE_SOLID_CAMERA\n    plotter.show()\n\n\nplot_model_with_geometry(None)\n\n\ndef create_virtual_geometry_from_file(\n    example_key: ExampleKeys,\n) -> tuple[CADGeometry, VirtualGeometry]:\n    \"\"\"Create a CAD geometry and virtual geometry.\"\"\"\n    geometry_file = get_example_file(example_key, WORKING_DIR)\n    geometry_obj = model.create_cad_geometry()\n    geometry_obj.refresh(geometry_file)  # upload and load the geometry file\n    model.update()\n    virtual_geometry = model.create_virtual_geometry(\n        name=\"thickness_virtual_geometry\", cad_components=geometry_obj.root_shapes.values()\n    )\n    return geometry_obj, virtual_geometry"
      ]
    },
    {
      "cell_type": "markdown",
      "metadata": {},
      "source": [
        "# Snap the top to a geometry\n\nThe `.SnapToGeometry`{.interpreted-text role=\"class\"} allows to shape\nthe bottom or top of the solid model. First, import the geometry and\nthen add the snap-to feature to the solid model.\n"
      ]
    },
    {
      "cell_type": "code",
      "execution_count": null,
      "metadata": {
        "collapsed": false
      },
      "outputs": [],
      "source": [
        "snap_to_geom, snap_to_virtual_geom = create_virtual_geometry_from_file(ExampleKeys.SNAP_TO_GEOMETRY)\nsolid_model.create_snap_to_geometry(\n    name=\"Snap-to Geometry\",\n    cad_geometry=snap_to_virtual_geom,\n    orientation_type=SnapToGeometryOrientationType.TOP,\n    oriented_selection_set=model.oriented_selection_sets[\"oss\"],\n)\n\nmodel.update()\nplot_model_with_geometry(snap_to_geom, 0.5)"
      ]
    },
    {
      "cell_type": "markdown",
      "metadata": {},
      "source": [
        "# Shape the walls\n\nThe `.ExtrusionGuide`{.interpreted-text role=\"class\"} is used to shape\nthe side walls of the solid model. The feature can be defined by a\ndirection as shown here or through a geometry.\n"
      ]
    },
    {
      "cell_type": "code",
      "execution_count": null,
      "metadata": {
        "collapsed": false
      },
      "outputs": [],
      "source": [
        "edge_set = model.create_edge_set(\n    name=\"Edge Set\",\n    edge_set_type=EdgeSetType.BY_REFERENCE,\n    element_set=model.element_sets[\"All_Elements\"],\n    limit_angle=30,\n    origin=(0.05, 0, 0),\n)\nsolid_model.create_extrusion_guide(\n    name=\"Extrusion Guide\",\n    edge_set=edge_set,\n    extrusion_guide_type=ExtrusionGuideType.BY_DIRECTION,\n    direction=(-0.5, 1, 0),\n    radius=0.005,\n    depth=0.6,\n)\nmodel.update()\nplot_model_with_geometry(None)"
      ]
    },
    {
      "cell_type": "markdown",
      "metadata": {},
      "source": [
        "# Cut-off an edge\n\nThe `.CutOffGeometry`{.interpreted-text role=\"class\"} is used to crop\nelements from the solid model.\n"
      ]
    },
    {
      "cell_type": "code",
      "execution_count": null,
      "metadata": {
        "collapsed": false
      },
      "outputs": [],
      "source": [
        "cut_off_cad_geom, cut_off_virtual_geom = create_virtual_geometry_from_file(\n    ExampleKeys.CUT_OFF_GEOMETRY_SOLID_MODEL\n)\nsolid_model.create_cut_off_geometry(\n    name=\"Cut-off Geometry\",\n    cad_geometry=cut_off_virtual_geom,\n    orientation_type=CutOffGeometryOrientationType.UP,\n)\n\nmodel.update()\nplot_model_with_geometry(cut_off_cad_geom)"
      ]
    },
    {
      "cell_type": "markdown",
      "metadata": {},
      "source": [
        "# Plot results on the solid mesh\n\nThe plotting capabilities also support the visualization of ply-wise\nresults, such as directions or thicknesses as shown here.\n"
      ]
    },
    {
      "cell_type": "markdown",
      "metadata": {},
      "source": [
        "Get the analysis ply of interest\n"
      ]
    },
    {
      "cell_type": "code",
      "execution_count": null,
      "metadata": {
        "collapsed": false
      },
      "outputs": [],
      "source": [
        "ap = solid_model.analysis_plies[\"P2L1__ply\"]"
      ]
    },
    {
      "cell_type": "markdown",
      "metadata": {},
      "source": [
        "# Plot fiber directions\n"
      ]
    },
    {
      "cell_type": "code",
      "execution_count": null,
      "metadata": {
        "collapsed": false
      },
      "outputs": [],
      "source": [
        "direction_plotter = get_directions_plotter(\n    model=model,\n    mesh=ap.solid_mesh,\n    components=[\n        ap.elemental_data.fiber_direction,\n    ],\n    length_factor=10.0,\n    culling_factor=10,\n)\ndirection_plotter.add_mesh(model.solid_mesh.to_pyvista(), opacity=0.2, show_edges=False)\ndirection_plotter.camera_position = FLAT_PLATE_SOLID_CAMERA\ndirection_plotter.show()"
      ]
    },
    {
      "cell_type": "markdown",
      "metadata": {},
      "source": [
        "# Plot thicknesses\n"
      ]
    },
    {
      "cell_type": "code",
      "execution_count": null,
      "metadata": {
        "collapsed": false
      },
      "outputs": [],
      "source": [
        "thickness_data = ap.elemental_data.thickness\nthickness_pyvista_mesh = thickness_data.get_pyvista_mesh(mesh=ap.solid_mesh)  # type: ignore\nplotter = pyvista.Plotter()\nplotter.add_mesh(thickness_pyvista_mesh)\nplotter.add_mesh(model.solid_mesh.to_pyvista(), opacity=0.2, show_edges=False)\nplotter.camera_position = FLAT_PLATE_SOLID_CAMERA\nplotter.show()"
      ]
    }
  ],
  "metadata": {
    "kernelspec": {
      "display_name": "Python 3",
      "language": "python",
      "name": "python3"
    },
    "language_info": {
      "codemirror_mode": {
        "name": "ipython",
        "version": 3
      },
      "file_extension": ".py",
      "mimetype": "text/x-python",
      "name": "python",
      "nbconvert_exporter": "python",
      "pygments_lexer": "ipython3",
      "version": "3.12.11"
    }
  },
  "nbformat": 4,
  "nbformat_minor": 0
}