{
  "cells": [
    {
      "cell_type": "markdown",
      "metadata": {},
      "source": [
        "# Imported solid model {#imported_solid_model_example}\n\nThis example guides you through the definition of an\n`.ImportedSolidModel`{.interpreted-text role=\"class\"} which allows to\nmap the layup onto an external solid mesh. In contrast to the\n`.SolidModel`{.interpreted-text role=\"class\"}, the raw solid mesh of\n`.ImportedSolidModel`{.interpreted-text role=\"class\"} is loaded from an\nexternal source, such as a CDB file. In this example, the layup is\napplied onto a t-joint which consists of different parts such as shell,\nstringer, and bonding skins. The example only shows the PyACP part of\nthe setup. For a complete composite analysis, see\n`pymapdl_workflow_example`{.interpreted-text role=\"ref\"}.\n\nThis example starts from an ACP model with layup. It shows how to:\n\n-   Create an `.ImportedSolidModel`{.interpreted-text role=\"class\"} from\n    an external mesh.\n-   Define the `.LayupMappingObject`{.interpreted-text role=\"class\"} to\n    apply the layup onto the solid mesh.\n-   Scope plies to specific parts of the solid mesh.\n-   Visualize the mapped layup.\n\nIt is recommended to look at the Ansys help for all the details. This\nexample shows the basic setup only.\n"
      ]
    },
    {
      "cell_type": "markdown",
      "metadata": {},
      "source": [
        "Import the standard library and third-party dependencies.\n"
      ]
    },
    {
      "cell_type": "code",
      "execution_count": null,
      "metadata": {
        "collapsed": false
      },
      "outputs": [],
      "source": [
        "import pathlib\nimport tempfile\n\nimport pyvista"
      ]
    },
    {
      "cell_type": "markdown",
      "metadata": {},
      "source": [
        "Import the PyACP dependencies.\n"
      ]
    },
    {
      "cell_type": "code",
      "execution_count": null,
      "metadata": {
        "collapsed": false
      },
      "outputs": [],
      "source": [
        "from ansys.acp.core import ElementTechnology, LayupMappingRosetteSelectionMethod, launch_acp\nfrom ansys.acp.core.extras import ExampleKeys, get_example_file, set_plot_theme"
      ]
    },
    {
      "cell_type": "markdown",
      "metadata": {},
      "source": [
        "Set the plot theme for the example. This is optional, and ensures that\nyou get the same plot style (theme, color map, etc.) as in the online\ndocumentation.\n"
      ]
    },
    {
      "cell_type": "code",
      "execution_count": null,
      "metadata": {
        "collapsed": false
      },
      "outputs": [],
      "source": [
        "set_plot_theme()"
      ]
    },
    {
      "cell_type": "markdown",
      "metadata": {},
      "source": [
        "# Start ACP and load the model\n\nGet the example file from the server.\n"
      ]
    },
    {
      "cell_type": "code",
      "execution_count": null,
      "metadata": {
        "collapsed": false
      },
      "outputs": [],
      "source": [
        "tempdir = tempfile.TemporaryDirectory()\nWORKING_DIR = pathlib.Path(tempdir.name)\ninput_file = get_example_file(ExampleKeys.IMPORTED_SOLID_MODEL_ACPH5, WORKING_DIR)"
      ]
    },
    {
      "cell_type": "markdown",
      "metadata": {},
      "source": [
        "Launch the PyACP server and connect to it.\n"
      ]
    },
    {
      "cell_type": "code",
      "execution_count": null,
      "metadata": {
        "collapsed": false
      },
      "outputs": [],
      "source": [
        "acp = launch_acp()"
      ]
    },
    {
      "cell_type": "markdown",
      "metadata": {},
      "source": [
        "Load the model from an acph5 file\n"
      ]
    },
    {
      "cell_type": "code",
      "execution_count": null,
      "metadata": {
        "collapsed": false
      },
      "outputs": [],
      "source": [
        "model = acp.import_model(input_file)"
      ]
    },
    {
      "cell_type": "markdown",
      "metadata": {},
      "source": [
        "# Import external solid model\n\nGet the solid mesh file and create an ImportedSolidModel, load the\ninitial mesh and show the raw mesh without any mapping.\n\n::: hint\n::: title\nHint\n:::\n\nWhen plotting quadratic meshes with edges, PyVista shows internal\n(false) edges. To avoid this, you can use the\n`.extract_surface(nonlinear_subdivision=0)` call to extract a linearized\nsurface. Alternatively, you can use\n`.separate_cells().extract_feature_edges()` to obtain the edges as a\nseparate `pyvista.PolyData`{.interpreted-text role=\"py:class\"} object.\n\nFor more information, see this PyVista discussion:\n<https://github.com/pyvista/pyvista/discussions/5777>\n:::\n"
      ]
    },
    {
      "cell_type": "code",
      "execution_count": null,
      "metadata": {
        "collapsed": false
      },
      "outputs": [],
      "source": [
        "solid_mesh_file = get_example_file(ExampleKeys.IMPORTED_SOLID_MODEL_SOLID_MESH, WORKING_DIR)\nimported_solid_model = model.create_imported_solid_model(\n    name=\"Imported Solid Model\",\n)\nimported_solid_model.refresh(path=solid_mesh_file, format=\"ansys:h5\")\nimported_solid_model.import_initial_mesh()\nmodel.solid_mesh.to_pyvista().extract_surface(nonlinear_subdivision=0).plot(show_edges=True)"
      ]
    },
    {
      "cell_type": "markdown",
      "metadata": {},
      "source": [
        "The solid element sets are used as target for the mapping later. Here is\nthe full list and one is visualized.\n"
      ]
    },
    {
      "cell_type": "code",
      "execution_count": null,
      "metadata": {
        "collapsed": false
      },
      "outputs": [],
      "source": [
        "imported_solid_model.solid_element_sets.keys()\n\nsolid_eset_mesh = imported_solid_model.solid_element_sets[\n    \"mapping_target bonding skin right\"\n].solid_mesh\nplotter = pyvista.Plotter()\nplotter.add_mesh(solid_eset_mesh.to_pyvista())\nplotter.add_mesh(model.solid_mesh.to_pyvista(), opacity=0.2, show_edges=False)\nplotter.show()"
      ]
    },
    {
      "cell_type": "markdown",
      "metadata": {},
      "source": [
        "# Add mapping objects\n\nLink the layup (plies) of the top skin of the sandwich with the\ncorresponding named selections of the solid mesh and show the updated\nsolid model.\n"
      ]
    },
    {
      "cell_type": "code",
      "execution_count": null,
      "metadata": {
        "collapsed": false
      },
      "outputs": [],
      "source": [
        "solid_esets = imported_solid_model.solid_element_sets\n\nimported_solid_model.create_layup_mapping_object(\n    name=\"sandwich skin top\",\n    element_technology=ElementTechnology.LAYERED_ELEMENT,\n    shell_element_sets=[model.element_sets[\"els_sandwich_skin_top\"]],\n    entire_solid_mesh=False,\n    solid_element_sets=[solid_esets[\"mapping_target sandwich skin top\"]],\n)\n\nmodel.update()\nmodel.solid_mesh.to_pyvista().plot(show_edges=True)"
      ]
    },
    {
      "cell_type": "markdown",
      "metadata": {},
      "source": [
        "Show the mass of the solid model elements\n"
      ]
    },
    {
      "cell_type": "code",
      "execution_count": null,
      "metadata": {
        "collapsed": false
      },
      "outputs": [],
      "source": [
        "mass_data = model.elemental_data.mass\nassert mass_data is not None\nmass_data.get_pyvista_mesh(mesh=model.solid_mesh).plot(show_edges=True)"
      ]
    },
    {
      "cell_type": "markdown",
      "metadata": {},
      "source": [
        "Add other mapping objects\n"
      ]
    },
    {
      "cell_type": "code",
      "execution_count": null,
      "metadata": {
        "collapsed": false
      },
      "outputs": [],
      "source": [
        "imported_solid_model.create_layup_mapping_object(\n    name=\"sandwich skin bottom\",\n    element_technology=ElementTechnology.LAYERED_ELEMENT,\n    shell_element_sets=[model.element_sets[\"els_sandwich_skin_bottom\"]],\n    entire_solid_mesh=False,\n    solid_element_sets=[\n        imported_solid_model.solid_element_sets[\"mapping_target sandwich skin bottom\"]\n    ],\n)\n\nimported_solid_model.create_layup_mapping_object(\n    name=\"stringer\",\n    element_technology=ElementTechnology.LAYERED_ELEMENT,\n    shell_element_sets=[model.element_sets[\"els_stringer_skin_left\"]],\n    entire_solid_mesh=False,\n    solid_element_sets=[\n        solid_esets[v]\n        for v in [\n            \"mapping_target stringer honeycomb\",\n            \"mapping_target stringer skin left\",\n            \"mapping_target stringer skin right\",\n        ]\n    ],\n)\n\nimported_solid_model.create_layup_mapping_object(\n    name=\"bonding skin\",\n    element_technology=ElementTechnology.LAYERED_ELEMENT,\n    shell_element_sets=[\n        model.element_sets[v] for v in [\"els_bonding_skin_left\", \"els_bonding_skin_right\"]\n    ],\n    entire_solid_mesh=False,\n    solid_element_sets=[\n        solid_esets[v]\n        for v in [\"mapping_target bonding skin left\", \"mapping_target bonding skin right\"]\n    ],\n)"
      ]
    },
    {
      "cell_type": "markdown",
      "metadata": {},
      "source": [
        "Show intermediate result\n"
      ]
    },
    {
      "cell_type": "code",
      "execution_count": null,
      "metadata": {
        "collapsed": false
      },
      "outputs": [],
      "source": [
        "model.update()\nmodel.solid_mesh.to_pyvista().plot(show_edges=True)"
      ]
    },
    {
      "cell_type": "markdown",
      "metadata": {},
      "source": [
        "The mapping can also be done for specific plies as shown for the core\nmaterials.\n"
      ]
    },
    {
      "cell_type": "code",
      "execution_count": null,
      "metadata": {
        "collapsed": false
      },
      "outputs": [],
      "source": [
        "imported_solid_model.create_layup_mapping_object(\n    name=\"foam\",\n    element_technology=ElementTechnology.LAYERED_ELEMENT,\n    shell_element_sets=[\n        model.element_sets[v] for v in [\"els_foam_core_left\", \"els_foam_core_right\"]\n    ],\n    select_all_plies=False,\n    sequences=[model.modeling_groups[\"MG foam_core\"]],\n    entire_solid_mesh=False,\n    solid_element_sets=[solid_esets[\"mapping_target foam core\"]],\n    delete_lost_elements=False,\n    filler_material=model.materials[\"SAN Foam (81 kg m^-3)\"],\n    rosettes=[model.rosettes[\"Global Coordinate System\"]],\n    rosette_selection_method=LayupMappingRosetteSelectionMethod.MINIMUM_DISTANCE,\n)\n\nimported_solid_model.create_layup_mapping_object(\n    name=\"honeycomb\",\n    element_technology=ElementTechnology.LAYERED_ELEMENT,\n    shell_element_sets=[\n        model.element_sets[v] for v in [\"els_honeycomb_left\", \"els_honeycomb_right\"]\n    ],\n    select_all_plies=False,\n    sequences=[model.modeling_groups[\"MG honeycomb_core\"]],\n    entire_solid_mesh=False,\n    solid_element_sets=[solid_esets[\"mapping_target sandwich honeycomb\"]],\n    delete_lost_elements=False,\n    filler_material=model.materials[\"Honeycomb\"],\n    rosettes=[model.rosettes[\"Global Coordinate System\"]],\n    rosette_selection_method=LayupMappingRosetteSelectionMethod.MINIMUM_DISTANCE,\n)\nmodel.update()\nmodel.solid_mesh.to_pyvista().plot(show_edges=True)"
      ]
    },
    {
      "cell_type": "markdown",
      "metadata": {},
      "source": [
        "Add filler mapping objects where the solid mesh is \\\"filled\\\" with a\nsingle material. No plies from the layup are used here.\n"
      ]
    },
    {
      "cell_type": "code",
      "execution_count": null,
      "metadata": {
        "collapsed": false
      },
      "outputs": [],
      "source": [
        "imported_solid_model.create_layup_mapping_object(\n    name=\"resin\",\n    element_technology=ElementTechnology.LAYERED_ELEMENT,\n    shell_element_sets=[],\n    entire_solid_mesh=False,\n    solid_element_sets=[\n        solid_esets[v] for v in [\"mapping_target adhesive\", \"mapping_target adhesive stringer root\"]\n    ],\n    delete_lost_elements=False,\n    filler_material=model.materials[\"Resin Epoxy\"],\n    rosettes=[model.rosettes[\"Global Coordinate System\"]],\n    rosette_selection_method=LayupMappingRosetteSelectionMethod.MINIMUM_DISTANCE,\n)"
      ]
    },
    {
      "cell_type": "markdown",
      "metadata": {},
      "source": [
        "Show final solid mesh with mapped layup\n"
      ]
    },
    {
      "cell_type": "code",
      "execution_count": null,
      "metadata": {
        "collapsed": false
      },
      "outputs": [],
      "source": [
        "model.update()\nmodel.solid_mesh.to_pyvista().plot(show_edges=True)"
      ]
    },
    {
      "cell_type": "markdown",
      "metadata": {},
      "source": [
        "# Show extent and thickness of mapped plies\n\nUse `.print_model`{.interpreted-text role=\"func\"} to get the list of\nplies. After identifying the ply of interest, for example the thickness\ncan be visualized. Note that only ply-wise data of\n`.AnalysisPly`{.interpreted-text role=\"class\"} can be visualized on the\nsolid mesh. `.ProductionPly`{.interpreted-text role=\"class\"} and\n`.ModelingPly`{.interpreted-text role=\"class\"} cannot be visualized on\nthe solid mesh.\n"
      ]
    },
    {
      "cell_type": "code",
      "execution_count": null,
      "metadata": {
        "collapsed": false
      },
      "outputs": [],
      "source": [
        "ap = (\n    model.modeling_groups[\"MG bonding_skin_right\"]\n    .modeling_plies[\"ModelingPly.26\"]\n    .production_plies[\"ProductionPly.33\"]\n    .analysis_plies[\"P1L1__ModelingPly.26\"]\n)\nthickness_data = ap.elemental_data.thickness\nthickness_pyvista_mesh = thickness_data.get_pyvista_mesh(mesh=ap.solid_mesh)  # type: ignore\nplotter = pyvista.Plotter()\nplotter.add_mesh(thickness_pyvista_mesh)\nplotter.add_mesh(model.solid_mesh.to_pyvista(), opacity=0.2, show_edges=False)\nplotter.show()"
      ]
    },
    {
      "cell_type": "markdown",
      "metadata": {},
      "source": [
        "# Other features\n\nThe `.CutOffGeometry`{.interpreted-text role=\"class\"} can be used in\ncombination witt the `.ImportedSolidModel`{.interpreted-text\nrole=\"class\"} as well. See example\n`solid_model_example`{.interpreted-text role=\"ref\"} for more details.\nMore plotting capabilities are shown in the example\n`solid_model_example`{.interpreted-text role=\"ref\"} as well.\n\nAn example of an `.ImportedSolidModel`{.interpreted-text role=\"class\"}\nin combination with `.ImportedModelingPly`{.interpreted-text\nrole=\"class\"} is shown in `imported_plies_example`{.interpreted-text\nrole=\"ref\"}.\n\nThe solid mesh can be exported as CDB for MAPDL or to PyMechanical for\nfurther analysis. These workflows are shown in\n`pymapdl_workflow_example`{.interpreted-text role=\"ref\"} and\n`pymechanical_solid_example`{.interpreted-text role=\"ref\"}.\n"
      ]
    }
  ],
  "metadata": {
    "kernelspec": {
      "display_name": "Python 3",
      "language": "python",
      "name": "python3"
    },
    "language_info": {
      "codemirror_mode": {
        "name": "ipython",
        "version": 3
      },
      "file_extension": ".py",
      "mimetype": "text/x-python",
      "name": "python",
      "nbconvert_exporter": "python",
      "pygments_lexer": "ipython3",
      "version": "3.12.11"
    }
  },
  "nbformat": 4,
  "nbformat_minor": 0
}