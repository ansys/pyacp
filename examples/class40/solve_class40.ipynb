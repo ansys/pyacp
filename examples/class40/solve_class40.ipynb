{
 "cells": [
  {
   "cell_type": "code",
   "execution_count": null,
   "id": "5226d67e",
   "metadata": {},
   "outputs": [],
   "source": [
    "import os\n",
    "from ansys.acp.core import launch_acp, Client"
   ]
  },
  {
   "cell_type": "code",
   "execution_count": null,
   "id": "22b3d5cb",
   "metadata": {},
   "outputs": [],
   "source": [
    "SERVER_BIN_PATH = \"C:/ANSYSDev/acp/bin/release_with_debug_info/lib/acp_grpcserver.exe\""
   ]
  },
  {
   "cell_type": "code",
   "execution_count": null,
   "id": "0c4f1831",
   "metadata": {},
   "outputs": [],
   "source": [
    "server = launch_acp(SERVER_BIN_PATH)"
   ]
  },
  {
   "cell_type": "code",
   "execution_count": null,
   "id": "05cdfa57",
   "metadata": {},
   "outputs": [],
   "source": [
    "client = Client(server=server)"
   ]
  },
  {
   "cell_type": "code",
   "execution_count": null,
   "id": "90ef1c26",
   "metadata": {},
   "outputs": [],
   "source": [
    "# TODO: infer from file ending\n",
    "model = client.import_model(path=os.path.abspath(\"./class40.cdb\"), format=\"ansys:cdb\")"
   ]
  },
  {
   "cell_type": "code",
   "execution_count": null,
   "id": "52f8e74d",
   "metadata": {},
   "outputs": [],
   "source": [
    "model.update()"
   ]
  },
  {
   "cell_type": "code",
   "execution_count": null,
   "id": "4938c98c",
   "metadata": {},
   "outputs": [],
   "source": [
    "from ansys.api.acp.v0 import model_pb2, model_pb2_grpc"
   ]
  },
  {
   "cell_type": "code",
   "execution_count": null,
   "id": "12d50f77",
   "metadata": {},
   "outputs": [],
   "source": [
    "model_stub = model._get_stub()"
   ]
  },
  {
   "cell_type": "code",
   "execution_count": null,
   "id": "4a4d5870",
   "metadata": {},
   "outputs": [],
   "source": [
    "request = model_pb2.SaveAnalysisModelRequest(resource_path=model._resource_path, path=os.path.abspath(\"./results/class40_analysis_model.cdb\"))"
   ]
  },
  {
   "cell_type": "code",
   "execution_count": null,
   "id": "356610e4",
   "metadata": {},
   "outputs": [],
   "source": [
    "model_stub.SaveAnalysisModel(request)"
   ]
  },
  {
   "cell_type": "code",
   "execution_count": null,
   "id": "363b5844-6c1e-4df3-bf3b-31b9b69450b8",
   "metadata": {},
   "outputs": [],
   "source": [
    "import numpy as np\n",
    "from ansys.mapdl.core import launch_mapdl\n"
   ]
  },
  {
   "cell_type": "code",
   "execution_count": null,
   "id": "4ac40f66-502d-4322-b3ef-cd1fe3eb2629",
   "metadata": {},
   "outputs": [],
   "source": [
    "mapdl = launch_mapdl(additional_switches=\"-smp\")"
   ]
  },
  {
   "cell_type": "code",
   "execution_count": null,
   "id": "fb408ab7-3b43-44f1-9e6d-4ddfbd40460f",
   "metadata": {},
   "outputs": [],
   "source": [
    "mapdl.input(\"class40_analysis_model.cdb\")"
   ]
  },
  {
   "cell_type": "code",
   "execution_count": null,
   "id": "a82dd70b-f7f8-4aef-beb3-c38c91edde10",
   "metadata": {},
   "outputs": [],
   "source": [
    "mapdl.allsel()\n",
    "mapdl.slashsolu()\n",
    "mapdl.solve()"
   ]
  },
  {
   "cell_type": "code",
   "execution_count": null,
   "id": "e351d5cd-5812-4950-88b7-9c33a856e582",
   "metadata": {},
   "outputs": [],
   "source": [
    "mapdl.post1()\n",
    "mapdl.set(\"last\")\n",
    "mapdl.post_processing.plot_nodal_displacement(component=\"NORM\")"
   ]
  },
  {
   "cell_type": "code",
   "execution_count": null,
   "id": "c2d23511-ea6c-41ca-8791-383b0319b52f",
   "metadata": {},
   "outputs": [],
   "source": [
    "mapdl.post_processing.plot_nodal_displacement(component=\"NORM\")"
   ]
  },
  {
   "cell_type": "code",
   "execution_count": null,
   "id": "4165ab56-3d2b-44aa-be7c-465d05e0d82b",
   "metadata": {},
   "outputs": [],
   "source": []
  }
 ],
 "metadata": {},
 "nbformat": 4,
 "nbformat_minor": 5
}
