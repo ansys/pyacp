{
 "cells": [
  {
   "cell_type": "code",
   "execution_count": 1,
   "id": "5226d67e",
   "metadata": {},
   "outputs": [],
   "source": [
    "import os\n",
    "from ansys.acp.core import launch_acp, Client"
   ]
  },
  {
   "cell_type": "code",
   "execution_count": 2,
   "id": "22b3d5cb",
   "metadata": {},
   "outputs": [],
   "source": [
    "SERVER_BIN_PATH = \"D:/ANSYSDev/acp_03/bin/release_with_debug_info/lib/acp_grpcserver.exe\"\n",
    "WORKING_DIR = os.getcwd()"
   ]
  },
  {
   "cell_type": "code",
   "execution_count": 3,
   "id": "0c4f1831",
   "metadata": {},
   "outputs": [],
   "source": [
    "server = launch_acp(SERVER_BIN_PATH)"
   ]
  },
  {
   "cell_type": "code",
   "execution_count": 4,
   "id": "05cdfa57",
   "metadata": {},
   "outputs": [],
   "source": [
    "client = Client(server=server)"
   ]
  },
  {
   "cell_type": "code",
   "execution_count": 5,
   "id": "90ef1c26",
   "metadata": {
    "tags": []
   },
   "outputs": [
    {
     "name": "stdout",
     "output_type": "stream",
     "text": [
      "<ansys.acp.core._tree_objects.model.Model object at 0x00000250A72CC760>\n"
     ]
    }
   ],
   "source": [
    "# TODO: infer from file ending\n",
    "model = client.import_model(path=os.path.abspath(os.path.join(WORKING_DIR, \"class40.cdb\")), format=\"ansys:cdb\")\n",
    "print(model)"
   ]
  },
  {
   "cell_type": "code",
   "execution_count": 6,
   "id": "ca6b8902",
   "metadata": {},
   "outputs": [],
   "source": [
    "#Create the model (unit system is SI)\n",
    "corecell_81kg_5mm = model.create_fabric(name=\"Corecell 81kg\", thickness=0.005, material=model.materials[\"1\"])\n",
    "corecell_103kg_10mm = model.create_fabric(name=\"Corecell 103kg\", thickness=0.01, material=model.materials[\"2\"])\n",
    "eglass_ud_02mm = model.create_fabric(name=\"eglass UD\", thickness=0.0002, material=model.materials[\"3\"])\n",
    "\n",
    "ros_deck = model.create_rosette( name='ros_deck', \n",
    "                                origin=(-5.9334, -0.0481, 1.693) )\n",
    "ros_hull = model.create_rosette( name='ros_hull', \n",
    "                                origin = (-5.3711, -0.0506, -0.2551) )\n",
    "ros_bulkhead = model.create_rosette( name='ros_bulkhead', \n",
    "                                    origin = (-5.622, 0.0022, 0.0847), \n",
    "                                    dir1 = (0.0, 1.0, 0.0), \n",
    "                                    dir2 = (0.0, 0.0, 1.0) )\n",
    "ros_keeltower = model.create_rosette( name='ros_keeltower', \n",
    "                                     origin = (-6.0699, -0.0502, 0.623), \n",
    "                                     dir1 = (0.0, 0.0, 1.0) )\n",
    "\n",
    "oss_deck = model.create_oriented_selection_set(name='oss_deck', \n",
    "                                               orientation_point = (-5.3806, -0.0016, 1.6449), \n",
    "                                               orientation_direction = (0., 0., -1.), \n",
    "                                               element_sets=[model.element_sets['DECK']], \n",
    "                                               rosettes=[ros_deck])\n",
    "                                                             \n",
    "oss_hull = model.create_oriented_selection_set(name='oss_hull', \n",
    "                                               orientation_point = (-5.12, 0.1949, -0.2487), \n",
    "                                               orientation_direction = (0., 0., 1.), \n",
    "                                               element_sets=[model.element_sets['HULL_ALL']], \n",
    "                                               rosettes=[ros_hull])                                                     \n",
    "\n",
    "oss_bulkhead = model.create_oriented_selection_set(name='oss_bulkhead', \n",
    "                                                   orientation_point = (-5.622, -0.0465, -0.094), \n",
    "                                                   orientation_direction = (1., 0., 0.), \n",
    "                                                   element_sets=[model.element_sets['BULKHEAD_ALL']], \n",
    "                                                   rosettes=[ros_bulkhead])\n",
    "\n",
    "esets = [model.element_sets['KEELTOWER_AFT'],\n",
    "         model.element_sets['KEELTOWER_FRONT'],\n",
    "         model.element_sets['KEELTOWER_PORT'],\n",
    "         model.element_sets['KEELTOWER_STB']\n",
    "        ]\n",
    "\n",
    "oss_keeltower = model.create_oriented_selection_set(name='oss_keeltower', \n",
    "                                                    orientation_point = (-6.1019, 0.0001, 1.162), \n",
    "                                                    orientation_direction = (-1., 0., 0.), \n",
    "                                                    element_sets=esets, \n",
    "                                                    rosettes=[ros_keeltower])"
   ]
  },
  {
   "cell_type": "code",
   "execution_count": 7,
   "id": "2b1d2bfb-f5ea-481d-ad16-f9a88c99f8ed",
   "metadata": {},
   "outputs": [],
   "source": [
    "def add_ply(mg, name, ply_material, angle, oss):\n",
    "    #todo: pass angle\n",
    "    return mg.create_modeling_ply(name=name,\n",
    "                                  ply_material=ply_material,\n",
    "                                  oriented_selection_sets = oss)\n",
    "\n",
    "angles = [-90., -60., -45. -30., 0., 0., 30., 45., 60., 90.]\n",
    "\n",
    "#define plies for the HULL, DECK and BULKHEAD\n",
    "for mg_name in ['hull', 'deck', 'bulkhead']:\n",
    "    mg = model.create_modeling_group(name=mg_name)\n",
    "    oss_list = [model.oriented_selection_sets[\"oss_\"+mg_name]]\n",
    "    \n",
    "    for angle in angles:\n",
    "        add_ply(mg, \"eglass_ud_02mm_\"+str(angle), eglass_ud_02mm, angle, oss_list)\n",
    "        \n",
    "    add_ply(mg, \"corecell_103kg_10mm\", corecell_103kg_10mm, 0., oss_list)\n",
    "    \n",
    "    for angle in angles:\n",
    "        add_ply(mg, \"eglass_ud_02mm_\"+str(angle), eglass_ud_02mm, angle, oss_list)\n",
    "    \n",
    "#add plies to the keeltower\n",
    "mg = model.create_modeling_group(name='keeltower')\n",
    "oss_list = [model.oriented_selection_sets[\"oss_keeltower\"]]\n",
    "for angle in angles:\n",
    "    add_ply(mg, \"eglass_ud_02mm_\"+str(angle), eglass_ud_02mm, angle, oss_list)\n",
    "        \n",
    "add_ply(mg, \"corecell_81kg_5mm\", corecell_81kg_5mm, 0., oss_list)\n",
    "    \n",
    "for angle in angles:\n",
    "    add_ply(mg, \"eglass_ud_02mm_\"+str(angle), eglass_ud_02mm, angle, oss_list)"
   ]
  },
  {
   "cell_type": "code",
   "execution_count": 8,
   "id": "82a2ab47",
   "metadata": {},
   "outputs": [
    {
     "name": "stdout",
     "output_type": "stream",
     "text": [
      "4\n",
      "19\n",
      "19\n",
      "19\n",
      "19\n"
     ]
    }
   ],
   "source": [
    "print(len(model.modeling_groups))\n",
    "print(len(model.modeling_groups[\"hull\"].modeling_plies))\n",
    "print(len(model.modeling_groups[\"deck\"].modeling_plies))\n",
    "print(len(model.modeling_groups[\"bulkhead\"].modeling_plies))\n",
    "print(len(model.modeling_groups[\"keeltower\"].modeling_plies))"
   ]
  },
  {
   "cell_type": "code",
   "execution_count": 9,
   "id": "52f8e74d",
   "metadata": {},
   "outputs": [],
   "source": [
    "model.update()\n",
    "model.save(os.path.abspath(\"./results/class40.acph5\"), save_cache=True)"
   ]
  },
  {
   "cell_type": "code",
   "execution_count": 11,
   "id": "4938c98c",
   "metadata": {},
   "outputs": [],
   "source": [
    "model.save_analysis_model(os.path.abspath(\"./results/class40_analysis_model.cdb\"))"
   ]
  },
  {
   "cell_type": "code",
   "execution_count": 12,
   "id": "363b5844-6c1e-4df3-bf3b-31b9b69450b8",
   "metadata": {},
   "outputs": [],
   "source": [
    "import numpy as np\n",
    "from ansys.mapdl.core import launch_mapdl"
   ]
  },
  {
   "cell_type": "code",
   "execution_count": 13,
   "id": "4ac40f66-502d-4322-b3ef-cd1fe3eb2629",
   "metadata": {},
   "outputs": [],
   "source": [
    "mapdl = launch_mapdl(additional_switches=\"-smp\")"
   ]
  },
  {
   "cell_type": "code",
   "execution_count": 14,
   "id": "fb408ab7-3b43-44f1-9e6d-4ddfbd40460f",
   "metadata": {},
   "outputs": [
    {
     "data": {
      "text/plain": [
       "'\\n /INPUT FILE= D:\\\\ANSYSDev\\\\pyacp-private\\\\examples\\\\class40\\\\results\\\\class40_analysis_model.cdb  LINE=       0\\n ANSYS RELEASE 11.0    UP20070125       16:39:41    03/10/2009\\n\\n *** ANSYS - ENGINEERING ANALYSIS SYSTEM  RELEASE 2022 R1          22.1BETA ***\\n Ansys Mechanical Enterprise                       \\n 00000000  VERSION=WINDOWS x64   10:53:58  JUN 27, 2022 CP=      0.172\\n\\n                                                                               \\n\\n\\n\\n ** WARNING: PRE-RELEASE VERSION OF ANSYS 22.1BETA\\n  ANSYS,INC TESTING IS NOT COMPLETE - CHECK RESULTS CAREFULLY **\\n\\n          ***** ANSYS ANALYSIS DEFINITION (PREP7) *****\\n\\n\\n ***** ROUTINE COMPLETED *****  CP =         0.312\\n\\n\\n'"
      ]
     },
     "execution_count": 14,
     "metadata": {},
     "output_type": "execute_result"
    }
   ],
   "source": [
    "mapdl.input(os.path.join(WORKING_DIR,\"results\",\"class40_analysis_model.cdb\"))"
   ]
  },
  {
   "cell_type": "code",
   "execution_count": 15,
   "id": "a82dd70b-f7f8-4aef-beb3-c38c91edde10",
   "metadata": {
    "tags": []
   },
   "outputs": [
    {
     "data": {
      "text/plain": [
       "*****  ANSYS SOLVE    COMMAND  *****\n",
       "\n",
       " *** NOTE ***                            CP =       0.531   TIME= 10:53:59\n",
       " There is no title defined for this analysis.                            \n",
       "\n",
       " *** SELECTION OF ELEMENT TECHNOLOGIES FOR APPLICABLE ELEMENTS ***\n",
       "                ---GIVE SUGGESTIONS ONLY---\n",
       "\n",
       " ELEMENT TYPE         1 IS SHELL181. IT IS ASSOCIATED WITH ELASTOPLASTIC \n",
       " MATERIALS ONLY. KEYOPT(8) IS ALREADY SET AS SUGGESTED. KEYOPT(3)=2 \n",
       " IS SUGGESTED FOR HIGHER ACCURACY OF MEMBRANE STRESSES; OTHERWISE, \n",
       " KEYOPT(3)=0 IS SUGGESTED.\n",
       "\n",
       " ELEMENT TYPE         2 IS BEAM188 . KEYOPT(1)=1 IS SUGGESTED FOR NON-CIRCULAR CROSS\n",
       " SECTIONS AND KEYOPT(3)=2 IS ALWAYS SUGGESTED.\n",
       "\n",
       " ELEMENT TYPE         2 IS BEAM188 . KEYOPT(15) IS ALREADY SET AS SUGGESTED.\n",
       "\n",
       " ELEMENT TYPE         3 IS SHELL181. IT IS ASSOCIATED WITH ELASTOPLASTIC \n",
       " MATERIALS ONLY. KEYOPT(8) IS ALREADY SET AS SUGGESTED. KEYOPT(3)=2 \n",
       " IS SUGGESTED FOR HIGHER ACCURACY OF MEMBRANE STRESSES; OTHERWISE, \n",
       " KEYOPT(3)=0 IS SUGGESTED.\n",
       "\n",
       "\n",
       "\n",
       " *** ANSYS - ENGINEERING ANALYSIS SYSTEM  RELEASE 2022 R1          22.1BETA ***\n",
       " Ansys Mechanical Enterprise                       \n",
       " 00000000  VERSION=WINDOWS x64   10:54:00  JUN 27, 2022 CP=      0.562\n",
       "\n",
       "                                                                               \n",
       "\n",
       "\n",
       "\n",
       " ** WARNING: PRE-RELEASE VERSION OF ANSYS 22.1BETA\n",
       "  ANSYS,INC TESTING IS NOT COMPLETE - CHECK RESULTS CAREFULLY **\n",
       "\n",
       "                       S O L U T I O N   O P T I O N S\n",
       "\n",
       "   PROBLEM DIMENSIONALITY. . . . . . . . . . . . .3-D                  \n",
       "   DEGREES OF FREEDOM. . . . . . UX   UY   UZ   ROTX ROTY ROTZ\n",
       "   ANALYSIS TYPE . . . . . . . . . . . . . . . . .STATIC (STEADY-STATE)\n",
       "   GLOBALLY ASSEMBLED MATRIX . . . . . . . . . . .SYMMETRIC  \n",
       "\n",
       " *** NOTE ***                            CP =       0.594   TIME= 10:54:00\n",
       " Poisson's ratio PR input has been converted to NU input.                \n",
       "\n",
       " *** NOTE ***                            CP =       0.594   TIME= 10:54:00\n",
       " Present time 0 is less than or equal to the previous time.  Time will   \n",
       " default to 1.                                                           \n",
       "\n",
       " *** NOTE ***                            CP =       0.594   TIME= 10:54:00\n",
       " The conditions for direct assembly have been met.  No .emat or .erot    \n",
       " files will be produced.                                                 \n",
       "\n",
       "                      L O A D   S T E P   O P T I O N S\n",
       "\n",
       "   LOAD STEP NUMBER. . . . . . . . . . . . . . . .     1\n",
       "   TIME AT END OF THE LOAD STEP. . . . . . . . . .  1.0000    \n",
       "   NUMBER OF SUBSTEPS. . . . . . . . . . . . . . .     1\n",
       "   STEP CHANGE BOUNDARY CONDITIONS . . . . . . . .    NO\n",
       "   COPY INTEGRATION POINT VALUES TO NODE . . . . .   YES\n",
       "   PRINT OUTPUT CONTROLS . . . . . . . . . . . . .NO PRINTOUT\n",
       "   DATABASE OUTPUT CONTROLS. . . . . . . . . . . .ALL DATA WRITTEN\n",
       "                                                  FOR THE LAST SUBSTEP\n",
       "\n",
       "\n",
       " SOLUTION MONITORING INFO IS WRITTEN TO FILE= file.mntr                                                                                                                                                                                                                                                           \n",
       "\n",
       " *** NOTE ***                            CP =       0.750   TIME= 10:54:00\n",
       " Predictor is ON by default for structural elements with rotational      \n",
       " degrees of freedom.  Use the PRED,OFF command to turn the predictor     \n",
       " OFF if it adversely affects the convergence.                            \n",
       "\n",
       "\n",
       "\n",
       "                         ***********  PRECISE MASS SUMMARY  ***********\n",
       "\n",
       "   TOTAL RIGID BODY MASS MATRIX ABOUT ORIGIN\n",
       "               Translational mass               |   Coupled translational/rotational mass\n",
       "         324.96      -0.40253E-18  -0.14227E-17 |    0.49078E-17    211.44      -0.36088E-02\n",
       "       -0.47006E-18    324.96       0.11789E-16 |    -211.44       0.80907E-16   -2015.3    \n",
       "       -0.14337E-17   0.11735E-16    324.96     |    0.36088E-02    2015.3      -0.85575E-16\n",
       "     ------------------------------------------ | ------------------------------------------\n",
       "                                                |         Rotational mass (inertia)\n",
       "                                                |     759.66       0.20436E-01    1316.9    \n",
       "                                                |    0.20436E-01    13054.      -0.32469E-02\n",
       "                                                |     1316.9      -0.32469E-02    13218.    \n",
       "\n",
       "   TOTAL MASS =  324.96    \n",
       "     The mass principal axes coincide with the global Cartesian axes\n",
       "\n",
       "   CENTER OF MASS (X,Y,Z)=   -6.2017       0.11105E-04   0.65067    \n",
       "\n",
       "   TOTAL INERTIA ABOUT CENTER OF MASS\n",
       "         622.08      -0.19444E-02    5.6093    \n",
       "       -0.19444E-02    418.20      -0.89877E-03\n",
       "         5.6093      -0.89877E-03    719.59    \n",
       "\n",
       "   PRINCIPAL INERTIAS =    621.76        418.20        719.92    \n",
       "   ORIENTATION VECTORS OF THE INERTIA PRINCIPAL AXES IN GLOBAL CARTESIAN\n",
       "     ( 0.998,-0.000,-0.057) ( 0.000, 1.000, 0.000) ( 0.057,-0.000, 0.998) \n",
       "\n",
       "\n",
       "  *** MASS SUMMARY BY ELEMENT TYPE ***\n",
       "\n",
       "  TYPE      MASS\n",
       "     1   322.570    \n",
       "     2   1.65744    \n",
       "     3  0.729815    \n",
       "\n",
       " Range of element maximum matrix coefficients in global coordinates\n",
       " Maximum = 157805028 at element 15.                                      \n",
       " Minimum = 30715033.7 at element 12.                                     \n",
       "\n",
       "   *** ELEMENT MATRIX FORMULATION TIMES\n",
       "     TYPE    NUMBER   ENAME      TOTAL CP  AVE CP\n",
       "\n",
       "        1      3973  SHELL181      3.562   0.000897\n",
       "        2        88  BEAM188       0.000   0.000000\n",
       "        3        22  SHELL181      0.000   0.000000\n",
       " Time at end of element matrix formulation CP = 2.5625.                  \n",
       "\n",
       " SPARSE MATRIX DIRECT SOLVER.\n",
       "  Number of equations =       24096,    Maximum wavefront =     66\n",
       "  Memory allocated for solver              =    60.305 MB\n",
       "  Memory required for in-core solution     =    58.012 MB\n",
       "  Memory required for out-of-core solution =    26.350 MB\n",
       "\n",
       " *** NOTE ***                            CP =       2.812   TIME= 10:54:01\n",
       " The Sparse Matrix Solver is currently running in the in-core memory     \n",
       " mode.  This memory mode uses the most amount of memory in order to      \n",
       " avoid using the hard drive as much as possible, which most often        \n",
       " results in the fastest solution time.  This mode is recommended if      \n",
       " enough physical memory is present to accommodate all of the solver      \n",
       " data.                                                                   \n",
       " Sparse solver maximum pivot= 371125255 at node 1074 UX.                 \n",
       " Sparse solver minimum pivot= 2.06625746 at node 586 ROTZ.               \n",
       " Sparse solver minimum pivot in absolute value= 2.06625746 at node 586   \n",
       " ROTZ.                                                                   \n",
       "\n",
       "   *** ELEMENT RESULT CALCULATION TIMES\n",
       "     TYPE    NUMBER   ENAME      TOTAL CP  AVE CP\n",
       "\n",
       "        1      3973  SHELL181      7.812   0.001966\n",
       "        2        88  BEAM188       0.000   0.000000\n",
       "        3        22  SHELL181      0.000   0.000000\n",
       "\n",
       "   *** NODAL LOAD CALCULATION TIMES\n",
       "     TYPE    NUMBER   ENAME      TOTAL CP  AVE CP\n",
       "\n",
       "        1      3973  SHELL181      0.000   0.000000\n",
       "        2        88  BEAM188       0.000   0.000000\n",
       "        3        22  SHELL181      0.000   0.000000\n",
       " *** LOAD STEP     1   SUBSTEP     1  COMPLETED.    CUM ITER =      1\n",
       " *** TIME =   1.00000         TIME INC =   1.00000      NEW TRIANG MATRIX\n",
       "\n",
       "\n",
       " *** ANSYS BINARY FILE STATISTICS\n",
       "  BUFFER SIZE USED= 16384\n",
       "        8.562 MB WRITTEN ON ASSEMBLED MATRIX FILE: file.full\n",
       "       57.750 MB WRITTEN ON RESULTS FILE: file.rst"
      ]
     },
     "execution_count": 15,
     "metadata": {},
     "output_type": "execute_result"
    }
   ],
   "source": [
    "mapdl.allsel()\n",
    "mapdl.slashsolu()\n",
    "mapdl.solve()"
   ]
  },
  {
   "cell_type": "code",
   "execution_count": 16,
   "id": "e351d5cd-5812-4950-88b7-9c33a856e582",
   "metadata": {
    "tags": []
   },
   "outputs": [
    {
     "data": {
      "application/vnd.jupyter.widget-view+json": {
       "model_id": "ddd0d013004c4b89939f24eb413ca1ea",
       "version_major": 2,
       "version_minor": 0
      },
      "text/plain": [
       "ViewInteractiveWidget(height=768, layout=Layout(height='auto', width='100%'), width=1024)"
      ]
     },
     "metadata": {},
     "output_type": "display_data"
    }
   ],
   "source": [
    "mapdl.post1()\n",
    "mapdl.set(\"last\")\n",
    "mapdl.post_processing.plot_nodal_displacement(component=\"NORM\")"
   ]
  },
  {
   "cell_type": "code",
   "execution_count": 20,
   "id": "c2d23511-ea6c-41ca-8791-383b0319b52f",
   "metadata": {},
   "outputs": [
    {
     "data": {
      "application/vnd.jupyter.widget-view+json": {
       "model_id": "effc4da8a9d1439fa0e976b6cc793817",
       "version_major": 2,
       "version_minor": 0
      },
      "text/plain": [
       "ViewInteractiveWidget(height=768, layout=Layout(height='auto', width='100%'), width=1024)"
      ]
     },
     "metadata": {},
     "output_type": "display_data"
    }
   ],
   "source": [
    "mapdl.post_processing.plot_element_stress(\"X\")"
   ]
  },
  {
   "cell_type": "code",
   "execution_count": null,
   "id": "4165ab56-3d2b-44aa-be7c-465d05e0d82b",
   "metadata": {},
   "outputs": [],
   "source": []
  }
 ],
 "metadata": {
  "kernelspec": {
   "display_name": "Python 3 (ipykernel)",
   "language": "python",
   "name": "python3"
  },
  "language_info": {
   "codemirror_mode": {
    "name": "ipython",
    "version": 3
   },
   "file_extension": ".py",
   "mimetype": "text/x-python",
   "name": "python",
   "nbconvert_exporter": "python",
   "pygments_lexer": "ipython3",
   "version": "3.9.0"
  }
 },
 "nbformat": 4,
 "nbformat_minor": 5
}
