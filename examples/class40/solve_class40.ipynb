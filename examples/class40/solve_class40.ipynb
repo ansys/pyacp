{
 "cells": [
  {
   "cell_type": "code",
   "execution_count": null,
   "id": "5226d67e",
   "metadata": {},
   "outputs": [],
   "source": [
    "import os\n",
    "from ansys.acp.core import launch_acp, Client"
   ]
  },
  {
   "cell_type": "code",
   "execution_count": null,
   "id": "22b3d5cb",
   "metadata": {},
   "outputs": [],
   "source": [
    "SERVER_BIN_PATH = \"C:/ANSYSDev/acp/bin/release_with_debug_info/lib/acp_grpcserver.exe\""
   ]
  },
  {
   "cell_type": "code",
   "execution_count": null,
   "id": "0c4f1831",
   "metadata": {},
   "outputs": [],
   "source": [
    "server = launch_acp(SERVER_BIN_PATH)"
   ]
  },
  {
   "cell_type": "code",
   "execution_count": null,
   "id": "05cdfa57",
   "metadata": {},
   "outputs": [],
   "source": [
    "client = Client(server=server)"
   ]
  },
  {
   "cell_type": "code",
   "execution_count": null,
   "id": "90ef1c26",
   "metadata": {
    "tags": []
   },
   "outputs": [],
   "source": [
    "# TODO: infer from file ending\n",
    "model = client.import_model(path=os.path.abspath(\"./class40.cdb\"), format=\"ansys:cdb\")"
   ]
  },
  {
   "cell_type": "code",
   "execution_count": null,
   "id": "2b1d2bfb-f5ea-481d-ad16-f9a88c99f8ed",
   "metadata": {},
   "outputs": [],
   "source": [
    "#Create the model (unit system is SI)\n",
    "corecell_81kg_5mm = model.create_fabric(name=\"Corecell 81kg\", thickness=0.005, material=model.materials[\"1\"])\n",
    "corecell_103kg_10mm = model.create_fabric(name=\"Corecell 103kg\", thickness=0.01, material=model.materials[\"2\"])\n",
    "eglass_ud_02mm = model.create_fabric(name=\"eglass UD\", thickness=0.0002, material=model.materials[\"3\"])\n",
    "\n",
    "ros_deck = model.create_rosette( name='ros_deck', \n",
    "                                origin=(-5.9334, -0.0481, 1.693) )\n",
    "ros_hull = model.create_rosette( name='ros_hull', \n",
    "                                origin = (-5.3711, -0.0506, -0.2551) )\n",
    "ros_bulkhead = model.create_rosette( name='ros_bulkhead', \n",
    "                                    origin = (-5.622, 0.0022, 0.0847), \n",
    "                                    dir1 = (0.0, 1.0, 0.0), \n",
    "                                    dir2 = (0.0, 0.0, 1.0) )\n",
    "ros_keeltower = model.create_rosette( name='ros_keeltower', \n",
    "                                     origin = (-6.0699, -0.0502, 0.623), \n",
    "                                     dir1 = (0.0, 0.0, 1.0) )\n",
    "\n",
    "oss_deck = model.create_oriented_selection_set(name='oss_deck', \n",
    "                                               orientation_point = (-5.3806, -0.0016, 1.6449), \n",
    "                                               orientation_direction = (0., 0., -1.), \n",
    "                                               element_sets=[model.element_sets['DECK']], \n",
    "                                               rosettes=[ros_deck])\n",
    "                                                             \n",
    "oss_hull = model.create_oriented_selection_set(name='oss_hull', \n",
    "                                               orientation_point = (-5.12, 0.1949, -0.2487), \n",
    "                                               orientation_direction = (0., 0., 1.), \n",
    "                                               element_sets=[model.element_sets['HULL_ALL']], \n",
    "                                               rosettes=[ros_hull])                                                     \n",
    "\n",
    "oss_bulkhead = model.create_oriented_selection_set(name='oss_bulkhead', \n",
    "                                                   orientation_point = (-5.622, -0.0465, -0.094), \n",
    "                                                   orientation_direction = (1., 0., 0.), \n",
    "                                                   element_sets=[model.element_sets['BULKHEAD_ALL']], \n",
    "                                                   rosettes=[ros_bulkhead])\n",
    "\n",
    "esets = [model.element_sets['KEELTOWER_AFT'],\n",
    "         model.element_sets['KEELTOWER_FRONT'],\n",
    "         model.element_sets['KEELTOWER_PORT'],\n",
    "         model.element_sets['KEELTOWER_STB']\n",
    "        ]\n",
    "oss_keeltower = model.create_oriented_selection_set(name='oss_keeltower', \n",
    "                                                    orientation_point = (-6.1019, 0.0001, 1.162), \n",
    "                                                    orientation_direction = (-1., 0., 0.), \n",
    "                                                    element_sets=[esets], \n",
    "                                                    rosettes=[ros_keeltower])\n",
    "\n",
    "def add_ply(mg, name, ply_material, angle, oss):\n",
    "    #todo: pass angle\n",
    "    return mg.create_modeling_ply(name=name,\n",
    "                                  ply_material=ply_material,\n",
    "                                  oriented_selection_sets = oss)\n",
    "\n",
    "angles = [-90., -60., -45. -30., 0., 0., 30., 45., 60., 90.]\n",
    "\n",
    "#define plies for the HULL, DECK and BULKHEAD\n",
    "for mg_name in ['hull', 'deck', 'bulkhead']:\n",
    "    mg = model.create_modeling_group(name=mg_name)\n",
    "    oss_list = [model.oriented_selection_sets[\"oss_\"+mg_name]]\n",
    "    \n",
    "    for angle in angles:\n",
    "        add_ply(mg, \"eglass_ud_02mm_\"+str(angle), eglass_ud_02mm, oss_list)\n",
    "        \n",
    "    add_ply(mg, \"corecell_103kg_10mm\", corecell_103kg_10mm, oss_list)\n",
    "    \n",
    "    for angle in angles:\n",
    "        add_ply(mg, \"eglass_ud_02mm_\"+str(angle), eglass_ud_02mm, oss_list)\n",
    "    \n",
    "#add plies to the keeltower\n",
    "mg = model.create_modeling_group(name=keeltower)\n",
    "oss_list = [model.oriented_selection_sets[\"oss_keeltower\"]]\n",
    "for angle in angles:\n",
    "    add_ply(mg, \"eglass_ud_02mm_\"+str(angle), eglass_ud_02mm, oss_list)\n",
    "        \n",
    "add_ply(mg, \"corecell_81kg_5mm\", corecell_103kg_10mm, oss_list)\n",
    "    \n",
    "for angle in angles:\n",
    "    add_ply(mg, \"eglass_ud_02mm_\"+str(angle), eglass_ud_02mm, oss_list)"
   ]
  },
  {
   "cell_type": "code",
   "execution_count": null,
   "id": "52f8e74d",
   "metadata": {},
   "outputs": [],
   "source": [
    "model.update()"
   ]
  },
  {
   "cell_type": "code",
   "execution_count": null,
   "id": "4938c98c",
   "metadata": {},
   "outputs": [],
   "source": [
    "from ansys.api.acp.v0 import model_pb2, model_pb2_grpc"
   ]
  },
  {
   "cell_type": "code",
   "execution_count": null,
   "id": "89bf1632-741e-4fdb-a3b2-5cf3821de267",
   "metadata": {},
   "outputs": [],
   "source": [
    "model_stub = model._get_stub()"
   ]
  },
  {
   "cell_type": "code",
   "execution_count": null,
   "id": "4a4d5870",
   "metadata": {},
   "outputs": [],
   "source": [
    "request = model_pb2.SaveAnalysisModelRequest(resource_path=model._resource_path, path=os.path.abspath(\"./results/class40_analysis_model.cdb\"))"
   ]
  },
  {
   "cell_type": "code",
   "execution_count": null,
   "id": "356610e4",
   "metadata": {},
   "outputs": [],
   "source": [
    "model_stub.SaveAnalysisModel(request)"
   ]
  },
  {
   "cell_type": "code",
   "execution_count": null,
   "id": "363b5844-6c1e-4df3-bf3b-31b9b69450b8",
   "metadata": {},
   "outputs": [],
   "source": [
    "import numpy as np\n",
    "from ansys.mapdl.core import launch_mapdl\n"
   ]
  },
  {
   "cell_type": "code",
   "execution_count": null,
   "id": "4ac40f66-502d-4322-b3ef-cd1fe3eb2629",
   "metadata": {},
   "outputs": [],
   "source": [
    "mapdl = launch_mapdl(additional_switches=\"-smp\")"
   ]
  },
  {
   "cell_type": "code",
   "execution_count": null,
   "id": "fb408ab7-3b43-44f1-9e6d-4ddfbd40460f",
   "metadata": {},
   "outputs": [],
   "source": [
    "mapdl.input(\"class40_analysis_model.cdb\")"
   ]
  },
  {
   "cell_type": "code",
   "execution_count": null,
   "id": "a82dd70b-f7f8-4aef-beb3-c38c91edde10",
   "metadata": {
    "tags": []
   },
   "outputs": [],
   "source": [
    "mapdl.allsel()\n",
    "mapdl.slashsolu()\n",
    "mapdl.solve()"
   ]
  },
  {
   "cell_type": "code",
   "execution_count": null,
   "id": "e351d5cd-5812-4950-88b7-9c33a856e582",
   "metadata": {
    "tags": []
   },
   "outputs": [],
   "source": [
    "mapdl.post1()\n",
    "mapdl.set(\"last\")\n",
    "mapdl.post_processing.plot_nodal_displacement(component=\"NORM\")"
   ]
  },
  {
   "cell_type": "code",
   "execution_count": null,
   "id": "c2d23511-ea6c-41ca-8791-383b0319b52f",
   "metadata": {},
   "outputs": [],
   "source": [
    "mapdl.post_processing.plot_nodal_displacement(component=\"NORM\")"
   ]
  },
  {
   "cell_type": "code",
   "execution_count": null,
   "id": "4165ab56-3d2b-44aa-be7c-465d05e0d82b",
   "metadata": {},
   "outputs": [],
   "source": []
  }
 ],
 "metadata": {
  "kernelspec": {
   "display_name": "Python 3 (ipykernel)",
   "language": "python",
   "name": "python3"
  },
  "language_info": {
   "codemirror_mode": {
    "name": "ipython",
    "version": 3
   },
   "file_extension": ".py",
   "mimetype": "text/x-python",
   "name": "python",
   "nbconvert_exporter": "python",
   "pygments_lexer": "ipython3",
   "version": "3.9.12"
  }
 },
 "nbformat": 4,
 "nbformat_minor": 5
}
