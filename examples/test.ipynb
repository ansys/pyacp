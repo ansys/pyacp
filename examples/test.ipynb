{
 "cells": [
  {
   "cell_type": "code",
   "execution_count": null,
   "metadata": {},
   "outputs": [],
   "source": [
    "import os\n",
    "from ansys.acp.core import launch_acp, launch_acp_docker, Model, check_server, shutdown_server, wait_for_server"
   ]
  },
  {
   "cell_type": "code",
   "execution_count": null,
   "metadata": {},
   "outputs": [],
   "source": [
    "import logging\n",
    "logging.getLogger(\"ansys.acp.core\").setLevel(logging.DEBUG)"
   ]
  },
  {
   "cell_type": "code",
   "execution_count": null,
   "metadata": {},
   "outputs": [],
   "source": [
    "SERVER_BIN_PATH = \"C:/ANSYSDev/acp/bin/release_with_debug_info/lib/acp_grpcserver.exe\"\n",
    "MODEL_PATH = \"C:/ANSYSDev/acp_test_model_data/model_data/minimal_complete_model.acph5\"\n",
    "# MODEL_PATH = \"/home/container/acp_test_model_data/model_data/minimal_complete_model.acph5\"\n",
    "# MOUNT_DIRECTORY = \"/home/dgresch/ANSYSDev/acp_test_model_data/\"\n",
    "# MOUNT_DIRECTORY = r\"C:\\ANSYSDev\\acp_test_model_data\"\n",
    "# MODEL_PATH = \"/home/container/mounted_data/model_data/minimal_complete_model.acph5\""
   ]
  },
  {
   "cell_type": "code",
   "execution_count": null,
   "metadata": {},
   "outputs": [],
   "source": [
    "server = launch_acp(SERVER_BIN_PATH)\n",
    "# server = RemoteAcpServer(hostname=\"localhost\", port=50051)\n",
    "# server = launch_acp_docker(\n",
    "#     license_server=os.environ[\"ANSYSLMD_LICENSE_FILE\"], \n",
    "#     mount_directories={MOUNT_DIRECTORY: \"/home/container/mounted_data\"}\n",
    "# )"
   ]
  },
  {
   "cell_type": "code",
   "execution_count": null,
   "metadata": {},
   "outputs": [],
   "source": [
    "wait_for_server(server, timeout=30)"
   ]
  },
  {
   "cell_type": "code",
   "execution_count": null,
   "metadata": {},
   "outputs": [],
   "source": [
    "model = Model.from_file(path=MODEL_PATH, channel=server.channel)"
   ]
  },
  {
   "cell_type": "code",
   "execution_count": null,
   "metadata": {},
   "outputs": [],
   "source": [
    "for i in range(100):\n",
    "    model.create_modeling_group(name=f\"New Modeling Group {i}\")"
   ]
  },
  {
   "cell_type": "code",
   "execution_count": null,
   "metadata": {},
   "outputs": [],
   "source": [
    "mg = model.modeling_groups[\"New Modeling Group 23\"]"
   ]
  },
  {
   "cell_type": "code",
   "execution_count": null,
   "metadata": {},
   "outputs": [],
   "source": [
    "len(model.modeling_groups)"
   ]
  },
  {
   "cell_type": "code",
   "execution_count": null,
   "metadata": {},
   "outputs": [],
   "source": [
    "del model.modeling_groups[\"New Modeling Group 23\"]"
   ]
  },
  {
   "cell_type": "code",
   "execution_count": null,
   "metadata": {},
   "outputs": [],
   "source": [
    "len(model.modeling_groups)"
   ]
  },
  {
   "cell_type": "code",
   "execution_count": null,
   "metadata": {},
   "outputs": [],
   "source": [
    "model.minimum_analysis_ply_thickness = 1e-7"
   ]
  },
  {
   "cell_type": "code",
   "execution_count": null,
   "metadata": {},
   "outputs": [],
   "source": [
    "model.name"
   ]
  },
  {
   "cell_type": "code",
   "execution_count": null,
   "metadata": {},
   "outputs": [],
   "source": [
    "model.name = \"New Model Name\""
   ]
  },
  {
   "cell_type": "code",
   "execution_count": null,
   "metadata": {},
   "outputs": [],
   "source": [
    "model.update()"
   ]
  },
  {
   "cell_type": "code",
   "execution_count": null,
   "metadata": {},
   "outputs": [],
   "source": [
    "mg = model.create_modeling_group(name=\"My New Modeling Group\")"
   ]
  },
  {
   "cell_type": "code",
   "execution_count": null,
   "metadata": {},
   "outputs": [],
   "source": [
    "mg.name = \"other ModelingGroup Name\""
   ]
  },
  {
   "cell_type": "code",
   "execution_count": null,
   "metadata": {},
   "outputs": [],
   "source": [
    "for id, mg in model.modeling_groups.items():\n",
    "    print(mg.name)"
   ]
  },
  {
   "cell_type": "code",
   "execution_count": null,
   "metadata": {},
   "outputs": [],
   "source": [
    "server"
   ]
  },
  {
   "cell_type": "code",
   "execution_count": null,
   "metadata": {},
   "outputs": [],
   "source": [
    "shutdown_server(server)"
   ]
  },
  {
   "cell_type": "code",
   "execution_count": null,
   "metadata": {},
   "outputs": [],
   "source": [
    "check_server(server)"
   ]
  },
  {
   "cell_type": "code",
   "execution_count": null,
   "metadata": {},
   "outputs": [],
   "source": []
  }
 ],
 "metadata": {
  "vscode": {
   "interpreter": {
    "hash": "07ff46dd4df845918f87877b5a287d764e0a552c510f27936647ba147b2097a7"
   }
  }
 },
 "nbformat": 4,
 "nbformat_minor": 2
}
