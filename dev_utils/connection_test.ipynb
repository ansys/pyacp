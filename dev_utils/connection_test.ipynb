{
 "cells": [
  {
   "attachments": {},
   "cell_type": "markdown",
   "metadata": {},
   "source": [
    "# PyACP performance test with slower network"
   ]
  },
  {
   "attachments": {},
   "cell_type": "markdown",
   "metadata": {},
   "source": [
    "This notebook tests the PyACP performance when run with a slower network connection. It uses the Linux ``tc-netem`` command to emulate a slower (latency- and bandwidth-restricted) network in a Docker container."
   ]
  },
  {
   "cell_type": "markdown",
   "metadata": {},
   "source": [
    "---\n",
    "**NOTE**\n",
    "\n",
    "- not all Linux kernels support ``tc-netem``. For example, it cannot be run on WSL2.\n",
    "- this notebook may become outdated as the PyACP codebase evolves. It is not regularly checked for compatibility, and may need to be updated."
   ]
  },
  {
   "attachments": {},
   "cell_type": "markdown",
   "metadata": {},
   "source": [
    "## Build docker image"
   ]
  },
  {
   "cell_type": "code",
   "execution_count": null,
   "metadata": {},
   "outputs": [],
   "source": [
    "!DOCKER_BUILDKIT=1 docker build --tag pyacp-benchmark-runner -f ../dockerfiles/ConnectionTest.Dockerfile ."
   ]
  },
  {
   "attachments": {},
   "cell_type": "markdown",
   "metadata": {},
   "source": [
    "## Launch servers"
   ]
  },
  {
   "cell_type": "code",
   "execution_count": null,
   "metadata": {},
   "outputs": [],
   "source": [
    "import ansys.acp.core as pyacp"
   ]
  },
  {
   "cell_type": "code",
   "execution_count": null,
   "metadata": {},
   "outputs": [],
   "source": [
    "slow_launch = pyacp.DockerComposeLaunchConfig(\n",
    "    image_name_pyacp=\"pyacp-benchmark-runner\",\n",
    "    compose_file=\"../docker-compose/docker-compose-benchmark.yaml\",\n",
    "    environment_variables={\"PYACP_DELAY\": \"200ms\", \"PYACP_RATE\": \"1mbit\"},\n",
    ")\n",
    "normal_launch = pyacp.DockerComposeLaunchConfig()\n"
   ]
  },
  {
   "cell_type": "code",
   "execution_count": null,
   "metadata": {},
   "outputs": [],
   "source": [
    "slow_acp = pyacp.launch_acp(config=slow_launch)"
   ]
  },
  {
   "cell_type": "code",
   "execution_count": null,
   "metadata": {},
   "outputs": [],
   "source": [
    "normal_acp = pyacp.launch_acp(config=normal_launch)"
   ]
  },
  {
   "attachments": {},
   "cell_type": "markdown",
   "metadata": {},
   "source": [
    "## Run example"
   ]
  },
  {
   "cell_type": "code",
   "execution_count": null,
   "metadata": {},
   "outputs": [],
   "source": [
    "def run_example(acp_instance):\n",
    "    f = acp_instance.upload_file(local_path=\"../examples/data/class40/class40.cdb\")\n",
    "    m = acp_instance.import_model(path=f, format=\"ansys:cdb\")\n",
    "    mg = m.create_modeling_group()\n",
    "    for _ in range(100):\n",
    "        mg.create_modeling_ply()\n",
    "    acp_instance.clear()"
   ]
  },
  {
   "cell_type": "code",
   "execution_count": null,
   "metadata": {},
   "outputs": [],
   "source": [
    "run_example(normal_acp)"
   ]
  },
  {
   "cell_type": "code",
   "execution_count": null,
   "metadata": {},
   "outputs": [],
   "source": [
    "run_example(slow_acp)"
   ]
  },
  {
   "cell_type": "code",
   "execution_count": null,
   "metadata": {},
   "outputs": [],
   "source": []
  }
 ],
 "metadata": {},
 "nbformat": 4,
 "nbformat_minor": 2
}
