{
 "cells": [
  {
   "attachments": {},
   "cell_type": "markdown",
   "metadata": {},
   "source": [
    "# PyACP performance test with slower network"
   ]
  },
  {
   "attachments": {},
   "cell_type": "markdown",
   "metadata": {},
   "source": [
    "This notebook tests the PyACP performance when run with a slower network connection. It uses the Linux ``tc-netem`` command to emulate a slower (latency- and bandwidth-restricted) network in a Docker container.\n",
    "\n",
    "Note that not all Linux kernels support ``tc-netem``: For example, it cannot be run on WSL2."
   ]
  },
  {
   "attachments": {},
   "cell_type": "markdown",
   "metadata": {},
   "source": [
    "## Build docker image"
   ]
  },
  {
   "cell_type": "code",
   "execution_count": null,
   "metadata": {},
   "outputs": [],
   "source": [
    "!DOCKER_BUILDKIT=1 docker build --tag pyacp-connectiontest -f ../dockerfiles/ConnectionTest.Dockerfile ."
   ]
  },
  {
   "attachments": {},
   "cell_type": "markdown",
   "metadata": {},
   "source": [
    "## Launch servers"
   ]
  },
  {
   "cell_type": "code",
   "execution_count": null,
   "metadata": {},
   "outputs": [],
   "source": [
    "import ansys.acp.core as pyacp"
   ]
  },
  {
   "cell_type": "code",
   "execution_count": null,
   "metadata": {},
   "outputs": [],
   "source": [
    "slow_launch = pyacp.DockerComposeLaunchConfig(\n",
    "    image_name_pyacp=\"pyacp-connectiontest\",\n",
    "    compose_file=\"../docker-compose/docker-compose-connectiontest.yaml\",\n",
    "    environment_variables={\"PYACP_DELAY\": \"200ms\", \"PYACP_RATE\": \"1mbit\"},\n",
    ")\n",
    "normal_launch = pyacp.DockerComposeLaunchConfig()\n"
   ]
  },
  {
   "cell_type": "code",
   "execution_count": null,
   "metadata": {},
   "outputs": [],
   "source": [
    "slow_server = pyacp.launch_acp(config=slow_launch)\n",
    "normal_server = pyacp.launch_acp(config=normal_launch)"
   ]
  },
  {
   "cell_type": "code",
   "execution_count": null,
   "metadata": {},
   "outputs": [],
   "source": [
    "slow_server.wait(timeout=30)\n",
    "normal_server.wait(timeout=30)"
   ]
  },
  {
   "cell_type": "code",
   "execution_count": null,
   "metadata": {},
   "outputs": [],
   "source": [
    "client_slow = pyacp.Client(slow_server)\n",
    "client_normal = pyacp.Client(normal_server)"
   ]
  },
  {
   "attachments": {},
   "cell_type": "markdown",
   "metadata": {},
   "source": [
    "## Run example"
   ]
  },
  {
   "cell_type": "code",
   "execution_count": null,
   "metadata": {},
   "outputs": [],
   "source": [
    "def run_example(client):\n",
    "    f = client.upload_file(local_path=\"../examples/data/class40/class40.cdb\")\n",
    "    m = client.import_model(path=f, format=\"ansys:cdb\")\n",
    "    mg = m.create_modeling_group()\n",
    "    for _ in range(100):\n",
    "        mg.create_modeling_ply()\n",
    "    client.clear()"
   ]
  },
  {
   "cell_type": "code",
   "execution_count": null,
   "metadata": {},
   "outputs": [],
   "source": [
    "run_example(client_normal)"
   ]
  },
  {
   "cell_type": "code",
   "execution_count": null,
   "metadata": {},
   "outputs": [],
   "source": [
    "run_example(client_slow)"
   ]
  },
  {
   "cell_type": "code",
   "execution_count": null,
   "metadata": {},
   "outputs": [],
   "source": []
  }
 ],
 "metadata": {},
 "nbformat": 4,
 "nbformat_minor": 2
}
